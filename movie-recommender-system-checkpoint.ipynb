{
 "cells": [
  {
   "cell_type": "code",
   "execution_count": 3,
   "id": "216292b3",
   "metadata": {},
   "outputs": [],
   "source": [
    "import numpy as np\n",
    "import pandas as pd"
   ]
  },
  {
   "cell_type": "code",
   "execution_count": 4,
   "id": "125db531",
   "metadata": {},
   "outputs": [],
   "source": [
    "movies = pd.read_csv('tmdb_5000_movies.csv.zip')\n",
    "credits = pd.read_csv('tmdb_5000_credits.csv.zip')"
   ]
  },
  {
   "cell_type": "code",
   "execution_count": 5,
   "id": "8705f0c3",
   "metadata": {},
   "outputs": [
    {
     "data": {
      "text/html": [
       "<div>\n",
       "<style scoped>\n",
       "    .dataframe tbody tr th:only-of-type {\n",
       "        vertical-align: middle;\n",
       "    }\n",
       "\n",
       "    .dataframe tbody tr th {\n",
       "        vertical-align: top;\n",
       "    }\n",
       "\n",
       "    .dataframe thead th {\n",
       "        text-align: right;\n",
       "    }\n",
       "</style>\n",
       "<table border=\"1\" class=\"dataframe\">\n",
       "  <thead>\n",
       "    <tr style=\"text-align: right;\">\n",
       "      <th></th>\n",
       "      <th>budget</th>\n",
       "      <th>genres</th>\n",
       "      <th>homepage</th>\n",
       "      <th>id</th>\n",
       "      <th>keywords</th>\n",
       "      <th>original_language</th>\n",
       "      <th>original_title</th>\n",
       "      <th>overview</th>\n",
       "      <th>popularity</th>\n",
       "      <th>production_companies</th>\n",
       "      <th>production_countries</th>\n",
       "      <th>release_date</th>\n",
       "      <th>revenue</th>\n",
       "      <th>runtime</th>\n",
       "      <th>spoken_languages</th>\n",
       "      <th>status</th>\n",
       "      <th>tagline</th>\n",
       "      <th>title</th>\n",
       "      <th>vote_average</th>\n",
       "      <th>vote_count</th>\n",
       "    </tr>\n",
       "  </thead>\n",
       "  <tbody>\n",
       "    <tr>\n",
       "      <th>0</th>\n",
       "      <td>237000000</td>\n",
       "      <td>[{\"id\": 28, \"name\": \"Action\"}, {\"id\": 12, \"nam...</td>\n",
       "      <td>http://www.avatarmovie.com/</td>\n",
       "      <td>19995</td>\n",
       "      <td>[{\"id\": 1463, \"name\": \"culture clash\"}, {\"id\":...</td>\n",
       "      <td>en</td>\n",
       "      <td>Avatar</td>\n",
       "      <td>In the 22nd century, a paraplegic Marine is di...</td>\n",
       "      <td>150.437577</td>\n",
       "      <td>[{\"name\": \"Ingenious Film Partners\", \"id\": 289...</td>\n",
       "      <td>[{\"iso_3166_1\": \"US\", \"name\": \"United States o...</td>\n",
       "      <td>2009-12-10</td>\n",
       "      <td>2787965087</td>\n",
       "      <td>162.0</td>\n",
       "      <td>[{\"iso_639_1\": \"en\", \"name\": \"English\"}, {\"iso...</td>\n",
       "      <td>Released</td>\n",
       "      <td>Enter the World of Pandora.</td>\n",
       "      <td>Avatar</td>\n",
       "      <td>7.2</td>\n",
       "      <td>11800</td>\n",
       "    </tr>\n",
       "  </tbody>\n",
       "</table>\n",
       "</div>"
      ],
      "text/plain": [
       "      budget                                             genres  \\\n",
       "0  237000000  [{\"id\": 28, \"name\": \"Action\"}, {\"id\": 12, \"nam...   \n",
       "\n",
       "                      homepage     id  \\\n",
       "0  http://www.avatarmovie.com/  19995   \n",
       "\n",
       "                                            keywords original_language  \\\n",
       "0  [{\"id\": 1463, \"name\": \"culture clash\"}, {\"id\":...                en   \n",
       "\n",
       "  original_title                                           overview  \\\n",
       "0         Avatar  In the 22nd century, a paraplegic Marine is di...   \n",
       "\n",
       "   popularity                               production_companies  \\\n",
       "0  150.437577  [{\"name\": \"Ingenious Film Partners\", \"id\": 289...   \n",
       "\n",
       "                                production_countries release_date     revenue  \\\n",
       "0  [{\"iso_3166_1\": \"US\", \"name\": \"United States o...   2009-12-10  2787965087   \n",
       "\n",
       "   runtime                                   spoken_languages    status  \\\n",
       "0    162.0  [{\"iso_639_1\": \"en\", \"name\": \"English\"}, {\"iso...  Released   \n",
       "\n",
       "                       tagline   title  vote_average  vote_count  \n",
       "0  Enter the World of Pandora.  Avatar           7.2       11800  "
      ]
     },
     "execution_count": 5,
     "metadata": {},
     "output_type": "execute_result"
    }
   ],
   "source": [
    "movies.head(1)"
   ]
  },
  {
   "cell_type": "code",
   "execution_count": 6,
   "id": "184d41fe",
   "metadata": {},
   "outputs": [
    {
     "data": {
      "text/html": [
       "<div>\n",
       "<style scoped>\n",
       "    .dataframe tbody tr th:only-of-type {\n",
       "        vertical-align: middle;\n",
       "    }\n",
       "\n",
       "    .dataframe tbody tr th {\n",
       "        vertical-align: top;\n",
       "    }\n",
       "\n",
       "    .dataframe thead th {\n",
       "        text-align: right;\n",
       "    }\n",
       "</style>\n",
       "<table border=\"1\" class=\"dataframe\">\n",
       "  <thead>\n",
       "    <tr style=\"text-align: right;\">\n",
       "      <th></th>\n",
       "      <th>movie_id</th>\n",
       "      <th>title</th>\n",
       "      <th>cast</th>\n",
       "      <th>crew</th>\n",
       "    </tr>\n",
       "  </thead>\n",
       "  <tbody>\n",
       "    <tr>\n",
       "      <th>0</th>\n",
       "      <td>19995</td>\n",
       "      <td>Avatar</td>\n",
       "      <td>[{\"cast_id\": 242, \"character\": \"Jake Sully\", \"...</td>\n",
       "      <td>[{\"credit_id\": \"52fe48009251416c750aca23\", \"de...</td>\n",
       "    </tr>\n",
       "  </tbody>\n",
       "</table>\n",
       "</div>"
      ],
      "text/plain": [
       "   movie_id   title                                               cast  \\\n",
       "0     19995  Avatar  [{\"cast_id\": 242, \"character\": \"Jake Sully\", \"...   \n",
       "\n",
       "                                                crew  \n",
       "0  [{\"credit_id\": \"52fe48009251416c750aca23\", \"de...  "
      ]
     },
     "execution_count": 6,
     "metadata": {},
     "output_type": "execute_result"
    }
   ],
   "source": [
    "credits.head(1)"
   ]
  },
  {
   "cell_type": "code",
   "execution_count": 7,
   "id": "5be54f48",
   "metadata": {},
   "outputs": [],
   "source": [
    "movies = movies.merge(credits,on='title')"
   ]
  },
  {
   "cell_type": "markdown",
   "id": "e14c6e08",
   "metadata": {},
   "source": [
    "above code line was for merging datasets on basis of movie title"
   ]
  },
  {
   "cell_type": "code",
   "execution_count": 8,
   "id": "c02f8b57",
   "metadata": {},
   "outputs": [
    {
     "data": {
      "text/html": [
       "<div>\n",
       "<style scoped>\n",
       "    .dataframe tbody tr th:only-of-type {\n",
       "        vertical-align: middle;\n",
       "    }\n",
       "\n",
       "    .dataframe tbody tr th {\n",
       "        vertical-align: top;\n",
       "    }\n",
       "\n",
       "    .dataframe thead th {\n",
       "        text-align: right;\n",
       "    }\n",
       "</style>\n",
       "<table border=\"1\" class=\"dataframe\">\n",
       "  <thead>\n",
       "    <tr style=\"text-align: right;\">\n",
       "      <th></th>\n",
       "      <th>budget</th>\n",
       "      <th>genres</th>\n",
       "      <th>homepage</th>\n",
       "      <th>id</th>\n",
       "      <th>keywords</th>\n",
       "      <th>original_language</th>\n",
       "      <th>original_title</th>\n",
       "      <th>overview</th>\n",
       "      <th>popularity</th>\n",
       "      <th>production_companies</th>\n",
       "      <th>...</th>\n",
       "      <th>runtime</th>\n",
       "      <th>spoken_languages</th>\n",
       "      <th>status</th>\n",
       "      <th>tagline</th>\n",
       "      <th>title</th>\n",
       "      <th>vote_average</th>\n",
       "      <th>vote_count</th>\n",
       "      <th>movie_id</th>\n",
       "      <th>cast</th>\n",
       "      <th>crew</th>\n",
       "    </tr>\n",
       "  </thead>\n",
       "  <tbody>\n",
       "    <tr>\n",
       "      <th>0</th>\n",
       "      <td>237000000</td>\n",
       "      <td>[{\"id\": 28, \"name\": \"Action\"}, {\"id\": 12, \"nam...</td>\n",
       "      <td>http://www.avatarmovie.com/</td>\n",
       "      <td>19995</td>\n",
       "      <td>[{\"id\": 1463, \"name\": \"culture clash\"}, {\"id\":...</td>\n",
       "      <td>en</td>\n",
       "      <td>Avatar</td>\n",
       "      <td>In the 22nd century, a paraplegic Marine is di...</td>\n",
       "      <td>150.437577</td>\n",
       "      <td>[{\"name\": \"Ingenious Film Partners\", \"id\": 289...</td>\n",
       "      <td>...</td>\n",
       "      <td>162.0</td>\n",
       "      <td>[{\"iso_639_1\": \"en\", \"name\": \"English\"}, {\"iso...</td>\n",
       "      <td>Released</td>\n",
       "      <td>Enter the World of Pandora.</td>\n",
       "      <td>Avatar</td>\n",
       "      <td>7.2</td>\n",
       "      <td>11800</td>\n",
       "      <td>19995</td>\n",
       "      <td>[{\"cast_id\": 242, \"character\": \"Jake Sully\", \"...</td>\n",
       "      <td>[{\"credit_id\": \"52fe48009251416c750aca23\", \"de...</td>\n",
       "    </tr>\n",
       "  </tbody>\n",
       "</table>\n",
       "<p>1 rows × 23 columns</p>\n",
       "</div>"
      ],
      "text/plain": [
       "      budget                                             genres  \\\n",
       "0  237000000  [{\"id\": 28, \"name\": \"Action\"}, {\"id\": 12, \"nam...   \n",
       "\n",
       "                      homepage     id  \\\n",
       "0  http://www.avatarmovie.com/  19995   \n",
       "\n",
       "                                            keywords original_language  \\\n",
       "0  [{\"id\": 1463, \"name\": \"culture clash\"}, {\"id\":...                en   \n",
       "\n",
       "  original_title                                           overview  \\\n",
       "0         Avatar  In the 22nd century, a paraplegic Marine is di...   \n",
       "\n",
       "   popularity                               production_companies  ... runtime  \\\n",
       "0  150.437577  [{\"name\": \"Ingenious Film Partners\", \"id\": 289...  ...   162.0   \n",
       "\n",
       "                                    spoken_languages    status  \\\n",
       "0  [{\"iso_639_1\": \"en\", \"name\": \"English\"}, {\"iso...  Released   \n",
       "\n",
       "                       tagline   title vote_average vote_count movie_id  \\\n",
       "0  Enter the World of Pandora.  Avatar          7.2      11800    19995   \n",
       "\n",
       "                                                cast  \\\n",
       "0  [{\"cast_id\": 242, \"character\": \"Jake Sully\", \"...   \n",
       "\n",
       "                                                crew  \n",
       "0  [{\"credit_id\": \"52fe48009251416c750aca23\", \"de...  \n",
       "\n",
       "[1 rows x 23 columns]"
      ]
     },
     "execution_count": 8,
     "metadata": {},
     "output_type": "execute_result"
    }
   ],
   "source": [
    "movies.head(1)"
   ]
  },
  {
   "cell_type": "code",
   "execution_count": 9,
   "id": "69a39e20",
   "metadata": {},
   "outputs": [],
   "source": [
    "#colums upon which ML is going to work\n",
    "#genres\n",
    "#id\n",
    "#keywords\n",
    "#title\n",
    "#overview\n",
    "# cast\n",
    "# crew\n",
    "movies = movies[['movie_id','title','overview','genres','keywords','cast','crew']]"
   ]
  },
  {
   "cell_type": "code",
   "execution_count": 10,
   "id": "e94d624f",
   "metadata": {},
   "outputs": [],
   "source": [
    "#movies['original_language'].value_counts()\n",
    "#it shows that most of the movies are in english language so this column \n",
    "# cannot be the critera to distinguish"
   ]
  },
  {
   "cell_type": "code",
   "execution_count": 11,
   "id": "ca3625b1",
   "metadata": {},
   "outputs": [
    {
     "name": "stdout",
     "output_type": "stream",
     "text": [
      "<class 'pandas.core.frame.DataFrame'>\n",
      "Int64Index: 4809 entries, 0 to 4808\n",
      "Data columns (total 7 columns):\n",
      " #   Column    Non-Null Count  Dtype \n",
      "---  ------    --------------  ----- \n",
      " 0   movie_id  4809 non-null   int64 \n",
      " 1   title     4809 non-null   object\n",
      " 2   overview  4806 non-null   object\n",
      " 3   genres    4809 non-null   object\n",
      " 4   keywords  4809 non-null   object\n",
      " 5   cast      4809 non-null   object\n",
      " 6   crew      4809 non-null   object\n",
      "dtypes: int64(1), object(6)\n",
      "memory usage: 300.6+ KB\n"
     ]
    }
   ],
   "source": [
    "movies.info()"
   ]
  },
  {
   "cell_type": "code",
   "execution_count": 12,
   "id": "7755d675",
   "metadata": {},
   "outputs": [
    {
     "data": {
      "text/html": [
       "<div>\n",
       "<style scoped>\n",
       "    .dataframe tbody tr th:only-of-type {\n",
       "        vertical-align: middle;\n",
       "    }\n",
       "\n",
       "    .dataframe tbody tr th {\n",
       "        vertical-align: top;\n",
       "    }\n",
       "\n",
       "    .dataframe thead th {\n",
       "        text-align: right;\n",
       "    }\n",
       "</style>\n",
       "<table border=\"1\" class=\"dataframe\">\n",
       "  <thead>\n",
       "    <tr style=\"text-align: right;\">\n",
       "      <th></th>\n",
       "      <th>movie_id</th>\n",
       "      <th>title</th>\n",
       "      <th>overview</th>\n",
       "      <th>genres</th>\n",
       "      <th>keywords</th>\n",
       "      <th>cast</th>\n",
       "      <th>crew</th>\n",
       "    </tr>\n",
       "  </thead>\n",
       "  <tbody>\n",
       "    <tr>\n",
       "      <th>0</th>\n",
       "      <td>19995</td>\n",
       "      <td>Avatar</td>\n",
       "      <td>In the 22nd century, a paraplegic Marine is di...</td>\n",
       "      <td>[{\"id\": 28, \"name\": \"Action\"}, {\"id\": 12, \"nam...</td>\n",
       "      <td>[{\"id\": 1463, \"name\": \"culture clash\"}, {\"id\":...</td>\n",
       "      <td>[{\"cast_id\": 242, \"character\": \"Jake Sully\", \"...</td>\n",
       "      <td>[{\"credit_id\": \"52fe48009251416c750aca23\", \"de...</td>\n",
       "    </tr>\n",
       "    <tr>\n",
       "      <th>1</th>\n",
       "      <td>285</td>\n",
       "      <td>Pirates of the Caribbean: At World's End</td>\n",
       "      <td>Captain Barbossa, long believed to be dead, ha...</td>\n",
       "      <td>[{\"id\": 12, \"name\": \"Adventure\"}, {\"id\": 14, \"...</td>\n",
       "      <td>[{\"id\": 270, \"name\": \"ocean\"}, {\"id\": 726, \"na...</td>\n",
       "      <td>[{\"cast_id\": 4, \"character\": \"Captain Jack Spa...</td>\n",
       "      <td>[{\"credit_id\": \"52fe4232c3a36847f800b579\", \"de...</td>\n",
       "    </tr>\n",
       "    <tr>\n",
       "      <th>2</th>\n",
       "      <td>206647</td>\n",
       "      <td>Spectre</td>\n",
       "      <td>A cryptic message from Bond’s past sends him o...</td>\n",
       "      <td>[{\"id\": 28, \"name\": \"Action\"}, {\"id\": 12, \"nam...</td>\n",
       "      <td>[{\"id\": 470, \"name\": \"spy\"}, {\"id\": 818, \"name...</td>\n",
       "      <td>[{\"cast_id\": 1, \"character\": \"James Bond\", \"cr...</td>\n",
       "      <td>[{\"credit_id\": \"54805967c3a36829b5002c41\", \"de...</td>\n",
       "    </tr>\n",
       "    <tr>\n",
       "      <th>3</th>\n",
       "      <td>49026</td>\n",
       "      <td>The Dark Knight Rises</td>\n",
       "      <td>Following the death of District Attorney Harve...</td>\n",
       "      <td>[{\"id\": 28, \"name\": \"Action\"}, {\"id\": 80, \"nam...</td>\n",
       "      <td>[{\"id\": 849, \"name\": \"dc comics\"}, {\"id\": 853,...</td>\n",
       "      <td>[{\"cast_id\": 2, \"character\": \"Bruce Wayne / Ba...</td>\n",
       "      <td>[{\"credit_id\": \"52fe4781c3a36847f81398c3\", \"de...</td>\n",
       "    </tr>\n",
       "    <tr>\n",
       "      <th>4</th>\n",
       "      <td>49529</td>\n",
       "      <td>John Carter</td>\n",
       "      <td>John Carter is a war-weary, former military ca...</td>\n",
       "      <td>[{\"id\": 28, \"name\": \"Action\"}, {\"id\": 12, \"nam...</td>\n",
       "      <td>[{\"id\": 818, \"name\": \"based on novel\"}, {\"id\":...</td>\n",
       "      <td>[{\"cast_id\": 5, \"character\": \"John Carter\", \"c...</td>\n",
       "      <td>[{\"credit_id\": \"52fe479ac3a36847f813eaa3\", \"de...</td>\n",
       "    </tr>\n",
       "  </tbody>\n",
       "</table>\n",
       "</div>"
      ],
      "text/plain": [
       "   movie_id                                     title  \\\n",
       "0     19995                                    Avatar   \n",
       "1       285  Pirates of the Caribbean: At World's End   \n",
       "2    206647                                   Spectre   \n",
       "3     49026                     The Dark Knight Rises   \n",
       "4     49529                               John Carter   \n",
       "\n",
       "                                            overview  \\\n",
       "0  In the 22nd century, a paraplegic Marine is di...   \n",
       "1  Captain Barbossa, long believed to be dead, ha...   \n",
       "2  A cryptic message from Bond’s past sends him o...   \n",
       "3  Following the death of District Attorney Harve...   \n",
       "4  John Carter is a war-weary, former military ca...   \n",
       "\n",
       "                                              genres  \\\n",
       "0  [{\"id\": 28, \"name\": \"Action\"}, {\"id\": 12, \"nam...   \n",
       "1  [{\"id\": 12, \"name\": \"Adventure\"}, {\"id\": 14, \"...   \n",
       "2  [{\"id\": 28, \"name\": \"Action\"}, {\"id\": 12, \"nam...   \n",
       "3  [{\"id\": 28, \"name\": \"Action\"}, {\"id\": 80, \"nam...   \n",
       "4  [{\"id\": 28, \"name\": \"Action\"}, {\"id\": 12, \"nam...   \n",
       "\n",
       "                                            keywords  \\\n",
       "0  [{\"id\": 1463, \"name\": \"culture clash\"}, {\"id\":...   \n",
       "1  [{\"id\": 270, \"name\": \"ocean\"}, {\"id\": 726, \"na...   \n",
       "2  [{\"id\": 470, \"name\": \"spy\"}, {\"id\": 818, \"name...   \n",
       "3  [{\"id\": 849, \"name\": \"dc comics\"}, {\"id\": 853,...   \n",
       "4  [{\"id\": 818, \"name\": \"based on novel\"}, {\"id\":...   \n",
       "\n",
       "                                                cast  \\\n",
       "0  [{\"cast_id\": 242, \"character\": \"Jake Sully\", \"...   \n",
       "1  [{\"cast_id\": 4, \"character\": \"Captain Jack Spa...   \n",
       "2  [{\"cast_id\": 1, \"character\": \"James Bond\", \"cr...   \n",
       "3  [{\"cast_id\": 2, \"character\": \"Bruce Wayne / Ba...   \n",
       "4  [{\"cast_id\": 5, \"character\": \"John Carter\", \"c...   \n",
       "\n",
       "                                                crew  \n",
       "0  [{\"credit_id\": \"52fe48009251416c750aca23\", \"de...  \n",
       "1  [{\"credit_id\": \"52fe4232c3a36847f800b579\", \"de...  \n",
       "2  [{\"credit_id\": \"54805967c3a36829b5002c41\", \"de...  \n",
       "3  [{\"credit_id\": \"52fe4781c3a36847f81398c3\", \"de...  \n",
       "4  [{\"credit_id\": \"52fe479ac3a36847f813eaa3\", \"de...  "
      ]
     },
     "execution_count": 12,
     "metadata": {},
     "output_type": "execute_result"
    }
   ],
   "source": [
    "movies.head()"
   ]
  },
  {
   "cell_type": "code",
   "execution_count": 16,
   "id": "daa7b3ea",
   "metadata": {},
   "outputs": [
    {
     "data": {
      "text/plain": [
       "movie_id    0\n",
       "title       0\n",
       "overview    0\n",
       "genres      0\n",
       "keywords    0\n",
       "cast        0\n",
       "crew        0\n",
       "dtype: int64"
      ]
     },
     "execution_count": 16,
     "metadata": {},
     "output_type": "execute_result"
    }
   ],
   "source": [
    "#to check if there is any column whose value is null or not known\n",
    "movies.isnull().sum()"
   ]
  },
  {
   "cell_type": "code",
   "execution_count": 17,
   "id": "a35201b9",
   "metadata": {},
   "outputs": [],
   "source": [
    "# if colum with null values are present then drop them\n",
    "movies.dropna(inplace=True)"
   ]
  },
  {
   "cell_type": "code",
   "execution_count": 18,
   "id": "91ee3a8f",
   "metadata": {},
   "outputs": [
    {
     "data": {
      "text/plain": [
       "0"
      ]
     },
     "execution_count": 18,
     "metadata": {},
     "output_type": "execute_result"
    }
   ],
   "source": [
    "# to check if there is any duplicate datas in the dataset\n",
    "movies.duplicated().sum()"
   ]
  },
  {
   "cell_type": "code",
   "execution_count": 19,
   "id": "0cf62d99",
   "metadata": {},
   "outputs": [
    {
     "data": {
      "text/plain": [
       "'[{\"id\": 28, \"name\": \"Action\"}, {\"id\": 12, \"name\": \"Adventure\"}, {\"id\": 14, \"name\": \"Fantasy\"}, {\"id\": 878, \"name\": \"Science Fiction\"}]'"
      ]
     },
     "execution_count": 19,
     "metadata": {},
     "output_type": "execute_result"
    }
   ],
   "source": [
    "movies.iloc[0].genres"
   ]
  },
  {
   "cell_type": "code",
   "execution_count": 20,
   "id": "a1a03848",
   "metadata": {},
   "outputs": [],
   "source": [
    "#'[{\"id\": 28, \"name\": \"Action\"}, {\"id\": 12, \"name\": \"Adventure\"}, {\"id\": 14, \"name\": \"Fantasy\"}, {\"id\": 878, \"name\": \"Science Fiction\"}]'\n",
    "# ['Action','Adventure','Fantasy','Scifi']"
   ]
  },
  {
   "cell_type": "code",
   "execution_count": 21,
   "id": "bd452e98",
   "metadata": {},
   "outputs": [],
   "source": [
    "import ast\n",
    "def convert(obj):\n",
    "    L = [] \n",
    "    for i in ast.literal_eval(obj):\n",
    "        L.append(i['name'])\n",
    "    return L"
   ]
  },
  {
   "cell_type": "code",
   "execution_count": 22,
   "id": "ca2a0467",
   "metadata": {},
   "outputs": [],
   "source": [
    "movies['genres'] = movies['genres'].apply(convert)"
   ]
  },
  {
   "cell_type": "code",
   "execution_count": 23,
   "id": "bcb12076",
   "metadata": {},
   "outputs": [
    {
     "data": {
      "text/html": [
       "<div>\n",
       "<style scoped>\n",
       "    .dataframe tbody tr th:only-of-type {\n",
       "        vertical-align: middle;\n",
       "    }\n",
       "\n",
       "    .dataframe tbody tr th {\n",
       "        vertical-align: top;\n",
       "    }\n",
       "\n",
       "    .dataframe thead th {\n",
       "        text-align: right;\n",
       "    }\n",
       "</style>\n",
       "<table border=\"1\" class=\"dataframe\">\n",
       "  <thead>\n",
       "    <tr style=\"text-align: right;\">\n",
       "      <th></th>\n",
       "      <th>movie_id</th>\n",
       "      <th>title</th>\n",
       "      <th>overview</th>\n",
       "      <th>genres</th>\n",
       "      <th>keywords</th>\n",
       "      <th>cast</th>\n",
       "      <th>crew</th>\n",
       "    </tr>\n",
       "  </thead>\n",
       "  <tbody>\n",
       "    <tr>\n",
       "      <th>0</th>\n",
       "      <td>19995</td>\n",
       "      <td>Avatar</td>\n",
       "      <td>In the 22nd century, a paraplegic Marine is di...</td>\n",
       "      <td>[Action, Adventure, Fantasy, Science Fiction]</td>\n",
       "      <td>[{\"id\": 1463, \"name\": \"culture clash\"}, {\"id\":...</td>\n",
       "      <td>[{\"cast_id\": 242, \"character\": \"Jake Sully\", \"...</td>\n",
       "      <td>[{\"credit_id\": \"52fe48009251416c750aca23\", \"de...</td>\n",
       "    </tr>\n",
       "    <tr>\n",
       "      <th>1</th>\n",
       "      <td>285</td>\n",
       "      <td>Pirates of the Caribbean: At World's End</td>\n",
       "      <td>Captain Barbossa, long believed to be dead, ha...</td>\n",
       "      <td>[Adventure, Fantasy, Action]</td>\n",
       "      <td>[{\"id\": 270, \"name\": \"ocean\"}, {\"id\": 726, \"na...</td>\n",
       "      <td>[{\"cast_id\": 4, \"character\": \"Captain Jack Spa...</td>\n",
       "      <td>[{\"credit_id\": \"52fe4232c3a36847f800b579\", \"de...</td>\n",
       "    </tr>\n",
       "    <tr>\n",
       "      <th>2</th>\n",
       "      <td>206647</td>\n",
       "      <td>Spectre</td>\n",
       "      <td>A cryptic message from Bond’s past sends him o...</td>\n",
       "      <td>[Action, Adventure, Crime]</td>\n",
       "      <td>[{\"id\": 470, \"name\": \"spy\"}, {\"id\": 818, \"name...</td>\n",
       "      <td>[{\"cast_id\": 1, \"character\": \"James Bond\", \"cr...</td>\n",
       "      <td>[{\"credit_id\": \"54805967c3a36829b5002c41\", \"de...</td>\n",
       "    </tr>\n",
       "    <tr>\n",
       "      <th>3</th>\n",
       "      <td>49026</td>\n",
       "      <td>The Dark Knight Rises</td>\n",
       "      <td>Following the death of District Attorney Harve...</td>\n",
       "      <td>[Action, Crime, Drama, Thriller]</td>\n",
       "      <td>[{\"id\": 849, \"name\": \"dc comics\"}, {\"id\": 853,...</td>\n",
       "      <td>[{\"cast_id\": 2, \"character\": \"Bruce Wayne / Ba...</td>\n",
       "      <td>[{\"credit_id\": \"52fe4781c3a36847f81398c3\", \"de...</td>\n",
       "    </tr>\n",
       "    <tr>\n",
       "      <th>4</th>\n",
       "      <td>49529</td>\n",
       "      <td>John Carter</td>\n",
       "      <td>John Carter is a war-weary, former military ca...</td>\n",
       "      <td>[Action, Adventure, Science Fiction]</td>\n",
       "      <td>[{\"id\": 818, \"name\": \"based on novel\"}, {\"id\":...</td>\n",
       "      <td>[{\"cast_id\": 5, \"character\": \"John Carter\", \"c...</td>\n",
       "      <td>[{\"credit_id\": \"52fe479ac3a36847f813eaa3\", \"de...</td>\n",
       "    </tr>\n",
       "  </tbody>\n",
       "</table>\n",
       "</div>"
      ],
      "text/plain": [
       "   movie_id                                     title  \\\n",
       "0     19995                                    Avatar   \n",
       "1       285  Pirates of the Caribbean: At World's End   \n",
       "2    206647                                   Spectre   \n",
       "3     49026                     The Dark Knight Rises   \n",
       "4     49529                               John Carter   \n",
       "\n",
       "                                            overview  \\\n",
       "0  In the 22nd century, a paraplegic Marine is di...   \n",
       "1  Captain Barbossa, long believed to be dead, ha...   \n",
       "2  A cryptic message from Bond’s past sends him o...   \n",
       "3  Following the death of District Attorney Harve...   \n",
       "4  John Carter is a war-weary, former military ca...   \n",
       "\n",
       "                                          genres  \\\n",
       "0  [Action, Adventure, Fantasy, Science Fiction]   \n",
       "1                   [Adventure, Fantasy, Action]   \n",
       "2                     [Action, Adventure, Crime]   \n",
       "3               [Action, Crime, Drama, Thriller]   \n",
       "4           [Action, Adventure, Science Fiction]   \n",
       "\n",
       "                                            keywords  \\\n",
       "0  [{\"id\": 1463, \"name\": \"culture clash\"}, {\"id\":...   \n",
       "1  [{\"id\": 270, \"name\": \"ocean\"}, {\"id\": 726, \"na...   \n",
       "2  [{\"id\": 470, \"name\": \"spy\"}, {\"id\": 818, \"name...   \n",
       "3  [{\"id\": 849, \"name\": \"dc comics\"}, {\"id\": 853,...   \n",
       "4  [{\"id\": 818, \"name\": \"based on novel\"}, {\"id\":...   \n",
       "\n",
       "                                                cast  \\\n",
       "0  [{\"cast_id\": 242, \"character\": \"Jake Sully\", \"...   \n",
       "1  [{\"cast_id\": 4, \"character\": \"Captain Jack Spa...   \n",
       "2  [{\"cast_id\": 1, \"character\": \"James Bond\", \"cr...   \n",
       "3  [{\"cast_id\": 2, \"character\": \"Bruce Wayne / Ba...   \n",
       "4  [{\"cast_id\": 5, \"character\": \"John Carter\", \"c...   \n",
       "\n",
       "                                                crew  \n",
       "0  [{\"credit_id\": \"52fe48009251416c750aca23\", \"de...  \n",
       "1  [{\"credit_id\": \"52fe4232c3a36847f800b579\", \"de...  \n",
       "2  [{\"credit_id\": \"54805967c3a36829b5002c41\", \"de...  \n",
       "3  [{\"credit_id\": \"52fe4781c3a36847f81398c3\", \"de...  \n",
       "4  [{\"credit_id\": \"52fe479ac3a36847f813eaa3\", \"de...  "
      ]
     },
     "execution_count": 23,
     "metadata": {},
     "output_type": "execute_result"
    }
   ],
   "source": [
    "movies.head()"
   ]
  },
  {
   "cell_type": "code",
   "execution_count": 24,
   "id": "13278128",
   "metadata": {},
   "outputs": [],
   "source": [
    "movies['keywords'] = movies['keywords'].apply(convert)"
   ]
  },
  {
   "cell_type": "code",
   "execution_count": 25,
   "id": "da303001",
   "metadata": {},
   "outputs": [
    {
     "data": {
      "text/html": [
       "<div>\n",
       "<style scoped>\n",
       "    .dataframe tbody tr th:only-of-type {\n",
       "        vertical-align: middle;\n",
       "    }\n",
       "\n",
       "    .dataframe tbody tr th {\n",
       "        vertical-align: top;\n",
       "    }\n",
       "\n",
       "    .dataframe thead th {\n",
       "        text-align: right;\n",
       "    }\n",
       "</style>\n",
       "<table border=\"1\" class=\"dataframe\">\n",
       "  <thead>\n",
       "    <tr style=\"text-align: right;\">\n",
       "      <th></th>\n",
       "      <th>movie_id</th>\n",
       "      <th>title</th>\n",
       "      <th>overview</th>\n",
       "      <th>genres</th>\n",
       "      <th>keywords</th>\n",
       "      <th>cast</th>\n",
       "      <th>crew</th>\n",
       "    </tr>\n",
       "  </thead>\n",
       "  <tbody>\n",
       "    <tr>\n",
       "      <th>0</th>\n",
       "      <td>19995</td>\n",
       "      <td>Avatar</td>\n",
       "      <td>In the 22nd century, a paraplegic Marine is di...</td>\n",
       "      <td>[Action, Adventure, Fantasy, Science Fiction]</td>\n",
       "      <td>[culture clash, future, space war, space colon...</td>\n",
       "      <td>[{\"cast_id\": 242, \"character\": \"Jake Sully\", \"...</td>\n",
       "      <td>[{\"credit_id\": \"52fe48009251416c750aca23\", \"de...</td>\n",
       "    </tr>\n",
       "    <tr>\n",
       "      <th>1</th>\n",
       "      <td>285</td>\n",
       "      <td>Pirates of the Caribbean: At World's End</td>\n",
       "      <td>Captain Barbossa, long believed to be dead, ha...</td>\n",
       "      <td>[Adventure, Fantasy, Action]</td>\n",
       "      <td>[ocean, drug abuse, exotic island, east india ...</td>\n",
       "      <td>[{\"cast_id\": 4, \"character\": \"Captain Jack Spa...</td>\n",
       "      <td>[{\"credit_id\": \"52fe4232c3a36847f800b579\", \"de...</td>\n",
       "    </tr>\n",
       "    <tr>\n",
       "      <th>2</th>\n",
       "      <td>206647</td>\n",
       "      <td>Spectre</td>\n",
       "      <td>A cryptic message from Bond’s past sends him o...</td>\n",
       "      <td>[Action, Adventure, Crime]</td>\n",
       "      <td>[spy, based on novel, secret agent, sequel, mi...</td>\n",
       "      <td>[{\"cast_id\": 1, \"character\": \"James Bond\", \"cr...</td>\n",
       "      <td>[{\"credit_id\": \"54805967c3a36829b5002c41\", \"de...</td>\n",
       "    </tr>\n",
       "    <tr>\n",
       "      <th>3</th>\n",
       "      <td>49026</td>\n",
       "      <td>The Dark Knight Rises</td>\n",
       "      <td>Following the death of District Attorney Harve...</td>\n",
       "      <td>[Action, Crime, Drama, Thriller]</td>\n",
       "      <td>[dc comics, crime fighter, terrorist, secret i...</td>\n",
       "      <td>[{\"cast_id\": 2, \"character\": \"Bruce Wayne / Ba...</td>\n",
       "      <td>[{\"credit_id\": \"52fe4781c3a36847f81398c3\", \"de...</td>\n",
       "    </tr>\n",
       "    <tr>\n",
       "      <th>4</th>\n",
       "      <td>49529</td>\n",
       "      <td>John Carter</td>\n",
       "      <td>John Carter is a war-weary, former military ca...</td>\n",
       "      <td>[Action, Adventure, Science Fiction]</td>\n",
       "      <td>[based on novel, mars, medallion, space travel...</td>\n",
       "      <td>[{\"cast_id\": 5, \"character\": \"John Carter\", \"c...</td>\n",
       "      <td>[{\"credit_id\": \"52fe479ac3a36847f813eaa3\", \"de...</td>\n",
       "    </tr>\n",
       "  </tbody>\n",
       "</table>\n",
       "</div>"
      ],
      "text/plain": [
       "   movie_id                                     title  \\\n",
       "0     19995                                    Avatar   \n",
       "1       285  Pirates of the Caribbean: At World's End   \n",
       "2    206647                                   Spectre   \n",
       "3     49026                     The Dark Knight Rises   \n",
       "4     49529                               John Carter   \n",
       "\n",
       "                                            overview  \\\n",
       "0  In the 22nd century, a paraplegic Marine is di...   \n",
       "1  Captain Barbossa, long believed to be dead, ha...   \n",
       "2  A cryptic message from Bond’s past sends him o...   \n",
       "3  Following the death of District Attorney Harve...   \n",
       "4  John Carter is a war-weary, former military ca...   \n",
       "\n",
       "                                          genres  \\\n",
       "0  [Action, Adventure, Fantasy, Science Fiction]   \n",
       "1                   [Adventure, Fantasy, Action]   \n",
       "2                     [Action, Adventure, Crime]   \n",
       "3               [Action, Crime, Drama, Thriller]   \n",
       "4           [Action, Adventure, Science Fiction]   \n",
       "\n",
       "                                            keywords  \\\n",
       "0  [culture clash, future, space war, space colon...   \n",
       "1  [ocean, drug abuse, exotic island, east india ...   \n",
       "2  [spy, based on novel, secret agent, sequel, mi...   \n",
       "3  [dc comics, crime fighter, terrorist, secret i...   \n",
       "4  [based on novel, mars, medallion, space travel...   \n",
       "\n",
       "                                                cast  \\\n",
       "0  [{\"cast_id\": 242, \"character\": \"Jake Sully\", \"...   \n",
       "1  [{\"cast_id\": 4, \"character\": \"Captain Jack Spa...   \n",
       "2  [{\"cast_id\": 1, \"character\": \"James Bond\", \"cr...   \n",
       "3  [{\"cast_id\": 2, \"character\": \"Bruce Wayne / Ba...   \n",
       "4  [{\"cast_id\": 5, \"character\": \"John Carter\", \"c...   \n",
       "\n",
       "                                                crew  \n",
       "0  [{\"credit_id\": \"52fe48009251416c750aca23\", \"de...  \n",
       "1  [{\"credit_id\": \"52fe4232c3a36847f800b579\", \"de...  \n",
       "2  [{\"credit_id\": \"54805967c3a36829b5002c41\", \"de...  \n",
       "3  [{\"credit_id\": \"52fe4781c3a36847f81398c3\", \"de...  \n",
       "4  [{\"credit_id\": \"52fe479ac3a36847f813eaa3\", \"de...  "
      ]
     },
     "execution_count": 25,
     "metadata": {},
     "output_type": "execute_result"
    }
   ],
   "source": [
    "movies.head()"
   ]
  },
  {
   "cell_type": "code",
   "execution_count": 26,
   "id": "88d8ca9c",
   "metadata": {},
   "outputs": [],
   "source": [
    "def convert3(obj):\n",
    "    List =[]\n",
    "    counter = 0\n",
    "    for i in ast.literal_eval(obj):\n",
    "        if counter!=3:\n",
    "            List.append(i['name'])\n",
    "        else:\n",
    "            break\n",
    "    return List"
   ]
  },
  {
   "cell_type": "code",
   "execution_count": 27,
   "id": "45ec0371",
   "metadata": {},
   "outputs": [],
   "source": [
    "#in this we only take first top three actors \n",
    "movies['cast'] = movies['cast'].apply(convert3)"
   ]
  },
  {
   "cell_type": "code",
   "execution_count": 28,
   "id": "5a2e8968",
   "metadata": {},
   "outputs": [
    {
     "data": {
      "text/html": [
       "<div>\n",
       "<style scoped>\n",
       "    .dataframe tbody tr th:only-of-type {\n",
       "        vertical-align: middle;\n",
       "    }\n",
       "\n",
       "    .dataframe tbody tr th {\n",
       "        vertical-align: top;\n",
       "    }\n",
       "\n",
       "    .dataframe thead th {\n",
       "        text-align: right;\n",
       "    }\n",
       "</style>\n",
       "<table border=\"1\" class=\"dataframe\">\n",
       "  <thead>\n",
       "    <tr style=\"text-align: right;\">\n",
       "      <th></th>\n",
       "      <th>movie_id</th>\n",
       "      <th>title</th>\n",
       "      <th>overview</th>\n",
       "      <th>genres</th>\n",
       "      <th>keywords</th>\n",
       "      <th>cast</th>\n",
       "      <th>crew</th>\n",
       "    </tr>\n",
       "  </thead>\n",
       "  <tbody>\n",
       "    <tr>\n",
       "      <th>0</th>\n",
       "      <td>19995</td>\n",
       "      <td>Avatar</td>\n",
       "      <td>In the 22nd century, a paraplegic Marine is di...</td>\n",
       "      <td>[Action, Adventure, Fantasy, Science Fiction]</td>\n",
       "      <td>[culture clash, future, space war, space colon...</td>\n",
       "      <td>[Sam Worthington, Zoe Saldana, Sigourney Weave...</td>\n",
       "      <td>[{\"credit_id\": \"52fe48009251416c750aca23\", \"de...</td>\n",
       "    </tr>\n",
       "    <tr>\n",
       "      <th>1</th>\n",
       "      <td>285</td>\n",
       "      <td>Pirates of the Caribbean: At World's End</td>\n",
       "      <td>Captain Barbossa, long believed to be dead, ha...</td>\n",
       "      <td>[Adventure, Fantasy, Action]</td>\n",
       "      <td>[ocean, drug abuse, exotic island, east india ...</td>\n",
       "      <td>[Johnny Depp, Orlando Bloom, Keira Knightley, ...</td>\n",
       "      <td>[{\"credit_id\": \"52fe4232c3a36847f800b579\", \"de...</td>\n",
       "    </tr>\n",
       "    <tr>\n",
       "      <th>2</th>\n",
       "      <td>206647</td>\n",
       "      <td>Spectre</td>\n",
       "      <td>A cryptic message from Bond’s past sends him o...</td>\n",
       "      <td>[Action, Adventure, Crime]</td>\n",
       "      <td>[spy, based on novel, secret agent, sequel, mi...</td>\n",
       "      <td>[Daniel Craig, Christoph Waltz, Léa Seydoux, R...</td>\n",
       "      <td>[{\"credit_id\": \"54805967c3a36829b5002c41\", \"de...</td>\n",
       "    </tr>\n",
       "    <tr>\n",
       "      <th>3</th>\n",
       "      <td>49026</td>\n",
       "      <td>The Dark Knight Rises</td>\n",
       "      <td>Following the death of District Attorney Harve...</td>\n",
       "      <td>[Action, Crime, Drama, Thriller]</td>\n",
       "      <td>[dc comics, crime fighter, terrorist, secret i...</td>\n",
       "      <td>[Christian Bale, Michael Caine, Gary Oldman, A...</td>\n",
       "      <td>[{\"credit_id\": \"52fe4781c3a36847f81398c3\", \"de...</td>\n",
       "    </tr>\n",
       "    <tr>\n",
       "      <th>4</th>\n",
       "      <td>49529</td>\n",
       "      <td>John Carter</td>\n",
       "      <td>John Carter is a war-weary, former military ca...</td>\n",
       "      <td>[Action, Adventure, Science Fiction]</td>\n",
       "      <td>[based on novel, mars, medallion, space travel...</td>\n",
       "      <td>[Taylor Kitsch, Lynn Collins, Samantha Morton,...</td>\n",
       "      <td>[{\"credit_id\": \"52fe479ac3a36847f813eaa3\", \"de...</td>\n",
       "    </tr>\n",
       "  </tbody>\n",
       "</table>\n",
       "</div>"
      ],
      "text/plain": [
       "   movie_id                                     title  \\\n",
       "0     19995                                    Avatar   \n",
       "1       285  Pirates of the Caribbean: At World's End   \n",
       "2    206647                                   Spectre   \n",
       "3     49026                     The Dark Knight Rises   \n",
       "4     49529                               John Carter   \n",
       "\n",
       "                                            overview  \\\n",
       "0  In the 22nd century, a paraplegic Marine is di...   \n",
       "1  Captain Barbossa, long believed to be dead, ha...   \n",
       "2  A cryptic message from Bond’s past sends him o...   \n",
       "3  Following the death of District Attorney Harve...   \n",
       "4  John Carter is a war-weary, former military ca...   \n",
       "\n",
       "                                          genres  \\\n",
       "0  [Action, Adventure, Fantasy, Science Fiction]   \n",
       "1                   [Adventure, Fantasy, Action]   \n",
       "2                     [Action, Adventure, Crime]   \n",
       "3               [Action, Crime, Drama, Thriller]   \n",
       "4           [Action, Adventure, Science Fiction]   \n",
       "\n",
       "                                            keywords  \\\n",
       "0  [culture clash, future, space war, space colon...   \n",
       "1  [ocean, drug abuse, exotic island, east india ...   \n",
       "2  [spy, based on novel, secret agent, sequel, mi...   \n",
       "3  [dc comics, crime fighter, terrorist, secret i...   \n",
       "4  [based on novel, mars, medallion, space travel...   \n",
       "\n",
       "                                                cast  \\\n",
       "0  [Sam Worthington, Zoe Saldana, Sigourney Weave...   \n",
       "1  [Johnny Depp, Orlando Bloom, Keira Knightley, ...   \n",
       "2  [Daniel Craig, Christoph Waltz, Léa Seydoux, R...   \n",
       "3  [Christian Bale, Michael Caine, Gary Oldman, A...   \n",
       "4  [Taylor Kitsch, Lynn Collins, Samantha Morton,...   \n",
       "\n",
       "                                                crew  \n",
       "0  [{\"credit_id\": \"52fe48009251416c750aca23\", \"de...  \n",
       "1  [{\"credit_id\": \"52fe4232c3a36847f800b579\", \"de...  \n",
       "2  [{\"credit_id\": \"54805967c3a36829b5002c41\", \"de...  \n",
       "3  [{\"credit_id\": \"52fe4781c3a36847f81398c3\", \"de...  \n",
       "4  [{\"credit_id\": \"52fe479ac3a36847f813eaa3\", \"de...  "
      ]
     },
     "execution_count": 28,
     "metadata": {},
     "output_type": "execute_result"
    }
   ],
   "source": [
    "movies.head()"
   ]
  },
  {
   "cell_type": "code",
   "execution_count": 29,
   "id": "1459052f",
   "metadata": {},
   "outputs": [
    {
     "data": {
      "text/plain": [
       "'[{\"credit_id\": \"52fe48009251416c750aca23\", \"department\": \"Editing\", \"gender\": 0, \"id\": 1721, \"job\": \"Editor\", \"name\": \"Stephen E. Rivkin\"}, {\"credit_id\": \"539c47ecc3a36810e3001f87\", \"department\": \"Art\", \"gender\": 2, \"id\": 496, \"job\": \"Production Design\", \"name\": \"Rick Carter\"}, {\"credit_id\": \"54491c89c3a3680fb4001cf7\", \"department\": \"Sound\", \"gender\": 0, \"id\": 900, \"job\": \"Sound Designer\", \"name\": \"Christopher Boyes\"}, {\"credit_id\": \"54491cb70e0a267480001bd0\", \"department\": \"Sound\", \"gender\": 0, \"id\": 900, \"job\": \"Supervising Sound Editor\", \"name\": \"Christopher Boyes\"}, {\"credit_id\": \"539c4a4cc3a36810c9002101\", \"department\": \"Production\", \"gender\": 1, \"id\": 1262, \"job\": \"Casting\", \"name\": \"Mali Finn\"}, {\"credit_id\": \"5544ee3b925141499f0008fc\", \"department\": \"Sound\", \"gender\": 2, \"id\": 1729, \"job\": \"Original Music Composer\", \"name\": \"James Horner\"}, {\"credit_id\": \"52fe48009251416c750ac9c3\", \"department\": \"Directing\", \"gender\": 2, \"id\": 2710, \"job\": \"Director\", \"name\": \"James Cameron\"}, {\"credit_id\": \"52fe48009251416c750ac9d9\", \"department\": \"Writing\", \"gender\": 2, \"id\": 2710, \"job\": \"Writer\", \"name\": \"James Cameron\"}, {\"credit_id\": \"52fe48009251416c750aca17\", \"department\": \"Editing\", \"gender\": 2, \"id\": 2710, \"job\": \"Editor\", \"name\": \"James Cameron\"}, {\"credit_id\": \"52fe48009251416c750aca29\", \"department\": \"Production\", \"gender\": 2, \"id\": 2710, \"job\": \"Producer\", \"name\": \"James Cameron\"}, {\"credit_id\": \"52fe48009251416c750aca3f\", \"department\": \"Writing\", \"gender\": 2, \"id\": 2710, \"job\": \"Screenplay\", \"name\": \"James Cameron\"}, {\"credit_id\": \"539c4987c3a36810ba0021a4\", \"department\": \"Art\", \"gender\": 2, \"id\": 7236, \"job\": \"Art Direction\", \"name\": \"Andrew Menzies\"}, {\"credit_id\": \"549598c3c3a3686ae9004383\", \"department\": \"Visual Effects\", \"gender\": 0, \"id\": 6690, \"job\": \"Visual Effects Producer\", \"name\": \"Jill Brooks\"}, {\"credit_id\": \"52fe48009251416c750aca4b\", \"department\": \"Production\", \"gender\": 1, \"id\": 6347, \"job\": \"Casting\", \"name\": \"Margery Simkin\"}, {\"credit_id\": \"570b6f419251417da70032fe\", \"department\": \"Art\", \"gender\": 2, \"id\": 6878, \"job\": \"Supervising Art Director\", \"name\": \"Kevin Ishioka\"}, {\"credit_id\": \"5495a0fac3a3686ae9004468\", \"department\": \"Sound\", \"gender\": 0, \"id\": 6883, \"job\": \"Music Editor\", \"name\": \"Dick Bernstein\"}, {\"credit_id\": \"54959706c3a3686af3003e81\", \"department\": \"Sound\", \"gender\": 0, \"id\": 8159, \"job\": \"Sound Effects Editor\", \"name\": \"Shannon Mills\"}, {\"credit_id\": \"54491d58c3a3680fb1001ccb\", \"department\": \"Sound\", \"gender\": 0, \"id\": 8160, \"job\": \"Foley\", \"name\": \"Dennie Thorpe\"}, {\"credit_id\": \"54491d6cc3a3680fa5001b2c\", \"department\": \"Sound\", \"gender\": 0, \"id\": 8163, \"job\": \"Foley\", \"name\": \"Jana Vance\"}, {\"credit_id\": \"52fe48009251416c750aca57\", \"department\": \"Costume & Make-Up\", \"gender\": 1, \"id\": 8527, \"job\": \"Costume Design\", \"name\": \"Deborah Lynn Scott\"}, {\"credit_id\": \"52fe48009251416c750aca2f\", \"department\": \"Production\", \"gender\": 2, \"id\": 8529, \"job\": \"Producer\", \"name\": \"Jon Landau\"}, {\"credit_id\": \"539c4937c3a36810ba002194\", \"department\": \"Art\", \"gender\": 0, \"id\": 9618, \"job\": \"Art Direction\", \"name\": \"Sean Haworth\"}, {\"credit_id\": \"539c49b6c3a36810c10020e6\", \"department\": \"Art\", \"gender\": 1, \"id\": 12653, \"job\": \"Set Decoration\", \"name\": \"Kim Sinclair\"}, {\"credit_id\": \"570b6f2f9251413a0e00020d\", \"department\": \"Art\", \"gender\": 1, \"id\": 12653, \"job\": \"Supervising Art Director\", \"name\": \"Kim Sinclair\"}, {\"credit_id\": \"54491a6c0e0a26748c001b19\", \"department\": \"Art\", \"gender\": 2, \"id\": 14350, \"job\": \"Set Designer\", \"name\": \"Richard F. Mays\"}, {\"credit_id\": \"56928cf4c3a3684cff0025c4\", \"department\": \"Production\", \"gender\": 1, \"id\": 20294, \"job\": \"Executive Producer\", \"name\": \"Laeta Kalogridis\"}, {\"credit_id\": \"52fe48009251416c750aca51\", \"department\": \"Costume & Make-Up\", \"gender\": 0, \"id\": 17675, \"job\": \"Costume Design\", \"name\": \"Mayes C. Rubeo\"}, {\"credit_id\": \"52fe48009251416c750aca11\", \"department\": \"Camera\", \"gender\": 2, \"id\": 18265, \"job\": \"Director of Photography\", \"name\": \"Mauro Fiore\"}, {\"credit_id\": \"5449194d0e0a26748f001b39\", \"department\": \"Art\", \"gender\": 0, \"id\": 42281, \"job\": \"Set Designer\", \"name\": \"Scott Herbertson\"}, {\"credit_id\": \"52fe48009251416c750aca05\", \"department\": \"Crew\", \"gender\": 0, \"id\": 42288, \"job\": \"Stunts\", \"name\": \"Woody Schultz\"}, {\"credit_id\": \"5592aefb92514152de0010f5\", \"department\": \"Costume & Make-Up\", \"gender\": 0, \"id\": 29067, \"job\": \"Makeup Artist\", \"name\": \"Linda DeVetta\"}, {\"credit_id\": \"5592afa492514152de00112c\", \"department\": \"Costume & Make-Up\", \"gender\": 0, \"id\": 29067, \"job\": \"Hairstylist\", \"name\": \"Linda DeVetta\"}, {\"credit_id\": \"54959ed592514130fc002e5d\", \"department\": \"Camera\", \"gender\": 2, \"id\": 33302, \"job\": \"Camera Operator\", \"name\": \"Richard Bluck\"}, {\"credit_id\": \"539c4891c3a36810ba002147\", \"department\": \"Art\", \"gender\": 2, \"id\": 33303, \"job\": \"Art Direction\", \"name\": \"Simon Bright\"}, {\"credit_id\": \"54959c069251417a81001f3a\", \"department\": \"Visual Effects\", \"gender\": 0, \"id\": 113145, \"job\": \"Visual Effects Supervisor\", \"name\": \"Richard Martin\"}, {\"credit_id\": \"54959a0dc3a3680ff5002c8d\", \"department\": \"Crew\", \"gender\": 2, \"id\": 58188, \"job\": \"Visual Effects Editor\", \"name\": \"Steve R. Moore\"}, {\"credit_id\": \"52fe48009251416c750aca1d\", \"department\": \"Editing\", \"gender\": 2, \"id\": 58871, \"job\": \"Editor\", \"name\": \"John Refoua\"}, {\"credit_id\": \"54491a4dc3a3680fc30018ca\", \"department\": \"Art\", \"gender\": 0, \"id\": 92359, \"job\": \"Set Designer\", \"name\": \"Karl J. Martin\"}, {\"credit_id\": \"52fe48009251416c750aca35\", \"department\": \"Camera\", \"gender\": 1, \"id\": 72201, \"job\": \"Director of Photography\", \"name\": \"Chiling Lin\"}, {\"credit_id\": \"52fe48009251416c750ac9ff\", \"department\": \"Crew\", \"gender\": 0, \"id\": 89714, \"job\": \"Stunts\", \"name\": \"Ilram Choi\"}, {\"credit_id\": \"54959c529251416e2b004394\", \"department\": \"Visual Effects\", \"gender\": 2, \"id\": 93214, \"job\": \"Visual Effects Supervisor\", \"name\": \"Steven Quale\"}, {\"credit_id\": \"54491edf0e0a267489001c37\", \"department\": \"Crew\", \"gender\": 1, \"id\": 122607, \"job\": \"Dialect Coach\", \"name\": \"Carla Meyer\"}, {\"credit_id\": \"539c485bc3a368653d001a3a\", \"department\": \"Art\", \"gender\": 2, \"id\": 132585, \"job\": \"Art Direction\", \"name\": \"Nick Bassett\"}, {\"credit_id\": \"539c4903c3a368653d001a74\", \"department\": \"Art\", \"gender\": 0, \"id\": 132596, \"job\": \"Art Direction\", \"name\": \"Jill Cormack\"}, {\"credit_id\": \"539c4967c3a368653d001a94\", \"department\": \"Art\", \"gender\": 0, \"id\": 132604, \"job\": \"Art Direction\", \"name\": \"Andy McLaren\"}, {\"credit_id\": \"52fe48009251416c750aca45\", \"department\": \"Crew\", \"gender\": 0, \"id\": 236696, \"job\": \"Motion Capture Artist\", \"name\": \"Terry Notary\"}, {\"credit_id\": \"54959e02c3a3680fc60027d2\", \"department\": \"Crew\", \"gender\": 2, \"id\": 956198, \"job\": \"Stunt Coordinator\", \"name\": \"Garrett Warren\"}, {\"credit_id\": \"54959ca3c3a3686ae300438c\", \"department\": \"Visual Effects\", \"gender\": 2, \"id\": 957874, \"job\": \"Visual Effects Supervisor\", \"name\": \"Jonathan Rothbart\"}, {\"credit_id\": \"570b6f519251412c74001b2f\", \"department\": \"Art\", \"gender\": 0, \"id\": 957889, \"job\": \"Supervising Art Director\", \"name\": \"Stefan Dechant\"}, {\"credit_id\": \"570b6f62c3a3680b77007460\", \"department\": \"Art\", \"gender\": 2, \"id\": 959555, \"job\": \"Supervising Art Director\", \"name\": \"Todd Cherniawsky\"}, {\"credit_id\": \"539c4a3ac3a36810da0021cc\", \"department\": \"Production\", \"gender\": 0, \"id\": 1016177, \"job\": \"Casting\", \"name\": \"Miranda Rivers\"}, {\"credit_id\": \"539c482cc3a36810c1002062\", \"department\": \"Art\", \"gender\": 0, \"id\": 1032536, \"job\": \"Production Design\", \"name\": \"Robert Stromberg\"}, {\"credit_id\": \"539c4b65c3a36810c9002125\", \"department\": \"Costume & Make-Up\", \"gender\": 2, \"id\": 1071680, \"job\": \"Costume Design\", \"name\": \"John Harding\"}, {\"credit_id\": \"54959e6692514130fc002e4e\", \"department\": \"Camera\", \"gender\": 0, \"id\": 1177364, \"job\": \"Steadicam Operator\", \"name\": \"Roberto De Angelis\"}, {\"credit_id\": \"539c49f1c3a368653d001aac\", \"department\": \"Costume & Make-Up\", \"gender\": 2, \"id\": 1202850, \"job\": \"Makeup Department Head\", \"name\": \"Mike Smithson\"}, {\"credit_id\": \"5495999ec3a3686ae100460c\", \"department\": \"Visual Effects\", \"gender\": 0, \"id\": 1204668, \"job\": \"Visual Effects Producer\", \"name\": \"Alain Lalanne\"}, {\"credit_id\": \"54959cdfc3a3681153002729\", \"department\": \"Visual Effects\", \"gender\": 0, \"id\": 1206410, \"job\": \"Visual Effects Supervisor\", \"name\": \"Lucas Salton\"}, {\"credit_id\": \"549596239251417a81001eae\", \"department\": \"Crew\", \"gender\": 0, \"id\": 1234266, \"job\": \"Post Production Supervisor\", \"name\": \"Janace Tashjian\"}, {\"credit_id\": \"54959c859251416e1e003efe\", \"department\": \"Visual Effects\", \"gender\": 0, \"id\": 1271932, \"job\": \"Visual Effects Supervisor\", \"name\": \"Stephen Rosenbaum\"}, {\"credit_id\": \"5592af28c3a368775a00105f\", \"department\": \"Costume & Make-Up\", \"gender\": 0, \"id\": 1310064, \"job\": \"Makeup Artist\", \"name\": \"Frankie Karena\"}, {\"credit_id\": \"539c4adfc3a36810e300203b\", \"department\": \"Costume & Make-Up\", \"gender\": 1, \"id\": 1319844, \"job\": \"Costume Supervisor\", \"name\": \"Lisa Lovaas\"}, {\"credit_id\": \"54959b579251416e2b004371\", \"department\": \"Visual Effects\", \"gender\": 0, \"id\": 1327028, \"job\": \"Visual Effects Supervisor\", \"name\": \"Jonathan Fawkner\"}, {\"credit_id\": \"539c48a7c3a36810b5001fa7\", \"department\": \"Art\", \"gender\": 0, \"id\": 1330561, \"job\": \"Art Direction\", \"name\": \"Robert Bavin\"}, {\"credit_id\": \"539c4a71c3a36810da0021e0\", \"department\": \"Costume & Make-Up\", \"gender\": 0, \"id\": 1330567, \"job\": \"Costume Supervisor\", \"name\": \"Anthony Almaraz\"}, {\"credit_id\": \"539c4a8ac3a36810ba0021e4\", \"department\": \"Costume & Make-Up\", \"gender\": 0, \"id\": 1330570, \"job\": \"Costume Supervisor\", \"name\": \"Carolyn M. Fenton\"}, {\"credit_id\": \"539c4ab6c3a36810da0021f0\", \"department\": \"Costume & Make-Up\", \"gender\": 0, \"id\": 1330574, \"job\": \"Costume Supervisor\", \"name\": \"Beth Koenigsberg\"}, {\"credit_id\": \"54491ab70e0a267480001ba2\", \"department\": \"Art\", \"gender\": 0, \"id\": 1336191, \"job\": \"Set Designer\", \"name\": \"Sam Page\"}, {\"credit_id\": \"544919d9c3a3680fc30018bd\", \"department\": \"Art\", \"gender\": 0, \"id\": 1339441, \"job\": \"Set Designer\", \"name\": \"Tex Kadonaga\"}, {\"credit_id\": \"54491cf50e0a267483001b0c\", \"department\": \"Editing\", \"gender\": 0, \"id\": 1352422, \"job\": \"Dialogue Editor\", \"name\": \"Kim Foscato\"}, {\"credit_id\": \"544919f40e0a26748c001b09\", \"department\": \"Art\", \"gender\": 0, \"id\": 1352962, \"job\": \"Set Designer\", \"name\": \"Tammy S. Lee\"}, {\"credit_id\": \"5495a115c3a3680ff5002d71\", \"department\": \"Crew\", \"gender\": 0, \"id\": 1357070, \"job\": \"Transportation Coordinator\", \"name\": \"Denny Caira\"}, {\"credit_id\": \"5495a12f92514130fc002e94\", \"department\": \"Crew\", \"gender\": 0, \"id\": 1357071, \"job\": \"Transportation Coordinator\", \"name\": \"James Waitkus\"}, {\"credit_id\": \"5495976fc3a36811530026b0\", \"department\": \"Sound\", \"gender\": 0, \"id\": 1360103, \"job\": \"Supervising Sound Editor\", \"name\": \"Addison Teague\"}, {\"credit_id\": \"54491837c3a3680fb1001c5a\", \"department\": \"Art\", \"gender\": 2, \"id\": 1376887, \"job\": \"Set Designer\", \"name\": \"C. Scott Baker\"}, {\"credit_id\": \"54491878c3a3680fb4001c9d\", \"department\": \"Art\", \"gender\": 0, \"id\": 1376888, \"job\": \"Set Designer\", \"name\": \"Luke Caska\"}, {\"credit_id\": \"544918dac3a3680fa5001ae0\", \"department\": \"Art\", \"gender\": 0, \"id\": 1376889, \"job\": \"Set Designer\", \"name\": \"David Chow\"}, {\"credit_id\": \"544919110e0a267486001b68\", \"department\": \"Art\", \"gender\": 0, \"id\": 1376890, \"job\": \"Set Designer\", \"name\": \"Jonathan Dyer\"}, {\"credit_id\": \"54491967c3a3680faa001b5e\", \"department\": \"Art\", \"gender\": 0, \"id\": 1376891, \"job\": \"Set Designer\", \"name\": \"Joseph Hiura\"}, {\"credit_id\": \"54491997c3a3680fb1001c8a\", \"department\": \"Art\", \"gender\": 0, \"id\": 1376892, \"job\": \"Art Department Coordinator\", \"name\": \"Rebecca Jellie\"}, {\"credit_id\": \"544919ba0e0a26748f001b42\", \"department\": \"Art\", \"gender\": 0, \"id\": 1376893, \"job\": \"Set Designer\", \"name\": \"Robert Andrew Johnson\"}, {\"credit_id\": \"54491b1dc3a3680faa001b8c\", \"department\": \"Art\", \"gender\": 0, \"id\": 1376895, \"job\": \"Assistant Art Director\", \"name\": \"Mike Stassi\"}, {\"credit_id\": \"54491b79c3a3680fbb001826\", \"department\": \"Art\", \"gender\": 0, \"id\": 1376897, \"job\": \"Construction Coordinator\", \"name\": \"John Villarino\"}, {\"credit_id\": \"54491baec3a3680fb4001ce6\", \"department\": \"Art\", \"gender\": 2, \"id\": 1376898, \"job\": \"Assistant Art Director\", \"name\": \"Jeffrey Wisniewski\"}, {\"credit_id\": \"54491d2fc3a3680fb4001d07\", \"department\": \"Editing\", \"gender\": 0, \"id\": 1376899, \"job\": \"Dialogue Editor\", \"name\": \"Cheryl Nardi\"}, {\"credit_id\": \"54491d86c3a3680fa5001b2f\", \"department\": \"Editing\", \"gender\": 0, \"id\": 1376901, \"job\": \"Dialogue Editor\", \"name\": \"Marshall Winn\"}, {\"credit_id\": \"54491d9dc3a3680faa001bb0\", \"department\": \"Sound\", \"gender\": 0, \"id\": 1376902, \"job\": \"Supervising Sound Editor\", \"name\": \"Gwendolyn Yates Whittle\"}, {\"credit_id\": \"54491dc10e0a267486001bce\", \"department\": \"Sound\", \"gender\": 0, \"id\": 1376903, \"job\": \"Sound Re-Recording Mixer\", \"name\": \"William Stein\"}, {\"credit_id\": \"54491f500e0a26747c001c07\", \"department\": \"Crew\", \"gender\": 0, \"id\": 1376909, \"job\": \"Choreographer\", \"name\": \"Lula Washington\"}, {\"credit_id\": \"549599239251412c4e002a2e\", \"department\": \"Visual Effects\", \"gender\": 0, \"id\": 1391692, \"job\": \"Visual Effects Producer\", \"name\": \"Chris Del Conte\"}, {\"credit_id\": \"54959d54c3a36831b8001d9a\", \"department\": \"Visual Effects\", \"gender\": 2, \"id\": 1391695, \"job\": \"Visual Effects Supervisor\", \"name\": \"R. Christopher White\"}, {\"credit_id\": \"54959bdf9251412c4e002a66\", \"department\": \"Visual Effects\", \"gender\": 0, \"id\": 1394070, \"job\": \"Visual Effects Supervisor\", \"name\": \"Dan Lemmon\"}, {\"credit_id\": \"5495971d92514132ed002922\", \"department\": \"Sound\", \"gender\": 0, \"id\": 1394129, \"job\": \"Sound Effects Editor\", \"name\": \"Tim Nielsen\"}, {\"credit_id\": \"5592b25792514152cc0011aa\", \"department\": \"Crew\", \"gender\": 0, \"id\": 1394286, \"job\": \"CG Supervisor\", \"name\": \"Michael Mulholland\"}, {\"credit_id\": \"54959a329251416e2b004355\", \"department\": \"Crew\", \"gender\": 0, \"id\": 1394750, \"job\": \"Visual Effects Editor\", \"name\": \"Thomas Nittmann\"}, {\"credit_id\": \"54959d6dc3a3686ae9004401\", \"department\": \"Visual Effects\", \"gender\": 0, \"id\": 1394755, \"job\": \"Visual Effects Supervisor\", \"name\": \"Edson Williams\"}, {\"credit_id\": \"5495a08fc3a3686ae300441c\", \"department\": \"Editing\", \"gender\": 0, \"id\": 1394953, \"job\": \"Digital Intermediate\", \"name\": \"Christine Carr\"}, {\"credit_id\": \"55402d659251413d6d000249\", \"department\": \"Visual Effects\", \"gender\": 0, \"id\": 1395269, \"job\": \"Visual Effects Supervisor\", \"name\": \"John Bruno\"}, {\"credit_id\": \"54959e7b9251416e1e003f3e\", \"department\": \"Camera\", \"gender\": 0, \"id\": 1398970, \"job\": \"Steadicam Operator\", \"name\": \"David Emmerichs\"}, {\"credit_id\": \"54959734c3a3686ae10045e0\", \"department\": \"Sound\", \"gender\": 0, \"id\": 1400906, \"job\": \"Sound Effects Editor\", \"name\": \"Christopher Scarabosio\"}, {\"credit_id\": \"549595dd92514130fc002d79\", \"department\": \"Production\", \"gender\": 0, \"id\": 1401784, \"job\": \"Production Supervisor\", \"name\": \"Jennifer Teves\"}, {\"credit_id\": \"549596009251413af70028cc\", \"department\": \"Production\", \"gender\": 0, \"id\": 1401785, \"job\": \"Production Manager\", \"name\": \"Brigitte Yorke\"}, {\"credit_id\": \"549596e892514130fc002d99\", \"department\": \"Sound\", \"gender\": 0, \"id\": 1401786, \"job\": \"Sound Effects Editor\", \"name\": \"Ken Fischer\"}, {\"credit_id\": \"549598229251412c4e002a1c\", \"department\": \"Crew\", \"gender\": 0, \"id\": 1401787, \"job\": \"Special Effects Coordinator\", \"name\": \"Iain Hutton\"}, {\"credit_id\": \"549598349251416e2b00432b\", \"department\": \"Crew\", \"gender\": 0, \"id\": 1401788, \"job\": \"Special Effects Coordinator\", \"name\": \"Steve Ingram\"}, {\"credit_id\": \"54959905c3a3686ae3004324\", \"department\": \"Visual Effects\", \"gender\": 0, \"id\": 1401789, \"job\": \"Visual Effects Producer\", \"name\": \"Joyce Cox\"}, {\"credit_id\": \"5495994b92514132ed002951\", \"department\": \"Visual Effects\", \"gender\": 0, \"id\": 1401790, \"job\": \"Visual Effects Producer\", \"name\": \"Jenny Foster\"}, {\"credit_id\": \"549599cbc3a3686ae1004613\", \"department\": \"Crew\", \"gender\": 0, \"id\": 1401791, \"job\": \"Visual Effects Editor\", \"name\": \"Christopher Marino\"}, {\"credit_id\": \"549599f2c3a3686ae100461e\", \"department\": \"Crew\", \"gender\": 0, \"id\": 1401792, \"job\": \"Visual Effects Editor\", \"name\": \"Jim Milton\"}, {\"credit_id\": \"54959a51c3a3686af3003eb5\", \"department\": \"Visual Effects\", \"gender\": 0, \"id\": 1401793, \"job\": \"Visual Effects Producer\", \"name\": \"Cyndi Ochs\"}, {\"credit_id\": \"54959a7cc3a36811530026f4\", \"department\": \"Crew\", \"gender\": 0, \"id\": 1401794, \"job\": \"Visual Effects Editor\", \"name\": \"Lucas Putnam\"}, {\"credit_id\": \"54959b91c3a3680ff5002cb4\", \"department\": \"Visual Effects\", \"gender\": 0, \"id\": 1401795, \"job\": \"Visual Effects Supervisor\", \"name\": \"Anthony \\'Max\\' Ivins\"}, {\"credit_id\": \"54959bb69251412c4e002a5f\", \"department\": \"Visual Effects\", \"gender\": 0, \"id\": 1401796, \"job\": \"Visual Effects Supervisor\", \"name\": \"John Knoll\"}, {\"credit_id\": \"54959cbbc3a3686ae3004391\", \"department\": \"Visual Effects\", \"gender\": 2, \"id\": 1401799, \"job\": \"Visual Effects Supervisor\", \"name\": \"Eric Saindon\"}, {\"credit_id\": \"54959d06c3a3686ae90043f6\", \"department\": \"Visual Effects\", \"gender\": 0, \"id\": 1401800, \"job\": \"Visual Effects Supervisor\", \"name\": \"Wayne Stables\"}, {\"credit_id\": \"54959d259251416e1e003f11\", \"department\": \"Visual Effects\", \"gender\": 0, \"id\": 1401801, \"job\": \"Visual Effects Supervisor\", \"name\": \"David Stinnett\"}, {\"credit_id\": \"54959db49251413af7002975\", \"department\": \"Visual Effects\", \"gender\": 0, \"id\": 1401803, \"job\": \"Visual Effects Supervisor\", \"name\": \"Guy Williams\"}, {\"credit_id\": \"54959de4c3a3681153002750\", \"department\": \"Crew\", \"gender\": 0, \"id\": 1401804, \"job\": \"Stunt Coordinator\", \"name\": \"Stuart Thorp\"}, {\"credit_id\": \"54959ef2c3a3680fc60027f2\", \"department\": \"Lighting\", \"gender\": 0, \"id\": 1401805, \"job\": \"Best Boy Electric\", \"name\": \"Giles Coburn\"}, {\"credit_id\": \"54959f07c3a3680fc60027f9\", \"department\": \"Camera\", \"gender\": 2, \"id\": 1401806, \"job\": \"Still Photographer\", \"name\": \"Mark Fellman\"}, {\"credit_id\": \"54959f47c3a3681153002774\", \"department\": \"Lighting\", \"gender\": 0, \"id\": 1401807, \"job\": \"Lighting Technician\", \"name\": \"Scott Sprague\"}, {\"credit_id\": \"54959f8cc3a36831b8001df2\", \"department\": \"Visual Effects\", \"gender\": 0, \"id\": 1401808, \"job\": \"Animation Director\", \"name\": \"Jeremy Hollobon\"}, {\"credit_id\": \"54959fa0c3a36831b8001dfb\", \"department\": \"Visual Effects\", \"gender\": 0, \"id\": 1401809, \"job\": \"Animation Director\", \"name\": \"Orlando Meunier\"}, {\"credit_id\": \"54959fb6c3a3686af3003f54\", \"department\": \"Visual Effects\", \"gender\": 0, \"id\": 1401810, \"job\": \"Animation Director\", \"name\": \"Taisuke Tanimura\"}, {\"credit_id\": \"54959fd2c3a36831b8001e02\", \"department\": \"Costume & Make-Up\", \"gender\": 0, \"id\": 1401812, \"job\": \"Set Costumer\", \"name\": \"Lilia Mishel Acevedo\"}, {\"credit_id\": \"54959ff9c3a3686ae300440c\", \"department\": \"Costume & Make-Up\", \"gender\": 0, \"id\": 1401814, \"job\": \"Set Costumer\", \"name\": \"Alejandro M. Hernandez\"}, {\"credit_id\": \"5495a0ddc3a3686ae10046fe\", \"department\": \"Editing\", \"gender\": 0, \"id\": 1401815, \"job\": \"Digital Intermediate\", \"name\": \"Marvin Hall\"}, {\"credit_id\": \"5495a1f7c3a3686ae3004443\", \"department\": \"Production\", \"gender\": 0, \"id\": 1401816, \"job\": \"Publicist\", \"name\": \"Judy Alley\"}, {\"credit_id\": \"5592b29fc3a36869d100002f\", \"department\": \"Crew\", \"gender\": 0, \"id\": 1418381, \"job\": \"CG Supervisor\", \"name\": \"Mike Perry\"}, {\"credit_id\": \"5592b23a9251415df8001081\", \"department\": \"Crew\", \"gender\": 0, \"id\": 1426854, \"job\": \"CG Supervisor\", \"name\": \"Andrew Morley\"}, {\"credit_id\": \"55491e1192514104c40002d8\", \"department\": \"Art\", \"gender\": 0, \"id\": 1438901, \"job\": \"Conceptual Design\", \"name\": \"Seth Engstrom\"}, {\"credit_id\": \"5525d5809251417276002b06\", \"department\": \"Crew\", \"gender\": 0, \"id\": 1447362, \"job\": \"Visual Effects Art Director\", \"name\": \"Eric Oliver\"}, {\"credit_id\": \"554427ca925141586500312a\", \"department\": \"Visual Effects\", \"gender\": 0, \"id\": 1447503, \"job\": \"Modeling\", \"name\": \"Matsune Suzuki\"}, {\"credit_id\": \"551906889251415aab001c88\", \"department\": \"Art\", \"gender\": 0, \"id\": 1447524, \"job\": \"Art Department Manager\", \"name\": \"Paul Tobin\"}, {\"credit_id\": \"5592af8492514152cc0010de\", \"department\": \"Costume & Make-Up\", \"gender\": 0, \"id\": 1452643, \"job\": \"Hairstylist\", \"name\": \"Roxane Griffin\"}, {\"credit_id\": \"553d3c109251415852001318\", \"department\": \"Lighting\", \"gender\": 0, \"id\": 1453938, \"job\": \"Lighting Artist\", \"name\": \"Arun Ram-Mohan\"}, {\"credit_id\": \"5592af4692514152d5001355\", \"department\": \"Costume & Make-Up\", \"gender\": 0, \"id\": 1457305, \"job\": \"Makeup Artist\", \"name\": \"Georgia Lockhart-Adams\"}, {\"credit_id\": \"5592b2eac3a36877470012a5\", \"department\": \"Crew\", \"gender\": 0, \"id\": 1466035, \"job\": \"CG Supervisor\", \"name\": \"Thrain Shadbolt\"}, {\"credit_id\": \"5592b032c3a36877450015f1\", \"department\": \"Crew\", \"gender\": 0, \"id\": 1483220, \"job\": \"CG Supervisor\", \"name\": \"Brad Alexander\"}, {\"credit_id\": \"5592b05592514152d80012f6\", \"department\": \"Crew\", \"gender\": 0, \"id\": 1483221, \"job\": \"CG Supervisor\", \"name\": \"Shadi Almassizadeh\"}, {\"credit_id\": \"5592b090c3a36877570010b5\", \"department\": \"Crew\", \"gender\": 0, \"id\": 1483222, \"job\": \"CG Supervisor\", \"name\": \"Simon Clutterbuck\"}, {\"credit_id\": \"5592b0dbc3a368774b00112c\", \"department\": \"Crew\", \"gender\": 0, \"id\": 1483223, \"job\": \"CG Supervisor\", \"name\": \"Graeme Demmocks\"}, {\"credit_id\": \"5592b0fe92514152db0010c1\", \"department\": \"Crew\", \"gender\": 0, \"id\": 1483224, \"job\": \"CG Supervisor\", \"name\": \"Adrian Fernandes\"}, {\"credit_id\": \"5592b11f9251415df8001059\", \"department\": \"Crew\", \"gender\": 0, \"id\": 1483225, \"job\": \"CG Supervisor\", \"name\": \"Mitch Gates\"}, {\"credit_id\": \"5592b15dc3a3687745001645\", \"department\": \"Crew\", \"gender\": 0, \"id\": 1483226, \"job\": \"CG Supervisor\", \"name\": \"Jerry Kung\"}, {\"credit_id\": \"5592b18e925141645a0004ae\", \"department\": \"Crew\", \"gender\": 0, \"id\": 1483227, \"job\": \"CG Supervisor\", \"name\": \"Andy Lomas\"}, {\"credit_id\": \"5592b1bfc3a368775d0010e7\", \"department\": \"Crew\", \"gender\": 0, \"id\": 1483228, \"job\": \"CG Supervisor\", \"name\": \"Sebastian Marino\"}, {\"credit_id\": \"5592b2049251415df8001078\", \"department\": \"Crew\", \"gender\": 0, \"id\": 1483229, \"job\": \"CG Supervisor\", \"name\": \"Matthias Menz\"}, {\"credit_id\": \"5592b27b92514152d800136a\", \"department\": \"Crew\", \"gender\": 0, \"id\": 1483230, \"job\": \"CG Supervisor\", \"name\": \"Sergei Nevshupov\"}, {\"credit_id\": \"5592b2c3c3a36869e800003c\", \"department\": \"Crew\", \"gender\": 0, \"id\": 1483231, \"job\": \"CG Supervisor\", \"name\": \"Philippe Rebours\"}, {\"credit_id\": \"5592b317c3a36877470012af\", \"department\": \"Crew\", \"gender\": 0, \"id\": 1483232, \"job\": \"CG Supervisor\", \"name\": \"Michael Takarangi\"}, {\"credit_id\": \"5592b345c3a36877470012bb\", \"department\": \"Crew\", \"gender\": 0, \"id\": 1483233, \"job\": \"CG Supervisor\", \"name\": \"David Weitzberg\"}, {\"credit_id\": \"5592b37cc3a368775100113b\", \"department\": \"Crew\", \"gender\": 0, \"id\": 1483234, \"job\": \"CG Supervisor\", \"name\": \"Ben White\"}, {\"credit_id\": \"573c8e2f9251413f5d000094\", \"department\": \"Crew\", \"gender\": 1, \"id\": 1621932, \"job\": \"Stunts\", \"name\": \"Min Windle\"}]'"
      ]
     },
     "execution_count": 29,
     "metadata": {},
     "output_type": "execute_result"
    }
   ],
   "source": [
    "movies['crew'][0]"
   ]
  },
  {
   "cell_type": "code",
   "execution_count": 30,
   "id": "0c69f607",
   "metadata": {},
   "outputs": [],
   "source": [
    "def fetchdirector(obj):\n",
    "    List =[]\n",
    "    for i in ast.literal_eval(obj):\n",
    "        if i['job'] == 'Director':\n",
    "            List.append(i['name'])\n",
    "            break\n",
    "    return List"
   ]
  },
  {
   "cell_type": "code",
   "execution_count": 31,
   "id": "e72481be",
   "metadata": {},
   "outputs": [
    {
     "data": {
      "text/plain": [
       "0           [James Cameron]\n",
       "1          [Gore Verbinski]\n",
       "2              [Sam Mendes]\n",
       "3       [Christopher Nolan]\n",
       "4          [Andrew Stanton]\n",
       "               ...         \n",
       "4804     [Robert Rodriguez]\n",
       "4805         [Edward Burns]\n",
       "4806          [Scott Smith]\n",
       "4807          [Daniel Hsia]\n",
       "4808     [Brian Herzlinger]\n",
       "Name: crew, Length: 4806, dtype: object"
      ]
     },
     "execution_count": 31,
     "metadata": {},
     "output_type": "execute_result"
    }
   ],
   "source": [
    "movies['crew'].apply(fetchdirector)"
   ]
  },
  {
   "cell_type": "code",
   "execution_count": 32,
   "id": "60b617ca",
   "metadata": {},
   "outputs": [
    {
     "data": {
      "text/html": [
       "<div>\n",
       "<style scoped>\n",
       "    .dataframe tbody tr th:only-of-type {\n",
       "        vertical-align: middle;\n",
       "    }\n",
       "\n",
       "    .dataframe tbody tr th {\n",
       "        vertical-align: top;\n",
       "    }\n",
       "\n",
       "    .dataframe thead th {\n",
       "        text-align: right;\n",
       "    }\n",
       "</style>\n",
       "<table border=\"1\" class=\"dataframe\">\n",
       "  <thead>\n",
       "    <tr style=\"text-align: right;\">\n",
       "      <th></th>\n",
       "      <th>movie_id</th>\n",
       "      <th>title</th>\n",
       "      <th>overview</th>\n",
       "      <th>genres</th>\n",
       "      <th>keywords</th>\n",
       "      <th>cast</th>\n",
       "      <th>crew</th>\n",
       "    </tr>\n",
       "  </thead>\n",
       "  <tbody>\n",
       "    <tr>\n",
       "      <th>0</th>\n",
       "      <td>19995</td>\n",
       "      <td>Avatar</td>\n",
       "      <td>In the 22nd century, a paraplegic Marine is di...</td>\n",
       "      <td>[Action, Adventure, Fantasy, Science Fiction]</td>\n",
       "      <td>[culture clash, future, space war, space colon...</td>\n",
       "      <td>[Sam Worthington, Zoe Saldana, Sigourney Weave...</td>\n",
       "      <td>[{\"credit_id\": \"52fe48009251416c750aca23\", \"de...</td>\n",
       "    </tr>\n",
       "    <tr>\n",
       "      <th>1</th>\n",
       "      <td>285</td>\n",
       "      <td>Pirates of the Caribbean: At World's End</td>\n",
       "      <td>Captain Barbossa, long believed to be dead, ha...</td>\n",
       "      <td>[Adventure, Fantasy, Action]</td>\n",
       "      <td>[ocean, drug abuse, exotic island, east india ...</td>\n",
       "      <td>[Johnny Depp, Orlando Bloom, Keira Knightley, ...</td>\n",
       "      <td>[{\"credit_id\": \"52fe4232c3a36847f800b579\", \"de...</td>\n",
       "    </tr>\n",
       "    <tr>\n",
       "      <th>2</th>\n",
       "      <td>206647</td>\n",
       "      <td>Spectre</td>\n",
       "      <td>A cryptic message from Bond’s past sends him o...</td>\n",
       "      <td>[Action, Adventure, Crime]</td>\n",
       "      <td>[spy, based on novel, secret agent, sequel, mi...</td>\n",
       "      <td>[Daniel Craig, Christoph Waltz, Léa Seydoux, R...</td>\n",
       "      <td>[{\"credit_id\": \"54805967c3a36829b5002c41\", \"de...</td>\n",
       "    </tr>\n",
       "    <tr>\n",
       "      <th>3</th>\n",
       "      <td>49026</td>\n",
       "      <td>The Dark Knight Rises</td>\n",
       "      <td>Following the death of District Attorney Harve...</td>\n",
       "      <td>[Action, Crime, Drama, Thriller]</td>\n",
       "      <td>[dc comics, crime fighter, terrorist, secret i...</td>\n",
       "      <td>[Christian Bale, Michael Caine, Gary Oldman, A...</td>\n",
       "      <td>[{\"credit_id\": \"52fe4781c3a36847f81398c3\", \"de...</td>\n",
       "    </tr>\n",
       "    <tr>\n",
       "      <th>4</th>\n",
       "      <td>49529</td>\n",
       "      <td>John Carter</td>\n",
       "      <td>John Carter is a war-weary, former military ca...</td>\n",
       "      <td>[Action, Adventure, Science Fiction]</td>\n",
       "      <td>[based on novel, mars, medallion, space travel...</td>\n",
       "      <td>[Taylor Kitsch, Lynn Collins, Samantha Morton,...</td>\n",
       "      <td>[{\"credit_id\": \"52fe479ac3a36847f813eaa3\", \"de...</td>\n",
       "    </tr>\n",
       "  </tbody>\n",
       "</table>\n",
       "</div>"
      ],
      "text/plain": [
       "   movie_id                                     title  \\\n",
       "0     19995                                    Avatar   \n",
       "1       285  Pirates of the Caribbean: At World's End   \n",
       "2    206647                                   Spectre   \n",
       "3     49026                     The Dark Knight Rises   \n",
       "4     49529                               John Carter   \n",
       "\n",
       "                                            overview  \\\n",
       "0  In the 22nd century, a paraplegic Marine is di...   \n",
       "1  Captain Barbossa, long believed to be dead, ha...   \n",
       "2  A cryptic message from Bond’s past sends him o...   \n",
       "3  Following the death of District Attorney Harve...   \n",
       "4  John Carter is a war-weary, former military ca...   \n",
       "\n",
       "                                          genres  \\\n",
       "0  [Action, Adventure, Fantasy, Science Fiction]   \n",
       "1                   [Adventure, Fantasy, Action]   \n",
       "2                     [Action, Adventure, Crime]   \n",
       "3               [Action, Crime, Drama, Thriller]   \n",
       "4           [Action, Adventure, Science Fiction]   \n",
       "\n",
       "                                            keywords  \\\n",
       "0  [culture clash, future, space war, space colon...   \n",
       "1  [ocean, drug abuse, exotic island, east india ...   \n",
       "2  [spy, based on novel, secret agent, sequel, mi...   \n",
       "3  [dc comics, crime fighter, terrorist, secret i...   \n",
       "4  [based on novel, mars, medallion, space travel...   \n",
       "\n",
       "                                                cast  \\\n",
       "0  [Sam Worthington, Zoe Saldana, Sigourney Weave...   \n",
       "1  [Johnny Depp, Orlando Bloom, Keira Knightley, ...   \n",
       "2  [Daniel Craig, Christoph Waltz, Léa Seydoux, R...   \n",
       "3  [Christian Bale, Michael Caine, Gary Oldman, A...   \n",
       "4  [Taylor Kitsch, Lynn Collins, Samantha Morton,...   \n",
       "\n",
       "                                                crew  \n",
       "0  [{\"credit_id\": \"52fe48009251416c750aca23\", \"de...  \n",
       "1  [{\"credit_id\": \"52fe4232c3a36847f800b579\", \"de...  \n",
       "2  [{\"credit_id\": \"54805967c3a36829b5002c41\", \"de...  \n",
       "3  [{\"credit_id\": \"52fe4781c3a36847f81398c3\", \"de...  \n",
       "4  [{\"credit_id\": \"52fe479ac3a36847f813eaa3\", \"de...  "
      ]
     },
     "execution_count": 32,
     "metadata": {},
     "output_type": "execute_result"
    }
   ],
   "source": [
    "movies.head()"
   ]
  },
  {
   "cell_type": "code",
   "execution_count": 33,
   "id": "e9909bca",
   "metadata": {},
   "outputs": [
    {
     "data": {
      "text/plain": [
       "'In the 22nd century, a paraplegic Marine is dispatched to the moon Pandora on a unique mission, but becomes torn between following orders and protecting an alien civilization.'"
      ]
     },
     "execution_count": 33,
     "metadata": {},
     "output_type": "execute_result"
    }
   ],
   "source": [
    "movies['overview'][0]"
   ]
  },
  {
   "cell_type": "code",
   "execution_count": 34,
   "id": "934b04a9",
   "metadata": {},
   "outputs": [],
   "source": [
    "movies['overview'] = movies['overview'].apply(lambda x:x.split())"
   ]
  },
  {
   "cell_type": "code",
   "execution_count": 35,
   "id": "defbe7b5",
   "metadata": {},
   "outputs": [
    {
     "data": {
      "text/html": [
       "<div>\n",
       "<style scoped>\n",
       "    .dataframe tbody tr th:only-of-type {\n",
       "        vertical-align: middle;\n",
       "    }\n",
       "\n",
       "    .dataframe tbody tr th {\n",
       "        vertical-align: top;\n",
       "    }\n",
       "\n",
       "    .dataframe thead th {\n",
       "        text-align: right;\n",
       "    }\n",
       "</style>\n",
       "<table border=\"1\" class=\"dataframe\">\n",
       "  <thead>\n",
       "    <tr style=\"text-align: right;\">\n",
       "      <th></th>\n",
       "      <th>movie_id</th>\n",
       "      <th>title</th>\n",
       "      <th>overview</th>\n",
       "      <th>genres</th>\n",
       "      <th>keywords</th>\n",
       "      <th>cast</th>\n",
       "      <th>crew</th>\n",
       "    </tr>\n",
       "  </thead>\n",
       "  <tbody>\n",
       "    <tr>\n",
       "      <th>0</th>\n",
       "      <td>19995</td>\n",
       "      <td>Avatar</td>\n",
       "      <td>[In, the, 22nd, century,, a, paraplegic, Marin...</td>\n",
       "      <td>[Action, Adventure, Fantasy, Science Fiction]</td>\n",
       "      <td>[culture clash, future, space war, space colon...</td>\n",
       "      <td>[Sam Worthington, Zoe Saldana, Sigourney Weave...</td>\n",
       "      <td>[{\"credit_id\": \"52fe48009251416c750aca23\", \"de...</td>\n",
       "    </tr>\n",
       "    <tr>\n",
       "      <th>1</th>\n",
       "      <td>285</td>\n",
       "      <td>Pirates of the Caribbean: At World's End</td>\n",
       "      <td>[Captain, Barbossa,, long, believed, to, be, d...</td>\n",
       "      <td>[Adventure, Fantasy, Action]</td>\n",
       "      <td>[ocean, drug abuse, exotic island, east india ...</td>\n",
       "      <td>[Johnny Depp, Orlando Bloom, Keira Knightley, ...</td>\n",
       "      <td>[{\"credit_id\": \"52fe4232c3a36847f800b579\", \"de...</td>\n",
       "    </tr>\n",
       "    <tr>\n",
       "      <th>2</th>\n",
       "      <td>206647</td>\n",
       "      <td>Spectre</td>\n",
       "      <td>[A, cryptic, message, from, Bond’s, past, send...</td>\n",
       "      <td>[Action, Adventure, Crime]</td>\n",
       "      <td>[spy, based on novel, secret agent, sequel, mi...</td>\n",
       "      <td>[Daniel Craig, Christoph Waltz, Léa Seydoux, R...</td>\n",
       "      <td>[{\"credit_id\": \"54805967c3a36829b5002c41\", \"de...</td>\n",
       "    </tr>\n",
       "    <tr>\n",
       "      <th>3</th>\n",
       "      <td>49026</td>\n",
       "      <td>The Dark Knight Rises</td>\n",
       "      <td>[Following, the, death, of, District, Attorney...</td>\n",
       "      <td>[Action, Crime, Drama, Thriller]</td>\n",
       "      <td>[dc comics, crime fighter, terrorist, secret i...</td>\n",
       "      <td>[Christian Bale, Michael Caine, Gary Oldman, A...</td>\n",
       "      <td>[{\"credit_id\": \"52fe4781c3a36847f81398c3\", \"de...</td>\n",
       "    </tr>\n",
       "    <tr>\n",
       "      <th>4</th>\n",
       "      <td>49529</td>\n",
       "      <td>John Carter</td>\n",
       "      <td>[John, Carter, is, a, war-weary,, former, mili...</td>\n",
       "      <td>[Action, Adventure, Science Fiction]</td>\n",
       "      <td>[based on novel, mars, medallion, space travel...</td>\n",
       "      <td>[Taylor Kitsch, Lynn Collins, Samantha Morton,...</td>\n",
       "      <td>[{\"credit_id\": \"52fe479ac3a36847f813eaa3\", \"de...</td>\n",
       "    </tr>\n",
       "  </tbody>\n",
       "</table>\n",
       "</div>"
      ],
      "text/plain": [
       "   movie_id                                     title  \\\n",
       "0     19995                                    Avatar   \n",
       "1       285  Pirates of the Caribbean: At World's End   \n",
       "2    206647                                   Spectre   \n",
       "3     49026                     The Dark Knight Rises   \n",
       "4     49529                               John Carter   \n",
       "\n",
       "                                            overview  \\\n",
       "0  [In, the, 22nd, century,, a, paraplegic, Marin...   \n",
       "1  [Captain, Barbossa,, long, believed, to, be, d...   \n",
       "2  [A, cryptic, message, from, Bond’s, past, send...   \n",
       "3  [Following, the, death, of, District, Attorney...   \n",
       "4  [John, Carter, is, a, war-weary,, former, mili...   \n",
       "\n",
       "                                          genres  \\\n",
       "0  [Action, Adventure, Fantasy, Science Fiction]   \n",
       "1                   [Adventure, Fantasy, Action]   \n",
       "2                     [Action, Adventure, Crime]   \n",
       "3               [Action, Crime, Drama, Thriller]   \n",
       "4           [Action, Adventure, Science Fiction]   \n",
       "\n",
       "                                            keywords  \\\n",
       "0  [culture clash, future, space war, space colon...   \n",
       "1  [ocean, drug abuse, exotic island, east india ...   \n",
       "2  [spy, based on novel, secret agent, sequel, mi...   \n",
       "3  [dc comics, crime fighter, terrorist, secret i...   \n",
       "4  [based on novel, mars, medallion, space travel...   \n",
       "\n",
       "                                                cast  \\\n",
       "0  [Sam Worthington, Zoe Saldana, Sigourney Weave...   \n",
       "1  [Johnny Depp, Orlando Bloom, Keira Knightley, ...   \n",
       "2  [Daniel Craig, Christoph Waltz, Léa Seydoux, R...   \n",
       "3  [Christian Bale, Michael Caine, Gary Oldman, A...   \n",
       "4  [Taylor Kitsch, Lynn Collins, Samantha Morton,...   \n",
       "\n",
       "                                                crew  \n",
       "0  [{\"credit_id\": \"52fe48009251416c750aca23\", \"de...  \n",
       "1  [{\"credit_id\": \"52fe4232c3a36847f800b579\", \"de...  \n",
       "2  [{\"credit_id\": \"54805967c3a36829b5002c41\", \"de...  \n",
       "3  [{\"credit_id\": \"52fe4781c3a36847f81398c3\", \"de...  \n",
       "4  [{\"credit_id\": \"52fe479ac3a36847f813eaa3\", \"de...  "
      ]
     },
     "execution_count": 35,
     "metadata": {},
     "output_type": "execute_result"
    }
   ],
   "source": [
    "movies.head()"
   ]
  },
  {
   "cell_type": "code",
   "execution_count": 36,
   "id": "8fecadb8",
   "metadata": {},
   "outputs": [],
   "source": [
    "# removing spaces between name and title of every column \n",
    "movies['genres'] = movies['genres'].apply(lambda x:[i.replace(\" \",\"\")for i in x])\n",
    "movies['keywords'] = movies['keywords'].apply(lambda x:[i.replace(\" \",\"\")for i in x])\n",
    "movies['cast'] = movies['cast'].apply(lambda x:[i.replace(\" \",\"\")for i in x])\n",
    "movies['crew'] = movies['crew'].apply(lambda x:[i.replace(\" \",\"\")for i in x])"
   ]
  },
  {
   "cell_type": "code",
   "execution_count": 37,
   "id": "3f49d27c",
   "metadata": {},
   "outputs": [
    {
     "data": {
      "text/html": [
       "<div>\n",
       "<style scoped>\n",
       "    .dataframe tbody tr th:only-of-type {\n",
       "        vertical-align: middle;\n",
       "    }\n",
       "\n",
       "    .dataframe tbody tr th {\n",
       "        vertical-align: top;\n",
       "    }\n",
       "\n",
       "    .dataframe thead th {\n",
       "        text-align: right;\n",
       "    }\n",
       "</style>\n",
       "<table border=\"1\" class=\"dataframe\">\n",
       "  <thead>\n",
       "    <tr style=\"text-align: right;\">\n",
       "      <th></th>\n",
       "      <th>movie_id</th>\n",
       "      <th>title</th>\n",
       "      <th>overview</th>\n",
       "      <th>genres</th>\n",
       "      <th>keywords</th>\n",
       "      <th>cast</th>\n",
       "      <th>crew</th>\n",
       "    </tr>\n",
       "  </thead>\n",
       "  <tbody>\n",
       "    <tr>\n",
       "      <th>0</th>\n",
       "      <td>19995</td>\n",
       "      <td>Avatar</td>\n",
       "      <td>[In, the, 22nd, century,, a, paraplegic, Marin...</td>\n",
       "      <td>[Action, Adventure, Fantasy, ScienceFiction]</td>\n",
       "      <td>[cultureclash, future, spacewar, spacecolony, ...</td>\n",
       "      <td>[SamWorthington, ZoeSaldana, SigourneyWeaver, ...</td>\n",
       "      <td>[[, {, \", c, r, e, d, i, t, _, i, d, \", :, , \"...</td>\n",
       "    </tr>\n",
       "    <tr>\n",
       "      <th>1</th>\n",
       "      <td>285</td>\n",
       "      <td>Pirates of the Caribbean: At World's End</td>\n",
       "      <td>[Captain, Barbossa,, long, believed, to, be, d...</td>\n",
       "      <td>[Adventure, Fantasy, Action]</td>\n",
       "      <td>[ocean, drugabuse, exoticisland, eastindiatrad...</td>\n",
       "      <td>[JohnnyDepp, OrlandoBloom, KeiraKnightley, Ste...</td>\n",
       "      <td>[[, {, \", c, r, e, d, i, t, _, i, d, \", :, , \"...</td>\n",
       "    </tr>\n",
       "    <tr>\n",
       "      <th>2</th>\n",
       "      <td>206647</td>\n",
       "      <td>Spectre</td>\n",
       "      <td>[A, cryptic, message, from, Bond’s, past, send...</td>\n",
       "      <td>[Action, Adventure, Crime]</td>\n",
       "      <td>[spy, basedonnovel, secretagent, sequel, mi6, ...</td>\n",
       "      <td>[DanielCraig, ChristophWaltz, LéaSeydoux, Ralp...</td>\n",
       "      <td>[[, {, \", c, r, e, d, i, t, _, i, d, \", :, , \"...</td>\n",
       "    </tr>\n",
       "    <tr>\n",
       "      <th>3</th>\n",
       "      <td>49026</td>\n",
       "      <td>The Dark Knight Rises</td>\n",
       "      <td>[Following, the, death, of, District, Attorney...</td>\n",
       "      <td>[Action, Crime, Drama, Thriller]</td>\n",
       "      <td>[dccomics, crimefighter, terrorist, secretiden...</td>\n",
       "      <td>[ChristianBale, MichaelCaine, GaryOldman, Anne...</td>\n",
       "      <td>[[, {, \", c, r, e, d, i, t, _, i, d, \", :, , \"...</td>\n",
       "    </tr>\n",
       "    <tr>\n",
       "      <th>4</th>\n",
       "      <td>49529</td>\n",
       "      <td>John Carter</td>\n",
       "      <td>[John, Carter, is, a, war-weary,, former, mili...</td>\n",
       "      <td>[Action, Adventure, ScienceFiction]</td>\n",
       "      <td>[basedonnovel, mars, medallion, spacetravel, p...</td>\n",
       "      <td>[TaylorKitsch, LynnCollins, SamanthaMorton, Wi...</td>\n",
       "      <td>[[, {, \", c, r, e, d, i, t, _, i, d, \", :, , \"...</td>\n",
       "    </tr>\n",
       "  </tbody>\n",
       "</table>\n",
       "</div>"
      ],
      "text/plain": [
       "   movie_id                                     title  \\\n",
       "0     19995                                    Avatar   \n",
       "1       285  Pirates of the Caribbean: At World's End   \n",
       "2    206647                                   Spectre   \n",
       "3     49026                     The Dark Knight Rises   \n",
       "4     49529                               John Carter   \n",
       "\n",
       "                                            overview  \\\n",
       "0  [In, the, 22nd, century,, a, paraplegic, Marin...   \n",
       "1  [Captain, Barbossa,, long, believed, to, be, d...   \n",
       "2  [A, cryptic, message, from, Bond’s, past, send...   \n",
       "3  [Following, the, death, of, District, Attorney...   \n",
       "4  [John, Carter, is, a, war-weary,, former, mili...   \n",
       "\n",
       "                                         genres  \\\n",
       "0  [Action, Adventure, Fantasy, ScienceFiction]   \n",
       "1                  [Adventure, Fantasy, Action]   \n",
       "2                    [Action, Adventure, Crime]   \n",
       "3              [Action, Crime, Drama, Thriller]   \n",
       "4           [Action, Adventure, ScienceFiction]   \n",
       "\n",
       "                                            keywords  \\\n",
       "0  [cultureclash, future, spacewar, spacecolony, ...   \n",
       "1  [ocean, drugabuse, exoticisland, eastindiatrad...   \n",
       "2  [spy, basedonnovel, secretagent, sequel, mi6, ...   \n",
       "3  [dccomics, crimefighter, terrorist, secretiden...   \n",
       "4  [basedonnovel, mars, medallion, spacetravel, p...   \n",
       "\n",
       "                                                cast  \\\n",
       "0  [SamWorthington, ZoeSaldana, SigourneyWeaver, ...   \n",
       "1  [JohnnyDepp, OrlandoBloom, KeiraKnightley, Ste...   \n",
       "2  [DanielCraig, ChristophWaltz, LéaSeydoux, Ralp...   \n",
       "3  [ChristianBale, MichaelCaine, GaryOldman, Anne...   \n",
       "4  [TaylorKitsch, LynnCollins, SamanthaMorton, Wi...   \n",
       "\n",
       "                                                crew  \n",
       "0  [[, {, \", c, r, e, d, i, t, _, i, d, \", :, , \"...  \n",
       "1  [[, {, \", c, r, e, d, i, t, _, i, d, \", :, , \"...  \n",
       "2  [[, {, \", c, r, e, d, i, t, _, i, d, \", :, , \"...  \n",
       "3  [[, {, \", c, r, e, d, i, t, _, i, d, \", :, , \"...  \n",
       "4  [[, {, \", c, r, e, d, i, t, _, i, d, \", :, , \"...  "
      ]
     },
     "execution_count": 37,
     "metadata": {},
     "output_type": "execute_result"
    }
   ],
   "source": [
    "movies.head()\n"
   ]
  },
  {
   "cell_type": "code",
   "execution_count": 38,
   "id": "bfd56a4b",
   "metadata": {},
   "outputs": [],
   "source": [
    "movies['tags'] = movies['overview'] + movies['genres'] + movies['keywords'] + movies['cast'] + movies['crew']"
   ]
  },
  {
   "cell_type": "code",
   "execution_count": 39,
   "id": "de84caed",
   "metadata": {},
   "outputs": [
    {
     "data": {
      "text/html": [
       "<div>\n",
       "<style scoped>\n",
       "    .dataframe tbody tr th:only-of-type {\n",
       "        vertical-align: middle;\n",
       "    }\n",
       "\n",
       "    .dataframe tbody tr th {\n",
       "        vertical-align: top;\n",
       "    }\n",
       "\n",
       "    .dataframe thead th {\n",
       "        text-align: right;\n",
       "    }\n",
       "</style>\n",
       "<table border=\"1\" class=\"dataframe\">\n",
       "  <thead>\n",
       "    <tr style=\"text-align: right;\">\n",
       "      <th></th>\n",
       "      <th>movie_id</th>\n",
       "      <th>title</th>\n",
       "      <th>overview</th>\n",
       "      <th>genres</th>\n",
       "      <th>keywords</th>\n",
       "      <th>cast</th>\n",
       "      <th>crew</th>\n",
       "      <th>tags</th>\n",
       "    </tr>\n",
       "  </thead>\n",
       "  <tbody>\n",
       "    <tr>\n",
       "      <th>0</th>\n",
       "      <td>19995</td>\n",
       "      <td>Avatar</td>\n",
       "      <td>[In, the, 22nd, century,, a, paraplegic, Marin...</td>\n",
       "      <td>[Action, Adventure, Fantasy, ScienceFiction]</td>\n",
       "      <td>[cultureclash, future, spacewar, spacecolony, ...</td>\n",
       "      <td>[SamWorthington, ZoeSaldana, SigourneyWeaver, ...</td>\n",
       "      <td>[[, {, \", c, r, e, d, i, t, _, i, d, \", :, , \"...</td>\n",
       "      <td>[In, the, 22nd, century,, a, paraplegic, Marin...</td>\n",
       "    </tr>\n",
       "    <tr>\n",
       "      <th>1</th>\n",
       "      <td>285</td>\n",
       "      <td>Pirates of the Caribbean: At World's End</td>\n",
       "      <td>[Captain, Barbossa,, long, believed, to, be, d...</td>\n",
       "      <td>[Adventure, Fantasy, Action]</td>\n",
       "      <td>[ocean, drugabuse, exoticisland, eastindiatrad...</td>\n",
       "      <td>[JohnnyDepp, OrlandoBloom, KeiraKnightley, Ste...</td>\n",
       "      <td>[[, {, \", c, r, e, d, i, t, _, i, d, \", :, , \"...</td>\n",
       "      <td>[Captain, Barbossa,, long, believed, to, be, d...</td>\n",
       "    </tr>\n",
       "    <tr>\n",
       "      <th>2</th>\n",
       "      <td>206647</td>\n",
       "      <td>Spectre</td>\n",
       "      <td>[A, cryptic, message, from, Bond’s, past, send...</td>\n",
       "      <td>[Action, Adventure, Crime]</td>\n",
       "      <td>[spy, basedonnovel, secretagent, sequel, mi6, ...</td>\n",
       "      <td>[DanielCraig, ChristophWaltz, LéaSeydoux, Ralp...</td>\n",
       "      <td>[[, {, \", c, r, e, d, i, t, _, i, d, \", :, , \"...</td>\n",
       "      <td>[A, cryptic, message, from, Bond’s, past, send...</td>\n",
       "    </tr>\n",
       "    <tr>\n",
       "      <th>3</th>\n",
       "      <td>49026</td>\n",
       "      <td>The Dark Knight Rises</td>\n",
       "      <td>[Following, the, death, of, District, Attorney...</td>\n",
       "      <td>[Action, Crime, Drama, Thriller]</td>\n",
       "      <td>[dccomics, crimefighter, terrorist, secretiden...</td>\n",
       "      <td>[ChristianBale, MichaelCaine, GaryOldman, Anne...</td>\n",
       "      <td>[[, {, \", c, r, e, d, i, t, _, i, d, \", :, , \"...</td>\n",
       "      <td>[Following, the, death, of, District, Attorney...</td>\n",
       "    </tr>\n",
       "    <tr>\n",
       "      <th>4</th>\n",
       "      <td>49529</td>\n",
       "      <td>John Carter</td>\n",
       "      <td>[John, Carter, is, a, war-weary,, former, mili...</td>\n",
       "      <td>[Action, Adventure, ScienceFiction]</td>\n",
       "      <td>[basedonnovel, mars, medallion, spacetravel, p...</td>\n",
       "      <td>[TaylorKitsch, LynnCollins, SamanthaMorton, Wi...</td>\n",
       "      <td>[[, {, \", c, r, e, d, i, t, _, i, d, \", :, , \"...</td>\n",
       "      <td>[John, Carter, is, a, war-weary,, former, mili...</td>\n",
       "    </tr>\n",
       "  </tbody>\n",
       "</table>\n",
       "</div>"
      ],
      "text/plain": [
       "   movie_id                                     title  \\\n",
       "0     19995                                    Avatar   \n",
       "1       285  Pirates of the Caribbean: At World's End   \n",
       "2    206647                                   Spectre   \n",
       "3     49026                     The Dark Knight Rises   \n",
       "4     49529                               John Carter   \n",
       "\n",
       "                                            overview  \\\n",
       "0  [In, the, 22nd, century,, a, paraplegic, Marin...   \n",
       "1  [Captain, Barbossa,, long, believed, to, be, d...   \n",
       "2  [A, cryptic, message, from, Bond’s, past, send...   \n",
       "3  [Following, the, death, of, District, Attorney...   \n",
       "4  [John, Carter, is, a, war-weary,, former, mili...   \n",
       "\n",
       "                                         genres  \\\n",
       "0  [Action, Adventure, Fantasy, ScienceFiction]   \n",
       "1                  [Adventure, Fantasy, Action]   \n",
       "2                    [Action, Adventure, Crime]   \n",
       "3              [Action, Crime, Drama, Thriller]   \n",
       "4           [Action, Adventure, ScienceFiction]   \n",
       "\n",
       "                                            keywords  \\\n",
       "0  [cultureclash, future, spacewar, spacecolony, ...   \n",
       "1  [ocean, drugabuse, exoticisland, eastindiatrad...   \n",
       "2  [spy, basedonnovel, secretagent, sequel, mi6, ...   \n",
       "3  [dccomics, crimefighter, terrorist, secretiden...   \n",
       "4  [basedonnovel, mars, medallion, spacetravel, p...   \n",
       "\n",
       "                                                cast  \\\n",
       "0  [SamWorthington, ZoeSaldana, SigourneyWeaver, ...   \n",
       "1  [JohnnyDepp, OrlandoBloom, KeiraKnightley, Ste...   \n",
       "2  [DanielCraig, ChristophWaltz, LéaSeydoux, Ralp...   \n",
       "3  [ChristianBale, MichaelCaine, GaryOldman, Anne...   \n",
       "4  [TaylorKitsch, LynnCollins, SamanthaMorton, Wi...   \n",
       "\n",
       "                                                crew  \\\n",
       "0  [[, {, \", c, r, e, d, i, t, _, i, d, \", :, , \"...   \n",
       "1  [[, {, \", c, r, e, d, i, t, _, i, d, \", :, , \"...   \n",
       "2  [[, {, \", c, r, e, d, i, t, _, i, d, \", :, , \"...   \n",
       "3  [[, {, \", c, r, e, d, i, t, _, i, d, \", :, , \"...   \n",
       "4  [[, {, \", c, r, e, d, i, t, _, i, d, \", :, , \"...   \n",
       "\n",
       "                                                tags  \n",
       "0  [In, the, 22nd, century,, a, paraplegic, Marin...  \n",
       "1  [Captain, Barbossa,, long, believed, to, be, d...  \n",
       "2  [A, cryptic, message, from, Bond’s, past, send...  \n",
       "3  [Following, the, death, of, District, Attorney...  \n",
       "4  [John, Carter, is, a, war-weary,, former, mili...  "
      ]
     },
     "execution_count": 39,
     "metadata": {},
     "output_type": "execute_result"
    }
   ],
   "source": [
    "movies.head()"
   ]
  },
  {
   "cell_type": "code",
   "execution_count": 116,
   "id": "66f16cf2",
   "metadata": {},
   "outputs": [],
   "source": [
    "new_dataframe = movies[['movie_id','title','tags']]"
   ]
  },
  {
   "cell_type": "code",
   "execution_count": 117,
   "id": "0c6ae6d2",
   "metadata": {},
   "outputs": [
    {
     "data": {
      "text/html": [
       "<div>\n",
       "<style scoped>\n",
       "    .dataframe tbody tr th:only-of-type {\n",
       "        vertical-align: middle;\n",
       "    }\n",
       "\n",
       "    .dataframe tbody tr th {\n",
       "        vertical-align: top;\n",
       "    }\n",
       "\n",
       "    .dataframe thead th {\n",
       "        text-align: right;\n",
       "    }\n",
       "</style>\n",
       "<table border=\"1\" class=\"dataframe\">\n",
       "  <thead>\n",
       "    <tr style=\"text-align: right;\">\n",
       "      <th></th>\n",
       "      <th>movie_id</th>\n",
       "      <th>title</th>\n",
       "      <th>tags</th>\n",
       "    </tr>\n",
       "  </thead>\n",
       "  <tbody>\n",
       "    <tr>\n",
       "      <th>0</th>\n",
       "      <td>19995</td>\n",
       "      <td>Avatar</td>\n",
       "      <td>[In, the, 22nd, century,, a, paraplegic, Marin...</td>\n",
       "    </tr>\n",
       "    <tr>\n",
       "      <th>1</th>\n",
       "      <td>285</td>\n",
       "      <td>Pirates of the Caribbean: At World's End</td>\n",
       "      <td>[Captain, Barbossa,, long, believed, to, be, d...</td>\n",
       "    </tr>\n",
       "    <tr>\n",
       "      <th>2</th>\n",
       "      <td>206647</td>\n",
       "      <td>Spectre</td>\n",
       "      <td>[A, cryptic, message, from, Bond’s, past, send...</td>\n",
       "    </tr>\n",
       "    <tr>\n",
       "      <th>3</th>\n",
       "      <td>49026</td>\n",
       "      <td>The Dark Knight Rises</td>\n",
       "      <td>[Following, the, death, of, District, Attorney...</td>\n",
       "    </tr>\n",
       "    <tr>\n",
       "      <th>4</th>\n",
       "      <td>49529</td>\n",
       "      <td>John Carter</td>\n",
       "      <td>[John, Carter, is, a, war-weary,, former, mili...</td>\n",
       "    </tr>\n",
       "    <tr>\n",
       "      <th>...</th>\n",
       "      <td>...</td>\n",
       "      <td>...</td>\n",
       "      <td>...</td>\n",
       "    </tr>\n",
       "    <tr>\n",
       "      <th>4804</th>\n",
       "      <td>9367</td>\n",
       "      <td>El Mariachi</td>\n",
       "      <td>[El, Mariachi, just, wants, to, play, his, gui...</td>\n",
       "    </tr>\n",
       "    <tr>\n",
       "      <th>4805</th>\n",
       "      <td>72766</td>\n",
       "      <td>Newlyweds</td>\n",
       "      <td>[A, newlywed, couple's, honeymoon, is, upended...</td>\n",
       "    </tr>\n",
       "    <tr>\n",
       "      <th>4806</th>\n",
       "      <td>231617</td>\n",
       "      <td>Signed, Sealed, Delivered</td>\n",
       "      <td>[\"Signed,, Sealed,, Delivered\", introduces, a,...</td>\n",
       "    </tr>\n",
       "    <tr>\n",
       "      <th>4807</th>\n",
       "      <td>126186</td>\n",
       "      <td>Shanghai Calling</td>\n",
       "      <td>[When, ambitious, New, York, attorney, Sam, is...</td>\n",
       "    </tr>\n",
       "    <tr>\n",
       "      <th>4808</th>\n",
       "      <td>25975</td>\n",
       "      <td>My Date with Drew</td>\n",
       "      <td>[Ever, since, the, second, grade, when, he, fi...</td>\n",
       "    </tr>\n",
       "  </tbody>\n",
       "</table>\n",
       "<p>4806 rows × 3 columns</p>\n",
       "</div>"
      ],
      "text/plain": [
       "      movie_id                                     title  \\\n",
       "0        19995                                    Avatar   \n",
       "1          285  Pirates of the Caribbean: At World's End   \n",
       "2       206647                                   Spectre   \n",
       "3        49026                     The Dark Knight Rises   \n",
       "4        49529                               John Carter   \n",
       "...        ...                                       ...   \n",
       "4804      9367                               El Mariachi   \n",
       "4805     72766                                 Newlyweds   \n",
       "4806    231617                 Signed, Sealed, Delivered   \n",
       "4807    126186                          Shanghai Calling   \n",
       "4808     25975                         My Date with Drew   \n",
       "\n",
       "                                                   tags  \n",
       "0     [In, the, 22nd, century,, a, paraplegic, Marin...  \n",
       "1     [Captain, Barbossa,, long, believed, to, be, d...  \n",
       "2     [A, cryptic, message, from, Bond’s, past, send...  \n",
       "3     [Following, the, death, of, District, Attorney...  \n",
       "4     [John, Carter, is, a, war-weary,, former, mili...  \n",
       "...                                                 ...  \n",
       "4804  [El, Mariachi, just, wants, to, play, his, gui...  \n",
       "4805  [A, newlywed, couple's, honeymoon, is, upended...  \n",
       "4806  [\"Signed,, Sealed,, Delivered\", introduces, a,...  \n",
       "4807  [When, ambitious, New, York, attorney, Sam, is...  \n",
       "4808  [Ever, since, the, second, grade, when, he, fi...  \n",
       "\n",
       "[4806 rows x 3 columns]"
      ]
     },
     "execution_count": 117,
     "metadata": {},
     "output_type": "execute_result"
    }
   ],
   "source": [
    "new_dataframe"
   ]
  },
  {
   "cell_type": "code",
   "execution_count": 118,
   "id": "5c8e2aa4",
   "metadata": {},
   "outputs": [
    {
     "name": "stderr",
     "output_type": "stream",
     "text": [
      "C:\\Users\\HP\\AppData\\Local\\Temp\\ipykernel_19532\\1236493660.py:1: SettingWithCopyWarning: \n",
      "A value is trying to be set on a copy of a slice from a DataFrame.\n",
      "Try using .loc[row_indexer,col_indexer] = value instead\n",
      "\n",
      "See the caveats in the documentation: https://pandas.pydata.org/pandas-docs/stable/user_guide/indexing.html#returning-a-view-versus-a-copy\n",
      "  new_dataframe['tags'] = new_dataframe['tags'].apply(lambda x:\" \".join(x))\n"
     ]
    }
   ],
   "source": [
    "new_dataframe['tags'] = new_dataframe['tags'].apply(lambda x:\" \".join(x))"
   ]
  },
  {
   "cell_type": "code",
   "execution_count": 119,
   "id": "7d019371",
   "metadata": {},
   "outputs": [
    {
     "data": {
      "text/html": [
       "<div>\n",
       "<style scoped>\n",
       "    .dataframe tbody tr th:only-of-type {\n",
       "        vertical-align: middle;\n",
       "    }\n",
       "\n",
       "    .dataframe tbody tr th {\n",
       "        vertical-align: top;\n",
       "    }\n",
       "\n",
       "    .dataframe thead th {\n",
       "        text-align: right;\n",
       "    }\n",
       "</style>\n",
       "<table border=\"1\" class=\"dataframe\">\n",
       "  <thead>\n",
       "    <tr style=\"text-align: right;\">\n",
       "      <th></th>\n",
       "      <th>movie_id</th>\n",
       "      <th>title</th>\n",
       "      <th>tags</th>\n",
       "    </tr>\n",
       "  </thead>\n",
       "  <tbody>\n",
       "    <tr>\n",
       "      <th>0</th>\n",
       "      <td>19995</td>\n",
       "      <td>Avatar</td>\n",
       "      <td>In the 22nd century, a paraplegic Marine is di...</td>\n",
       "    </tr>\n",
       "    <tr>\n",
       "      <th>1</th>\n",
       "      <td>285</td>\n",
       "      <td>Pirates of the Caribbean: At World's End</td>\n",
       "      <td>Captain Barbossa, long believed to be dead, ha...</td>\n",
       "    </tr>\n",
       "    <tr>\n",
       "      <th>2</th>\n",
       "      <td>206647</td>\n",
       "      <td>Spectre</td>\n",
       "      <td>A cryptic message from Bond’s past sends him o...</td>\n",
       "    </tr>\n",
       "    <tr>\n",
       "      <th>3</th>\n",
       "      <td>49026</td>\n",
       "      <td>The Dark Knight Rises</td>\n",
       "      <td>Following the death of District Attorney Harve...</td>\n",
       "    </tr>\n",
       "    <tr>\n",
       "      <th>4</th>\n",
       "      <td>49529</td>\n",
       "      <td>John Carter</td>\n",
       "      <td>John Carter is a war-weary, former military ca...</td>\n",
       "    </tr>\n",
       "  </tbody>\n",
       "</table>\n",
       "</div>"
      ],
      "text/plain": [
       "   movie_id                                     title  \\\n",
       "0     19995                                    Avatar   \n",
       "1       285  Pirates of the Caribbean: At World's End   \n",
       "2    206647                                   Spectre   \n",
       "3     49026                     The Dark Knight Rises   \n",
       "4     49529                               John Carter   \n",
       "\n",
       "                                                tags  \n",
       "0  In the 22nd century, a paraplegic Marine is di...  \n",
       "1  Captain Barbossa, long believed to be dead, ha...  \n",
       "2  A cryptic message from Bond’s past sends him o...  \n",
       "3  Following the death of District Attorney Harve...  \n",
       "4  John Carter is a war-weary, former military ca...  "
      ]
     },
     "execution_count": 119,
     "metadata": {},
     "output_type": "execute_result"
    }
   ],
   "source": [
    "new_dataframe.head()"
   ]
  },
  {
   "cell_type": "code",
   "execution_count": 120,
   "id": "e83ff3d2",
   "metadata": {},
   "outputs": [
    {
     "data": {
      "text/plain": [
       "'In the 22nd century, a paraplegic Marine is dispatched to the moon Pandora on a unique mission, but becomes torn between following orders and protecting an alien civilization. Action Adventure Fantasy ScienceFiction cultureclash future spacewar spacecolony society spacetravel futuristic romance space alien tribe alienplanet cgi marine soldier battle loveaffair antiwar powerrelations mindandsoul 3d SamWorthington ZoeSaldana SigourneyWeaver StephenLang MichelleRodriguez GiovanniRibisi JoelDavidMoore CCHPounder WesStudi LazAlonso DileepRao MattGerald SeanAnthonyMoran JasonWhyte ScottLawrence KellyKilgour JamesPatrickPitt SeanPatrickMurphy PeterDillon KevinDorman KelsonHenderson DavidVanHorn JacobTomuri MichaelBlain-Rozgay JonCurry LukeHawker WoodySchultz PeterMensah SoniaYee JahnelCurfman IlramChoi KylaWarren LisaRoumain DebraWilson ChrisMala TaylorKibby JodieLandau JulieLamm CullenB.Madden JosephBradyMadden FrankieTorres AustinWilson SaraWilson TamicaWashington-Miller LucyBriant NathanMeister GerryBlair MatthewChamberlain PaulYates WrayWilson JamesGaylyn MelvinLenoClarkIII CarvonFutrell BrandonJelkes MicahMoch HanniyahMuhammad ChristopherNolen ChristaOliver AprilMarieThomas BravitaA.Threatt ColinBleasdale MikeBodnar MattClayton NicoleDionne JamieHarrison AllanHenry AnthonyIngruber AshleyJeffery DeanKnowsley JosephMika-Hunt TerryNotary KaiPantano LoganPithyou StuartPollock Raja GarethRuck RhianSheehan T.J.Storm JodieTaylor AliciaVela-Bailey RichardWhiteside NikieZambo JuleneRenee [ { \" c r e d i t _ i d \" :  \" 5 2 f e 4 8 0 0 9 2 5 1 4 1 6 c 7 5 0 a c a 2 3 \" ,  \" d e p a r t m e n t \" :  \" E d i t i n g \" ,  \" g e n d e r \" :  0 ,  \" i d \" :  1 7 2 1 ,  \" j o b \" :  \" E d i t o r \" ,  \" n a m e \" :  \" S t e p h e n  E .  R i v k i n \" } ,  { \" c r e d i t _ i d \" :  \" 5 3 9 c 4 7 e c c 3 a 3 6 8 1 0 e 3 0 0 1 f 8 7 \" ,  \" d e p a r t m e n t \" :  \" A r t \" ,  \" g e n d e r \" :  2 ,  \" i d \" :  4 9 6 ,  \" j o b \" :  \" P r o d u c t i o n  D e s i g n \" ,  \" n a m e \" :  \" R i c k  C a r t e r \" } ,  { \" c r e d i t _ i d \" :  \" 5 4 4 9 1 c 8 9 c 3 a 3 6 8 0 f b 4 0 0 1 c f 7 \" ,  \" d e p a r t m e n t \" :  \" S o u n d \" ,  \" g e n d e r \" :  0 ,  \" i d \" :  9 0 0 ,  \" j o b \" :  \" S o u n d  D e s i g n e r \" ,  \" n a m e \" :  \" C h r i s t o p h e r  B o y e s \" } ,  { \" c r e d i t _ i d \" :  \" 5 4 4 9 1 c b 7 0 e 0 a 2 6 7 4 8 0 0 0 1 b d 0 \" ,  \" d e p a r t m e n t \" :  \" S o u n d \" ,  \" g e n d e r \" :  0 ,  \" i d \" :  9 0 0 ,  \" j o b \" :  \" S u p e r v i s i n g  S o u n d  E d i t o r \" ,  \" n a m e \" :  \" C h r i s t o p h e r  B o y e s \" } ,  { \" c r e d i t _ i d \" :  \" 5 3 9 c 4 a 4 c c 3 a 3 6 8 1 0 c 9 0 0 2 1 0 1 \" ,  \" d e p a r t m e n t \" :  \" P r o d u c t i o n \" ,  \" g e n d e r \" :  1 ,  \" i d \" :  1 2 6 2 ,  \" j o b \" :  \" C a s t i n g \" ,  \" n a m e \" :  \" M a l i  F i n n \" } ,  { \" c r e d i t _ i d \" :  \" 5 5 4 4 e e 3 b 9 2 5 1 4 1 4 9 9 f 0 0 0 8 f c \" ,  \" d e p a r t m e n t \" :  \" S o u n d \" ,  \" g e n d e r \" :  2 ,  \" i d \" :  1 7 2 9 ,  \" j o b \" :  \" O r i g i n a l  M u s i c  C o m p o s e r \" ,  \" n a m e \" :  \" J a m e s  H o r n e r \" } ,  { \" c r e d i t _ i d \" :  \" 5 2 f e 4 8 0 0 9 2 5 1 4 1 6 c 7 5 0 a c 9 c 3 \" ,  \" d e p a r t m e n t \" :  \" D i r e c t i n g \" ,  \" g e n d e r \" :  2 ,  \" i d \" :  2 7 1 0 ,  \" j o b \" :  \" D i r e c t o r \" ,  \" n a m e \" :  \" J a m e s  C a m e r o n \" } ,  { \" c r e d i t _ i d \" :  \" 5 2 f e 4 8 0 0 9 2 5 1 4 1 6 c 7 5 0 a c 9 d 9 \" ,  \" d e p a r t m e n t \" :  \" W r i t i n g \" ,  \" g e n d e r \" :  2 ,  \" i d \" :  2 7 1 0 ,  \" j o b \" :  \" W r i t e r \" ,  \" n a m e \" :  \" J a m e s  C a m e r o n \" } ,  { \" c r e d i t _ i d \" :  \" 5 2 f e 4 8 0 0 9 2 5 1 4 1 6 c 7 5 0 a c a 1 7 \" ,  \" d e p a r t m e n t \" :  \" E d i t i n g \" ,  \" g e n d e r \" :  2 ,  \" i d \" :  2 7 1 0 ,  \" j o b \" :  \" E d i t o r \" ,  \" n a m e \" :  \" J a m e s  C a m e r o n \" } ,  { \" c r e d i t _ i d \" :  \" 5 2 f e 4 8 0 0 9 2 5 1 4 1 6 c 7 5 0 a c a 2 9 \" ,  \" d e p a r t m e n t \" :  \" P r o d u c t i o n \" ,  \" g e n d e r \" :  2 ,  \" i d \" :  2 7 1 0 ,  \" j o b \" :  \" P r o d u c e r \" ,  \" n a m e \" :  \" J a m e s  C a m e r o n \" } ,  { \" c r e d i t _ i d \" :  \" 5 2 f e 4 8 0 0 9 2 5 1 4 1 6 c 7 5 0 a c a 3 f \" ,  \" d e p a r t m e n t \" :  \" W r i t i n g \" ,  \" g e n d e r \" :  2 ,  \" i d \" :  2 7 1 0 ,  \" j o b \" :  \" S c r e e n p l a y \" ,  \" n a m e \" :  \" J a m e s  C a m e r o n \" } ,  { \" c r e d i t _ i d \" :  \" 5 3 9 c 4 9 8 7 c 3 a 3 6 8 1 0 b a 0 0 2 1 a 4 \" ,  \" d e p a r t m e n t \" :  \" A r t \" ,  \" g e n d e r \" :  2 ,  \" i d \" :  7 2 3 6 ,  \" j o b \" :  \" A r t  D i r e c t i o n \" ,  \" n a m e \" :  \" A n d r e w  M e n z i e s \" } ,  { \" c r e d i t _ i d \" :  \" 5 4 9 5 9 8 c 3 c 3 a 3 6 8 6 a e 9 0 0 4 3 8 3 \" ,  \" d e p a r t m e n t \" :  \" V i s u a l  E f f e c t s \" ,  \" g e n d e r \" :  0 ,  \" i d \" :  6 6 9 0 ,  \" j o b \" :  \" V i s u a l  E f f e c t s  P r o d u c e r \" ,  \" n a m e \" :  \" J i l l  B r o o k s \" } ,  { \" c r e d i t _ i d \" :  \" 5 2 f e 4 8 0 0 9 2 5 1 4 1 6 c 7 5 0 a c a 4 b \" ,  \" d e p a r t m e n t \" :  \" P r o d u c t i o n \" ,  \" g e n d e r \" :  1 ,  \" i d \" :  6 3 4 7 ,  \" j o b \" :  \" C a s t i n g \" ,  \" n a m e \" :  \" M a r g e r y  S i m k i n \" } ,  { \" c r e d i t _ i d \" :  \" 5 7 0 b 6 f 4 1 9 2 5 1 4 1 7 d a 7 0 0 3 2 f e \" ,  \" d e p a r t m e n t \" :  \" A r t \" ,  \" g e n d e r \" :  2 ,  \" i d \" :  6 8 7 8 ,  \" j o b \" :  \" S u p e r v i s i n g  A r t  D i r e c t o r \" ,  \" n a m e \" :  \" K e v i n  I s h i o k a \" } ,  { \" c r e d i t _ i d \" :  \" 5 4 9 5 a 0 f a c 3 a 3 6 8 6 a e 9 0 0 4 4 6 8 \" ,  \" d e p a r t m e n t \" :  \" S o u n d \" ,  \" g e n d e r \" :  0 ,  \" i d \" :  6 8 8 3 ,  \" j o b \" :  \" M u s i c  E d i t o r \" ,  \" n a m e \" :  \" D i c k  B e r n s t e i n \" } ,  { \" c r e d i t _ i d \" :  \" 5 4 9 5 9 7 0 6 c 3 a 3 6 8 6 a f 3 0 0 3 e 8 1 \" ,  \" d e p a r t m e n t \" :  \" S o u n d \" ,  \" g e n d e r \" :  0 ,  \" i d \" :  8 1 5 9 ,  \" j o b \" :  \" S o u n d  E f f e c t s  E d i t o r \" ,  \" n a m e \" :  \" S h a n n o n  M i l l s \" } ,  { \" c r e d i t _ i d \" :  \" 5 4 4 9 1 d 5 8 c 3 a 3 6 8 0 f b 1 0 0 1 c c b \" ,  \" d e p a r t m e n t \" :  \" S o u n d \" ,  \" g e n d e r \" :  0 ,  \" i d \" :  8 1 6 0 ,  \" j o b \" :  \" F o l e y \" ,  \" n a m e \" :  \" D e n n i e  T h o r p e \" } ,  { \" c r e d i t _ i d \" :  \" 5 4 4 9 1 d 6 c c 3 a 3 6 8 0 f a 5 0 0 1 b 2 c \" ,  \" d e p a r t m e n t \" :  \" S o u n d \" ,  \" g e n d e r \" :  0 ,  \" i d \" :  8 1 6 3 ,  \" j o b \" :  \" F o l e y \" ,  \" n a m e \" :  \" J a n a  V a n c e \" } ,  { \" c r e d i t _ i d \" :  \" 5 2 f e 4 8 0 0 9 2 5 1 4 1 6 c 7 5 0 a c a 5 7 \" ,  \" d e p a r t m e n t \" :  \" C o s t u m e  &  M a k e - U p \" ,  \" g e n d e r \" :  1 ,  \" i d \" :  8 5 2 7 ,  \" j o b \" :  \" C o s t u m e  D e s i g n \" ,  \" n a m e \" :  \" D e b o r a h  L y n n  S c o t t \" } ,  { \" c r e d i t _ i d \" :  \" 5 2 f e 4 8 0 0 9 2 5 1 4 1 6 c 7 5 0 a c a 2 f \" ,  \" d e p a r t m e n t \" :  \" P r o d u c t i o n \" ,  \" g e n d e r \" :  2 ,  \" i d \" :  8 5 2 9 ,  \" j o b \" :  \" P r o d u c e r \" ,  \" n a m e \" :  \" J o n  L a n d a u \" } ,  { \" c r e d i t _ i d \" :  \" 5 3 9 c 4 9 3 7 c 3 a 3 6 8 1 0 b a 0 0 2 1 9 4 \" ,  \" d e p a r t m e n t \" :  \" A r t \" ,  \" g e n d e r \" :  0 ,  \" i d \" :  9 6 1 8 ,  \" j o b \" :  \" A r t  D i r e c t i o n \" ,  \" n a m e \" :  \" S e a n  H a w o r t h \" } ,  { \" c r e d i t _ i d \" :  \" 5 3 9 c 4 9 b 6 c 3 a 3 6 8 1 0 c 1 0 0 2 0 e 6 \" ,  \" d e p a r t m e n t \" :  \" A r t \" ,  \" g e n d e r \" :  1 ,  \" i d \" :  1 2 6 5 3 ,  \" j o b \" :  \" S e t  D e c o r a t i o n \" ,  \" n a m e \" :  \" K i m  S i n c l a i r \" } ,  { \" c r e d i t _ i d \" :  \" 5 7 0 b 6 f 2 f 9 2 5 1 4 1 3 a 0 e 0 0 0 2 0 d \" ,  \" d e p a r t m e n t \" :  \" A r t \" ,  \" g e n d e r \" :  1 ,  \" i d \" :  1 2 6 5 3 ,  \" j o b \" :  \" S u p e r v i s i n g  A r t  D i r e c t o r \" ,  \" n a m e \" :  \" K i m  S i n c l a i r \" } ,  { \" c r e d i t _ i d \" :  \" 5 4 4 9 1 a 6 c 0 e 0 a 2 6 7 4 8 c 0 0 1 b 1 9 \" ,  \" d e p a r t m e n t \" :  \" A r t \" ,  \" g e n d e r \" :  2 ,  \" i d \" :  1 4 3 5 0 ,  \" j o b \" :  \" S e t  D e s i g n e r \" ,  \" n a m e \" :  \" R i c h a r d  F .  M a y s \" } ,  { \" c r e d i t _ i d \" :  \" 5 6 9 2 8 c f 4 c 3 a 3 6 8 4 c f f 0 0 2 5 c 4 \" ,  \" d e p a r t m e n t \" :  \" P r o d u c t i o n \" ,  \" g e n d e r \" :  1 ,  \" i d \" :  2 0 2 9 4 ,  \" j o b \" :  \" E x e c u t i v e  P r o d u c e r \" ,  \" n a m e \" :  \" L a e t a  K a l o g r i d i s \" } ,  { \" c r e d i t _ i d \" :  \" 5 2 f e 4 8 0 0 9 2 5 1 4 1 6 c 7 5 0 a c a 5 1 \" ,  \" d e p a r t m e n t \" :  \" C o s t u m e  &  M a k e - U p \" ,  \" g e n d e r \" :  0 ,  \" i d \" :  1 7 6 7 5 ,  \" j o b \" :  \" C o s t u m e  D e s i g n \" ,  \" n a m e \" :  \" M a y e s  C .  R u b e o \" } ,  { \" c r e d i t _ i d \" :  \" 5 2 f e 4 8 0 0 9 2 5 1 4 1 6 c 7 5 0 a c a 1 1 \" ,  \" d e p a r t m e n t \" :  \" C a m e r a \" ,  \" g e n d e r \" :  2 ,  \" i d \" :  1 8 2 6 5 ,  \" j o b \" :  \" D i r e c t o r  o f  P h o t o g r a p h y \" ,  \" n a m e \" :  \" M a u r o  F i o r e \" } ,  { \" c r e d i t _ i d \" :  \" 5 4 4 9 1 9 4 d 0 e 0 a 2 6 7 4 8 f 0 0 1 b 3 9 \" ,  \" d e p a r t m e n t \" :  \" A r t \" ,  \" g e n d e r \" :  0 ,  \" i d \" :  4 2 2 8 1 ,  \" j o b \" :  \" S e t  D e s i g n e r \" ,  \" n a m e \" :  \" S c o t t  H e r b e r t s o n \" } ,  { \" c r e d i t _ i d \" :  \" 5 2 f e 4 8 0 0 9 2 5 1 4 1 6 c 7 5 0 a c a 0 5 \" ,  \" d e p a r t m e n t \" :  \" C r e w \" ,  \" g e n d e r \" :  0 ,  \" i d \" :  4 2 2 8 8 ,  \" j o b \" :  \" S t u n t s \" ,  \" n a m e \" :  \" W o o d y  S c h u l t z \" } ,  { \" c r e d i t _ i d \" :  \" 5 5 9 2 a e f b 9 2 5 1 4 1 5 2 d e 0 0 1 0 f 5 \" ,  \" d e p a r t m e n t \" :  \" C o s t u m e  &  M a k e - U p \" ,  \" g e n d e r \" :  0 ,  \" i d \" :  2 9 0 6 7 ,  \" j o b \" :  \" M a k e u p  A r t i s t \" ,  \" n a m e \" :  \" L i n d a  D e V e t t a \" } ,  { \" c r e d i t _ i d \" :  \" 5 5 9 2 a f a 4 9 2 5 1 4 1 5 2 d e 0 0 1 1 2 c \" ,  \" d e p a r t m e n t \" :  \" C o s t u m e  &  M a k e - U p \" ,  \" g e n d e r \" :  0 ,  \" i d \" :  2 9 0 6 7 ,  \" j o b \" :  \" H a i r s t y l i s t \" ,  \" n a m e \" :  \" L i n d a  D e V e t t a \" } ,  { \" c r e d i t _ i d \" :  \" 5 4 9 5 9 e d 5 9 2 5 1 4 1 3 0 f c 0 0 2 e 5 d \" ,  \" d e p a r t m e n t \" :  \" C a m e r a \" ,  \" g e n d e r \" :  2 ,  \" i d \" :  3 3 3 0 2 ,  \" j o b \" :  \" C a m e r a  O p e r a t o r \" ,  \" n a m e \" :  \" R i c h a r d  B l u c k \" } ,  { \" c r e d i t _ i d \" :  \" 5 3 9 c 4 8 9 1 c 3 a 3 6 8 1 0 b a 0 0 2 1 4 7 \" ,  \" d e p a r t m e n t \" :  \" A r t \" ,  \" g e n d e r \" :  2 ,  \" i d \" :  3 3 3 0 3 ,  \" j o b \" :  \" A r t  D i r e c t i o n \" ,  \" n a m e \" :  \" S i m o n  B r i g h t \" } ,  { \" c r e d i t _ i d \" :  \" 5 4 9 5 9 c 0 6 9 2 5 1 4 1 7 a 8 1 0 0 1 f 3 a \" ,  \" d e p a r t m e n t \" :  \" V i s u a l  E f f e c t s \" ,  \" g e n d e r \" :  0 ,  \" i d \" :  1 1 3 1 4 5 ,  \" j o b \" :  \" V i s u a l  E f f e c t s  S u p e r v i s o r \" ,  \" n a m e \" :  \" R i c h a r d  M a r t i n \" } ,  { \" c r e d i t _ i d \" :  \" 5 4 9 5 9 a 0 d c 3 a 3 6 8 0 f f 5 0 0 2 c 8 d \" ,  \" d e p a r t m e n t \" :  \" C r e w \" ,  \" g e n d e r \" :  2 ,  \" i d \" :  5 8 1 8 8 ,  \" j o b \" :  \" V i s u a l  E f f e c t s  E d i t o r \" ,  \" n a m e \" :  \" S t e v e  R .  M o o r e \" } ,  { \" c r e d i t _ i d \" :  \" 5 2 f e 4 8 0 0 9 2 5 1 4 1 6 c 7 5 0 a c a 1 d \" ,  \" d e p a r t m e n t \" :  \" E d i t i n g \" ,  \" g e n d e r \" :  2 ,  \" i d \" :  5 8 8 7 1 ,  \" j o b \" :  \" E d i t o r \" ,  \" n a m e \" :  \" J o h n  R e f o u a \" } ,  { \" c r e d i t _ i d \" :  \" 5 4 4 9 1 a 4 d c 3 a 3 6 8 0 f c 3 0 0 1 8 c a \" ,  \" d e p a r t m e n t \" :  \" A r t \" ,  \" g e n d e r \" :  0 ,  \" i d \" :  9 2 3 5 9 ,  \" j o b \" :  \" S e t  D e s i g n e r \" ,  \" n a m e \" :  \" K a r l  J .  M a r t i n \" } ,  { \" c r e d i t _ i d \" :  \" 5 2 f e 4 8 0 0 9 2 5 1 4 1 6 c 7 5 0 a c a 3 5 \" ,  \" d e p a r t m e n t \" :  \" C a m e r a \" ,  \" g e n d e r \" :  1 ,  \" i d \" :  7 2 2 0 1 ,  \" j o b \" :  \" D i r e c t o r  o f  P h o t o g r a p h y \" ,  \" n a m e \" :  \" C h i l i n g  L i n \" } ,  { \" c r e d i t _ i d \" :  \" 5 2 f e 4 8 0 0 9 2 5 1 4 1 6 c 7 5 0 a c 9 f f \" ,  \" d e p a r t m e n t \" :  \" C r e w \" ,  \" g e n d e r \" :  0 ,  \" i d \" :  8 9 7 1 4 ,  \" j o b \" :  \" S t u n t s \" ,  \" n a m e \" :  \" I l r a m  C h o i \" } ,  { \" c r e d i t _ i d \" :  \" 5 4 9 5 9 c 5 2 9 2 5 1 4 1 6 e 2 b 0 0 4 3 9 4 \" ,  \" d e p a r t m e n t \" :  \" V i s u a l  E f f e c t s \" ,  \" g e n d e r \" :  2 ,  \" i d \" :  9 3 2 1 4 ,  \" j o b \" :  \" V i s u a l  E f f e c t s  S u p e r v i s o r \" ,  \" n a m e \" :  \" S t e v e n  Q u a l e \" } ,  { \" c r e d i t _ i d \" :  \" 5 4 4 9 1 e d f 0 e 0 a 2 6 7 4 8 9 0 0 1 c 3 7 \" ,  \" d e p a r t m e n t \" :  \" C r e w \" ,  \" g e n d e r \" :  1 ,  \" i d \" :  1 2 2 6 0 7 ,  \" j o b \" :  \" D i a l e c t  C o a c h \" ,  \" n a m e \" :  \" C a r l a  M e y e r \" } ,  { \" c r e d i t _ i d \" :  \" 5 3 9 c 4 8 5 b c 3 a 3 6 8 6 5 3 d 0 0 1 a 3 a \" ,  \" d e p a r t m e n t \" :  \" A r t \" ,  \" g e n d e r \" :  2 ,  \" i d \" :  1 3 2 5 8 5 ,  \" j o b \" :  \" A r t  D i r e c t i o n \" ,  \" n a m e \" :  \" N i c k  B a s s e t t \" } ,  { \" c r e d i t _ i d \" :  \" 5 3 9 c 4 9 0 3 c 3 a 3 6 8 6 5 3 d 0 0 1 a 7 4 \" ,  \" d e p a r t m e n t \" :  \" A r t \" ,  \" g e n d e r \" :  0 ,  \" i d \" :  1 3 2 5 9 6 ,  \" j o b \" :  \" A r t  D i r e c t i o n \" ,  \" n a m e \" :  \" J i l l  C o r m a c k \" } ,  { \" c r e d i t _ i d \" :  \" 5 3 9 c 4 9 6 7 c 3 a 3 6 8 6 5 3 d 0 0 1 a 9 4 \" ,  \" d e p a r t m e n t \" :  \" A r t \" ,  \" g e n d e r \" :  0 ,  \" i d \" :  1 3 2 6 0 4 ,  \" j o b \" :  \" A r t  D i r e c t i o n \" ,  \" n a m e \" :  \" A n d y  M c L a r e n \" } ,  { \" c r e d i t _ i d \" :  \" 5 2 f e 4 8 0 0 9 2 5 1 4 1 6 c 7 5 0 a c a 4 5 \" ,  \" d e p a r t m e n t \" :  \" C r e w \" ,  \" g e n d e r \" :  0 ,  \" i d \" :  2 3 6 6 9 6 ,  \" j o b \" :  \" M o t i o n  C a p t u r e  A r t i s t \" ,  \" n a m e \" :  \" T e r r y  N o t a r y \" } ,  { \" c r e d i t _ i d \" :  \" 5 4 9 5 9 e 0 2 c 3 a 3 6 8 0 f c 6 0 0 2 7 d 2 \" ,  \" d e p a r t m e n t \" :  \" C r e w \" ,  \" g e n d e r \" :  2 ,  \" i d \" :  9 5 6 1 9 8 ,  \" j o b \" :  \" S t u n t  C o o r d i n a t o r \" ,  \" n a m e \" :  \" G a r r e t t  W a r r e n \" } ,  { \" c r e d i t _ i d \" :  \" 5 4 9 5 9 c a 3 c 3 a 3 6 8 6 a e 3 0 0 4 3 8 c \" ,  \" d e p a r t m e n t \" :  \" V i s u a l  E f f e c t s \" ,  \" g e n d e r \" :  2 ,  \" i d \" :  9 5 7 8 7 4 ,  \" j o b \" :  \" V i s u a l  E f f e c t s  S u p e r v i s o r \" ,  \" n a m e \" :  \" J o n a t h a n  R o t h b a r t \" } ,  { \" c r e d i t _ i d \" :  \" 5 7 0 b 6 f 5 1 9 2 5 1 4 1 2 c 7 4 0 0 1 b 2 f \" ,  \" d e p a r t m e n t \" :  \" A r t \" ,  \" g e n d e r \" :  0 ,  \" i d \" :  9 5 7 8 8 9 ,  \" j o b \" :  \" S u p e r v i s i n g  A r t  D i r e c t o r \" ,  \" n a m e \" :  \" S t e f a n  D e c h a n t \" } ,  { \" c r e d i t _ i d \" :  \" 5 7 0 b 6 f 6 2 c 3 a 3 6 8 0 b 7 7 0 0 7 4 6 0 \" ,  \" d e p a r t m e n t \" :  \" A r t \" ,  \" g e n d e r \" :  2 ,  \" i d \" :  9 5 9 5 5 5 ,  \" j o b \" :  \" S u p e r v i s i n g  A r t  D i r e c t o r \" ,  \" n a m e \" :  \" T o d d  C h e r n i a w s k y \" } ,  { \" c r e d i t _ i d \" :  \" 5 3 9 c 4 a 3 a c 3 a 3 6 8 1 0 d a 0 0 2 1 c c \" ,  \" d e p a r t m e n t \" :  \" P r o d u c t i o n \" ,  \" g e n d e r \" :  0 ,  \" i d \" :  1 0 1 6 1 7 7 ,  \" j o b \" :  \" C a s t i n g \" ,  \" n a m e \" :  \" M i r a n d a  R i v e r s \" } ,  { \" c r e d i t _ i d \" :  \" 5 3 9 c 4 8 2 c c 3 a 3 6 8 1 0 c 1 0 0 2 0 6 2 \" ,  \" d e p a r t m e n t \" :  \" A r t \" ,  \" g e n d e r \" :  0 ,  \" i d \" :  1 0 3 2 5 3 6 ,  \" j o b \" :  \" P r o d u c t i o n  D e s i g n \" ,  \" n a m e \" :  \" R o b e r t  S t r o m b e r g \" } ,  { \" c r e d i t _ i d \" :  \" 5 3 9 c 4 b 6 5 c 3 a 3 6 8 1 0 c 9 0 0 2 1 2 5 \" ,  \" d e p a r t m e n t \" :  \" C o s t u m e  &  M a k e - U p \" ,  \" g e n d e r \" :  2 ,  \" i d \" :  1 0 7 1 6 8 0 ,  \" j o b \" :  \" C o s t u m e  D e s i g n \" ,  \" n a m e \" :  \" J o h n  H a r d i n g \" } ,  { \" c r e d i t _ i d \" :  \" 5 4 9 5 9 e 6 6 9 2 5 1 4 1 3 0 f c 0 0 2 e 4 e \" ,  \" d e p a r t m e n t \" :  \" C a m e r a \" ,  \" g e n d e r \" :  0 ,  \" i d \" :  1 1 7 7 3 6 4 ,  \" j o b \" :  \" S t e a d i c a m  O p e r a t o r \" ,  \" n a m e \" :  \" R o b e r t o  D e  A n g e l i s \" } ,  { \" c r e d i t _ i d \" :  \" 5 3 9 c 4 9 f 1 c 3 a 3 6 8 6 5 3 d 0 0 1 a a c \" ,  \" d e p a r t m e n t \" :  \" C o s t u m e  &  M a k e - U p \" ,  \" g e n d e r \" :  2 ,  \" i d \" :  1 2 0 2 8 5 0 ,  \" j o b \" :  \" M a k e u p  D e p a r t m e n t  H e a d \" ,  \" n a m e \" :  \" M i k e  S m i t h s o n \" } ,  { \" c r e d i t _ i d \" :  \" 5 4 9 5 9 9 9 e c 3 a 3 6 8 6 a e 1 0 0 4 6 0 c \" ,  \" d e p a r t m e n t \" :  \" V i s u a l  E f f e c t s \" ,  \" g e n d e r \" :  0 ,  \" i d \" :  1 2 0 4 6 6 8 ,  \" j o b \" :  \" V i s u a l  E f f e c t s  P r o d u c e r \" ,  \" n a m e \" :  \" A l a i n  L a l a n n e \" } ,  { \" c r e d i t _ i d \" :  \" 5 4 9 5 9 c d f c 3 a 3 6 8 1 1 5 3 0 0 2 7 2 9 \" ,  \" d e p a r t m e n t \" :  \" V i s u a l  E f f e c t s \" ,  \" g e n d e r \" :  0 ,  \" i d \" :  1 2 0 6 4 1 0 ,  \" j o b \" :  \" V i s u a l  E f f e c t s  S u p e r v i s o r \" ,  \" n a m e \" :  \" L u c a s  S a l t o n \" } ,  { \" c r e d i t _ i d \" :  \" 5 4 9 5 9 6 2 3 9 2 5 1 4 1 7 a 8 1 0 0 1 e a e \" ,  \" d e p a r t m e n t \" :  \" C r e w \" ,  \" g e n d e r \" :  0 ,  \" i d \" :  1 2 3 4 2 6 6 ,  \" j o b \" :  \" P o s t  P r o d u c t i o n  S u p e r v i s o r \" ,  \" n a m e \" :  \" J a n a c e  T a s h j i a n \" } ,  { \" c r e d i t _ i d \" :  \" 5 4 9 5 9 c 8 5 9 2 5 1 4 1 6 e 1 e 0 0 3 e f e \" ,  \" d e p a r t m e n t \" :  \" V i s u a l  E f f e c t s \" ,  \" g e n d e r \" :  0 ,  \" i d \" :  1 2 7 1 9 3 2 ,  \" j o b \" :  \" V i s u a l  E f f e c t s  S u p e r v i s o r \" ,  \" n a m e \" :  \" S t e p h e n  R o s e n b a u m \" } ,  { \" c r e d i t _ i d \" :  \" 5 5 9 2 a f 2 8 c 3 a 3 6 8 7 7 5 a 0 0 1 0 5 f \" ,  \" d e p a r t m e n t \" :  \" C o s t u m e  &  M a k e - U p \" ,  \" g e n d e r \" :  0 ,  \" i d \" :  1 3 1 0 0 6 4 ,  \" j o b \" :  \" M a k e u p  A r t i s t \" ,  \" n a m e \" :  \" F r a n k i e  K a r e n a \" } ,  { \" c r e d i t _ i d \" :  \" 5 3 9 c 4 a d f c 3 a 3 6 8 1 0 e 3 0 0 2 0 3 b \" ,  \" d e p a r t m e n t \" :  \" C o s t u m e  &  M a k e - U p \" ,  \" g e n d e r \" :  1 ,  \" i d \" :  1 3 1 9 8 4 4 ,  \" j o b \" :  \" C o s t u m e  S u p e r v i s o r \" ,  \" n a m e \" :  \" L i s a  L o v a a s \" } ,  { \" c r e d i t _ i d \" :  \" 5 4 9 5 9 b 5 7 9 2 5 1 4 1 6 e 2 b 0 0 4 3 7 1 \" ,  \" d e p a r t m e n t \" :  \" V i s u a l  E f f e c t s \" ,  \" g e n d e r \" :  0 ,  \" i d \" :  1 3 2 7 0 2 8 ,  \" j o b \" :  \" V i s u a l  E f f e c t s  S u p e r v i s o r \" ,  \" n a m e \" :  \" J o n a t h a n  F a w k n e r \" } ,  { \" c r e d i t _ i d \" :  \" 5 3 9 c 4 8 a 7 c 3 a 3 6 8 1 0 b 5 0 0 1 f a 7 \" ,  \" d e p a r t m e n t \" :  \" A r t \" ,  \" g e n d e r \" :  0 ,  \" i d \" :  1 3 3 0 5 6 1 ,  \" j o b \" :  \" A r t  D i r e c t i o n \" ,  \" n a m e \" :  \" R o b e r t  B a v i n \" } ,  { \" c r e d i t _ i d \" :  \" 5 3 9 c 4 a 7 1 c 3 a 3 6 8 1 0 d a 0 0 2 1 e 0 \" ,  \" d e p a r t m e n t \" :  \" C o s t u m e  &  M a k e - U p \" ,  \" g e n d e r \" :  0 ,  \" i d \" :  1 3 3 0 5 6 7 ,  \" j o b \" :  \" C o s t u m e  S u p e r v i s o r \" ,  \" n a m e \" :  \" A n t h o n y  A l m a r a z \" } ,  { \" c r e d i t _ i d \" :  \" 5 3 9 c 4 a 8 a c 3 a 3 6 8 1 0 b a 0 0 2 1 e 4 \" ,  \" d e p a r t m e n t \" :  \" C o s t u m e  &  M a k e - U p \" ,  \" g e n d e r \" :  0 ,  \" i d \" :  1 3 3 0 5 7 0 ,  \" j o b \" :  \" C o s t u m e  S u p e r v i s o r \" ,  \" n a m e \" :  \" C a r o l y n  M .  F e n t o n \" } ,  { \" c r e d i t _ i d \" :  \" 5 3 9 c 4 a b 6 c 3 a 3 6 8 1 0 d a 0 0 2 1 f 0 \" ,  \" d e p a r t m e n t \" :  \" C o s t u m e  &  M a k e - U p \" ,  \" g e n d e r \" :  0 ,  \" i d \" :  1 3 3 0 5 7 4 ,  \" j o b \" :  \" C o s t u m e  S u p e r v i s o r \" ,  \" n a m e \" :  \" B e t h  K o e n i g s b e r g \" } ,  { \" c r e d i t _ i d \" :  \" 5 4 4 9 1 a b 7 0 e 0 a 2 6 7 4 8 0 0 0 1 b a 2 \" ,  \" d e p a r t m e n t \" :  \" A r t \" ,  \" g e n d e r \" :  0 ,  \" i d \" :  1 3 3 6 1 9 1 ,  \" j o b \" :  \" S e t  D e s i g n e r \" ,  \" n a m e \" :  \" S a m  P a g e \" } ,  { \" c r e d i t _ i d \" :  \" 5 4 4 9 1 9 d 9 c 3 a 3 6 8 0 f c 3 0 0 1 8 b d \" ,  \" d e p a r t m e n t \" :  \" A r t \" ,  \" g e n d e r \" :  0 ,  \" i d \" :  1 3 3 9 4 4 1 ,  \" j o b \" :  \" S e t  D e s i g n e r \" ,  \" n a m e \" :  \" T e x  K a d o n a g a \" } ,  { \" c r e d i t _ i d \" :  \" 5 4 4 9 1 c f 5 0 e 0 a 2 6 7 4 8 3 0 0 1 b 0 c \" ,  \" d e p a r t m e n t \" :  \" E d i t i n g \" ,  \" g e n d e r \" :  0 ,  \" i d \" :  1 3 5 2 4 2 2 ,  \" j o b \" :  \" D i a l o g u e  E d i t o r \" ,  \" n a m e \" :  \" K i m  F o s c a t o \" } ,  { \" c r e d i t _ i d \" :  \" 5 4 4 9 1 9 f 4 0 e 0 a 2 6 7 4 8 c 0 0 1 b 0 9 \" ,  \" d e p a r t m e n t \" :  \" A r t \" ,  \" g e n d e r \" :  0 ,  \" i d \" :  1 3 5 2 9 6 2 ,  \" j o b \" :  \" S e t  D e s i g n e r \" ,  \" n a m e \" :  \" T a m m y  S .  L e e \" } ,  { \" c r e d i t _ i d \" :  \" 5 4 9 5 a 1 1 5 c 3 a 3 6 8 0 f f 5 0 0 2 d 7 1 \" ,  \" d e p a r t m e n t \" :  \" C r e w \" ,  \" g e n d e r \" :  0 ,  \" i d \" :  1 3 5 7 0 7 0 ,  \" j o b \" :  \" T r a n s p o r t a t i o n  C o o r d i n a t o r \" ,  \" n a m e \" :  \" D e n n y  C a i r a \" } ,  { \" c r e d i t _ i d \" :  \" 5 4 9 5 a 1 2 f 9 2 5 1 4 1 3 0 f c 0 0 2 e 9 4 \" ,  \" d e p a r t m e n t \" :  \" C r e w \" ,  \" g e n d e r \" :  0 ,  \" i d \" :  1 3 5 7 0 7 1 ,  \" j o b \" :  \" T r a n s p o r t a t i o n  C o o r d i n a t o r \" ,  \" n a m e \" :  \" J a m e s  W a i t k u s \" } ,  { \" c r e d i t _ i d \" :  \" 5 4 9 5 9 7 6 f c 3 a 3 6 8 1 1 5 3 0 0 2 6 b 0 \" ,  \" d e p a r t m e n t \" :  \" S o u n d \" ,  \" g e n d e r \" :  0 ,  \" i d \" :  1 3 6 0 1 0 3 ,  \" j o b \" :  \" S u p e r v i s i n g  S o u n d  E d i t o r \" ,  \" n a m e \" :  \" A d d i s o n  T e a g u e \" } ,  { \" c r e d i t _ i d \" :  \" 5 4 4 9 1 8 3 7 c 3 a 3 6 8 0 f b 1 0 0 1 c 5 a \" ,  \" d e p a r t m e n t \" :  \" A r t \" ,  \" g e n d e r \" :  2 ,  \" i d \" :  1 3 7 6 8 8 7 ,  \" j o b \" :  \" S e t  D e s i g n e r \" ,  \" n a m e \" :  \" C .  S c o t t  B a k e r \" } ,  { \" c r e d i t _ i d \" :  \" 5 4 4 9 1 8 7 8 c 3 a 3 6 8 0 f b 4 0 0 1 c 9 d \" ,  \" d e p a r t m e n t \" :  \" A r t \" ,  \" g e n d e r \" :  0 ,  \" i d \" :  1 3 7 6 8 8 8 ,  \" j o b \" :  \" S e t  D e s i g n e r \" ,  \" n a m e \" :  \" L u k e  C a s k a \" } ,  { \" c r e d i t _ i d \" :  \" 5 4 4 9 1 8 d a c 3 a 3 6 8 0 f a 5 0 0 1 a e 0 \" ,  \" d e p a r t m e n t \" :  \" A r t \" ,  \" g e n d e r \" :  0 ,  \" i d \" :  1 3 7 6 8 8 9 ,  \" j o b \" :  \" S e t  D e s i g n e r \" ,  \" n a m e \" :  \" D a v i d  C h o w \" } ,  { \" c r e d i t _ i d \" :  \" 5 4 4 9 1 9 1 1 0 e 0 a 2 6 7 4 8 6 0 0 1 b 6 8 \" ,  \" d e p a r t m e n t \" :  \" A r t \" ,  \" g e n d e r \" :  0 ,  \" i d \" :  1 3 7 6 8 9 0 ,  \" j o b \" :  \" S e t  D e s i g n e r \" ,  \" n a m e \" :  \" J o n a t h a n  D y e r \" } ,  { \" c r e d i t _ i d \" :  \" 5 4 4 9 1 9 6 7 c 3 a 3 6 8 0 f a a 0 0 1 b 5 e \" ,  \" d e p a r t m e n t \" :  \" A r t \" ,  \" g e n d e r \" :  0 ,  \" i d \" :  1 3 7 6 8 9 1 ,  \" j o b \" :  \" S e t  D e s i g n e r \" ,  \" n a m e \" :  \" J o s e p h  H i u r a \" } ,  { \" c r e d i t _ i d \" :  \" 5 4 4 9 1 9 9 7 c 3 a 3 6 8 0 f b 1 0 0 1 c 8 a \" ,  \" d e p a r t m e n t \" :  \" A r t \" ,  \" g e n d e r \" :  0 ,  \" i d \" :  1 3 7 6 8 9 2 ,  \" j o b \" :  \" A r t  D e p a r t m e n t  C o o r d i n a t o r \" ,  \" n a m e \" :  \" R e b e c c a  J e l l i e \" } ,  { \" c r e d i t _ i d \" :  \" 5 4 4 9 1 9 b a 0 e 0 a 2 6 7 4 8 f 0 0 1 b 4 2 \" ,  \" d e p a r t m e n t \" :  \" A r t \" ,  \" g e n d e r \" :  0 ,  \" i d \" :  1 3 7 6 8 9 3 ,  \" j o b \" :  \" S e t  D e s i g n e r \" ,  \" n a m e \" :  \" R o b e r t  A n d r e w  J o h n s o n \" } ,  { \" c r e d i t _ i d \" :  \" 5 4 4 9 1 b 1 d c 3 a 3 6 8 0 f a a 0 0 1 b 8 c \" ,  \" d e p a r t m e n t \" :  \" A r t \" ,  \" g e n d e r \" :  0 ,  \" i d \" :  1 3 7 6 8 9 5 ,  \" j o b \" :  \" A s s i s t a n t  A r t  D i r e c t o r \" ,  \" n a m e \" :  \" M i k e  S t a s s i \" } ,  { \" c r e d i t _ i d \" :  \" 5 4 4 9 1 b 7 9 c 3 a 3 6 8 0 f b b 0 0 1 8 2 6 \" ,  \" d e p a r t m e n t \" :  \" A r t \" ,  \" g e n d e r \" :  0 ,  \" i d \" :  1 3 7 6 8 9 7 ,  \" j o b \" :  \" C o n s t r u c t i o n  C o o r d i n a t o r \" ,  \" n a m e \" :  \" J o h n  V i l l a r i n o \" } ,  { \" c r e d i t _ i d \" :  \" 5 4 4 9 1 b a e c 3 a 3 6 8 0 f b 4 0 0 1 c e 6 \" ,  \" d e p a r t m e n t \" :  \" A r t \" ,  \" g e n d e r \" :  2 ,  \" i d \" :  1 3 7 6 8 9 8 ,  \" j o b \" :  \" A s s i s t a n t  A r t  D i r e c t o r \" ,  \" n a m e \" :  \" J e f f r e y  W i s n i e w s k i \" } ,  { \" c r e d i t _ i d \" :  \" 5 4 4 9 1 d 2 f c 3 a 3 6 8 0 f b 4 0 0 1 d 0 7 \" ,  \" d e p a r t m e n t \" :  \" E d i t i n g \" ,  \" g e n d e r \" :  0 ,  \" i d \" :  1 3 7 6 8 9 9 ,  \" j o b \" :  \" D i a l o g u e  E d i t o r \" ,  \" n a m e \" :  \" C h e r y l  N a r d i \" } ,  { \" c r e d i t _ i d \" :  \" 5 4 4 9 1 d 8 6 c 3 a 3 6 8 0 f a 5 0 0 1 b 2 f \" ,  \" d e p a r t m e n t \" :  \" E d i t i n g \" ,  \" g e n d e r \" :  0 ,  \" i d \" :  1 3 7 6 9 0 1 ,  \" j o b \" :  \" D i a l o g u e  E d i t o r \" ,  \" n a m e \" :  \" M a r s h a l l  W i n n \" } ,  { \" c r e d i t _ i d \" :  \" 5 4 4 9 1 d 9 d c 3 a 3 6 8 0 f a a 0 0 1 b b 0 \" ,  \" d e p a r t m e n t \" :  \" S o u n d \" ,  \" g e n d e r \" :  0 ,  \" i d \" :  1 3 7 6 9 0 2 ,  \" j o b \" :  \" S u p e r v i s i n g  S o u n d  E d i t o r \" ,  \" n a m e \" :  \" G w e n d o l y n  Y a t e s  W h i t t l e \" } ,  { \" c r e d i t _ i d \" :  \" 5 4 4 9 1 d c 1 0 e 0 a 2 6 7 4 8 6 0 0 1 b c e \" ,  \" d e p a r t m e n t \" :  \" S o u n d \" ,  \" g e n d e r \" :  0 ,  \" i d \" :  1 3 7 6 9 0 3 ,  \" j o b \" :  \" S o u n d  R e - R e c o r d i n g  M i x e r \" ,  \" n a m e \" :  \" W i l l i a m  S t e i n \" } ,  { \" c r e d i t _ i d \" :  \" 5 4 4 9 1 f 5 0 0 e 0 a 2 6 7 4 7 c 0 0 1 c 0 7 \" ,  \" d e p a r t m e n t \" :  \" C r e w \" ,  \" g e n d e r \" :  0 ,  \" i d \" :  1 3 7 6 9 0 9 ,  \" j o b \" :  \" C h o r e o g r a p h e r \" ,  \" n a m e \" :  \" L u l a  W a s h i n g t o n \" } ,  { \" c r e d i t _ i d \" :  \" 5 4 9 5 9 9 2 3 9 2 5 1 4 1 2 c 4 e 0 0 2 a 2 e \" ,  \" d e p a r t m e n t \" :  \" V i s u a l  E f f e c t s \" ,  \" g e n d e r \" :  0 ,  \" i d \" :  1 3 9 1 6 9 2 ,  \" j o b \" :  \" V i s u a l  E f f e c t s  P r o d u c e r \" ,  \" n a m e \" :  \" C h r i s  D e l  C o n t e \" } ,  { \" c r e d i t _ i d \" :  \" 5 4 9 5 9 d 5 4 c 3 a 3 6 8 3 1 b 8 0 0 1 d 9 a \" ,  \" d e p a r t m e n t \" :  \" V i s u a l  E f f e c t s \" ,  \" g e n d e r \" :  2 ,  \" i d \" :  1 3 9 1 6 9 5 ,  \" j o b \" :  \" V i s u a l  E f f e c t s  S u p e r v i s o r \" ,  \" n a m e \" :  \" R .  C h r i s t o p h e r  W h i t e \" } ,  { \" c r e d i t _ i d \" :  \" 5 4 9 5 9 b d f 9 2 5 1 4 1 2 c 4 e 0 0 2 a 6 6 \" ,  \" d e p a r t m e n t \" :  \" V i s u a l  E f f e c t s \" ,  \" g e n d e r \" :  0 ,  \" i d \" :  1 3 9 4 0 7 0 ,  \" j o b \" :  \" V i s u a l  E f f e c t s  S u p e r v i s o r \" ,  \" n a m e \" :  \" D a n  L e m m o n \" } ,  { \" c r e d i t _ i d \" :  \" 5 4 9 5 9 7 1 d 9 2 5 1 4 1 3 2 e d 0 0 2 9 2 2 \" ,  \" d e p a r t m e n t \" :  \" S o u n d \" ,  \" g e n d e r \" :  0 ,  \" i d \" :  1 3 9 4 1 2 9 ,  \" j o b \" :  \" S o u n d  E f f e c t s  E d i t o r \" ,  \" n a m e \" :  \" T i m  N i e l s e n \" } ,  { \" c r e d i t _ i d \" :  \" 5 5 9 2 b 2 5 7 9 2 5 1 4 1 5 2 c c 0 0 1 1 a a \" ,  \" d e p a r t m e n t \" :  \" C r e w \" ,  \" g e n d e r \" :  0 ,  \" i d \" :  1 3 9 4 2 8 6 ,  \" j o b \" :  \" C G  S u p e r v i s o r \" ,  \" n a m e \" :  \" M i c h a e l  M u l h o l l a n d \" } ,  { \" c r e d i t _ i d \" :  \" 5 4 9 5 9 a 3 2 9 2 5 1 4 1 6 e 2 b 0 0 4 3 5 5 \" ,  \" d e p a r t m e n t \" :  \" C r e w \" ,  \" g e n d e r \" :  0 ,  \" i d \" :  1 3 9 4 7 5 0 ,  \" j o b \" :  \" V i s u a l  E f f e c t s  E d i t o r \" ,  \" n a m e \" :  \" T h o m a s  N i t t m a n n \" } ,  { \" c r e d i t _ i d \" :  \" 5 4 9 5 9 d 6 d c 3 a 3 6 8 6 a e 9 0 0 4 4 0 1 \" ,  \" d e p a r t m e n t \" :  \" V i s u a l  E f f e c t s \" ,  \" g e n d e r \" :  0 ,  \" i d \" :  1 3 9 4 7 5 5 ,  \" j o b \" :  \" V i s u a l  E f f e c t s  S u p e r v i s o r \" ,  \" n a m e \" :  \" E d s o n  W i l l i a m s \" } ,  { \" c r e d i t _ i d \" :  \" 5 4 9 5 a 0 8 f c 3 a 3 6 8 6 a e 3 0 0 4 4 1 c \" ,  \" d e p a r t m e n t \" :  \" E d i t i n g \" ,  \" g e n d e r \" :  0 ,  \" i d \" :  1 3 9 4 9 5 3 ,  \" j o b \" :  \" D i g i t a l  I n t e r m e d i a t e \" ,  \" n a m e \" :  \" C h r i s t i n e  C a r r \" } ,  { \" c r e d i t _ i d \" :  \" 5 5 4 0 2 d 6 5 9 2 5 1 4 1 3 d 6 d 0 0 0 2 4 9 \" ,  \" d e p a r t m e n t \" :  \" V i s u a l  E f f e c t s \" ,  \" g e n d e r \" :  0 ,  \" i d \" :  1 3 9 5 2 6 9 ,  \" j o b \" :  \" V i s u a l  E f f e c t s  S u p e r v i s o r \" ,  \" n a m e \" :  \" J o h n  B r u n o \" } ,  { \" c r e d i t _ i d \" :  \" 5 4 9 5 9 e 7 b 9 2 5 1 4 1 6 e 1 e 0 0 3 f 3 e \" ,  \" d e p a r t m e n t \" :  \" C a m e r a \" ,  \" g e n d e r \" :  0 ,  \" i d \" :  1 3 9 8 9 7 0 ,  \" j o b \" :  \" S t e a d i c a m  O p e r a t o r \" ,  \" n a m e \" :  \" D a v i d  E m m e r i c h s \" } ,  { \" c r e d i t _ i d \" :  \" 5 4 9 5 9 7 3 4 c 3 a 3 6 8 6 a e 1 0 0 4 5 e 0 \" ,  \" d e p a r t m e n t \" :  \" S o u n d \" ,  \" g e n d e r \" :  0 ,  \" i d \" :  1 4 0 0 9 0 6 ,  \" j o b \" :  \" S o u n d  E f f e c t s  E d i t o r \" ,  \" n a m e \" :  \" C h r i s t o p h e r  S c a r a b o s i o \" } ,  { \" c r e d i t _ i d \" :  \" 5 4 9 5 9 5 d d 9 2 5 1 4 1 3 0 f c 0 0 2 d 7 9 \" ,  \" d e p a r t m e n t \" :  \" P r o d u c t i o n \" ,  \" g e n d e r \" :  0 ,  \" i d \" :  1 4 0 1 7 8 4 ,  \" j o b \" :  \" P r o d u c t i o n  S u p e r v i s o r \" ,  \" n a m e \" :  \" J e n n i f e r  T e v e s \" } ,  { \" c r e d i t _ i d \" :  \" 5 4 9 5 9 6 0 0 9 2 5 1 4 1 3 a f 7 0 0 2 8 c c \" ,  \" d e p a r t m e n t \" :  \" P r o d u c t i o n \" ,  \" g e n d e r \" :  0 ,  \" i d \" :  1 4 0 1 7 8 5 ,  \" j o b \" :  \" P r o d u c t i o n  M a n a g e r \" ,  \" n a m e \" :  \" B r i g i t t e  Y o r k e \" } ,  { \" c r e d i t _ i d \" :  \" 5 4 9 5 9 6 e 8 9 2 5 1 4 1 3 0 f c 0 0 2 d 9 9 \" ,  \" d e p a r t m e n t \" :  \" S o u n d \" ,  \" g e n d e r \" :  0 ,  \" i d \" :  1 4 0 1 7 8 6 ,  \" j o b \" :  \" S o u n d  E f f e c t s  E d i t o r \" ,  \" n a m e \" :  \" K e n  F i s c h e r \" } ,  { \" c r e d i t _ i d \" :  \" 5 4 9 5 9 8 2 2 9 2 5 1 4 1 2 c 4 e 0 0 2 a 1 c \" ,  \" d e p a r t m e n t \" :  \" C r e w \" ,  \" g e n d e r \" :  0 ,  \" i d \" :  1 4 0 1 7 8 7 ,  \" j o b \" :  \" S p e c i a l  E f f e c t s  C o o r d i n a t o r \" ,  \" n a m e \" :  \" I a i n  H u t t o n \" } ,  { \" c r e d i t _ i d \" :  \" 5 4 9 5 9 8 3 4 9 2 5 1 4 1 6 e 2 b 0 0 4 3 2 b \" ,  \" d e p a r t m e n t \" :  \" C r e w \" ,  \" g e n d e r \" :  0 ,  \" i d \" :  1 4 0 1 7 8 8 ,  \" j o b \" :  \" S p e c i a l  E f f e c t s  C o o r d i n a t o r \" ,  \" n a m e \" :  \" S t e v e  I n g r a m \" } ,  { \" c r e d i t _ i d \" :  \" 5 4 9 5 9 9 0 5 c 3 a 3 6 8 6 a e 3 0 0 4 3 2 4 \" ,  \" d e p a r t m e n t \" :  \" V i s u a l  E f f e c t s \" ,  \" g e n d e r \" :  0 ,  \" i d \" :  1 4 0 1 7 8 9 ,  \" j o b \" :  \" V i s u a l  E f f e c t s  P r o d u c e r \" ,  \" n a m e \" :  \" J o y c e  C o x \" } ,  { \" c r e d i t _ i d \" :  \" 5 4 9 5 9 9 4 b 9 2 5 1 4 1 3 2 e d 0 0 2 9 5 1 \" ,  \" d e p a r t m e n t \" :  \" V i s u a l  E f f e c t s \" ,  \" g e n d e r \" :  0 ,  \" i d \" :  1 4 0 1 7 9 0 ,  \" j o b \" :  \" V i s u a l  E f f e c t s  P r o d u c e r \" ,  \" n a m e \" :  \" J e n n y  F o s t e r \" } ,  { \" c r e d i t _ i d \" :  \" 5 4 9 5 9 9 c b c 3 a 3 6 8 6 a e 1 0 0 4 6 1 3 \" ,  \" d e p a r t m e n t \" :  \" C r e w \" ,  \" g e n d e r \" :  0 ,  \" i d \" :  1 4 0 1 7 9 1 ,  \" j o b \" :  \" V i s u a l  E f f e c t s  E d i t o r \" ,  \" n a m e \" :  \" C h r i s t o p h e r  M a r i n o \" } ,  { \" c r e d i t _ i d \" :  \" 5 4 9 5 9 9 f 2 c 3 a 3 6 8 6 a e 1 0 0 4 6 1 e \" ,  \" d e p a r t m e n t \" :  \" C r e w \" ,  \" g e n d e r \" :  0 ,  \" i d \" :  1 4 0 1 7 9 2 ,  \" j o b \" :  \" V i s u a l  E f f e c t s  E d i t o r \" ,  \" n a m e \" :  \" J i m  M i l t o n \" } ,  { \" c r e d i t _ i d \" :  \" 5 4 9 5 9 a 5 1 c 3 a 3 6 8 6 a f 3 0 0 3 e b 5 \" ,  \" d e p a r t m e n t \" :  \" V i s u a l  E f f e c t s \" ,  \" g e n d e r \" :  0 ,  \" i d \" :  1 4 0 1 7 9 3 ,  \" j o b \" :  \" V i s u a l  E f f e c t s  P r o d u c e r \" ,  \" n a m e \" :  \" C y n d i  O c h s \" } ,  { \" c r e d i t _ i d \" :  \" 5 4 9 5 9 a 7 c c 3 a 3 6 8 1 1 5 3 0 0 2 6 f 4 \" ,  \" d e p a r t m e n t \" :  \" C r e w \" ,  \" g e n d e r \" :  0 ,  \" i d \" :  1 4 0 1 7 9 4 ,  \" j o b \" :  \" V i s u a l  E f f e c t s  E d i t o r \" ,  \" n a m e \" :  \" L u c a s  P u t n a m \" } ,  { \" c r e d i t _ i d \" :  \" 5 4 9 5 9 b 9 1 c 3 a 3 6 8 0 f f 5 0 0 2 c b 4 \" ,  \" d e p a r t m e n t \" :  \" V i s u a l  E f f e c t s \" ,  \" g e n d e r \" :  0 ,  \" i d \" :  1 4 0 1 7 9 5 ,  \" j o b \" :  \" V i s u a l  E f f e c t s  S u p e r v i s o r \" ,  \" n a m e \" :  \" A n t h o n y  \\' M a x \\'  I v i n s \" } ,  { \" c r e d i t _ i d \" :  \" 5 4 9 5 9 b b 6 9 2 5 1 4 1 2 c 4 e 0 0 2 a 5 f \" ,  \" d e p a r t m e n t \" :  \" V i s u a l  E f f e c t s \" ,  \" g e n d e r \" :  0 ,  \" i d \" :  1 4 0 1 7 9 6 ,  \" j o b \" :  \" V i s u a l  E f f e c t s  S u p e r v i s o r \" ,  \" n a m e \" :  \" J o h n  K n o l l \" } ,  { \" c r e d i t _ i d \" :  \" 5 4 9 5 9 c b b c 3 a 3 6 8 6 a e 3 0 0 4 3 9 1 \" ,  \" d e p a r t m e n t \" :  \" V i s u a l  E f f e c t s \" ,  \" g e n d e r \" :  2 ,  \" i d \" :  1 4 0 1 7 9 9 ,  \" j o b \" :  \" V i s u a l  E f f e c t s  S u p e r v i s o r \" ,  \" n a m e \" :  \" E r i c  S a i n d o n \" } ,  { \" c r e d i t _ i d \" :  \" 5 4 9 5 9 d 0 6 c 3 a 3 6 8 6 a e 9 0 0 4 3 f 6 \" ,  \" d e p a r t m e n t \" :  \" V i s u a l  E f f e c t s \" ,  \" g e n d e r \" :  0 ,  \" i d \" :  1 4 0 1 8 0 0 ,  \" j o b \" :  \" V i s u a l  E f f e c t s  S u p e r v i s o r \" ,  \" n a m e \" :  \" W a y n e  S t a b l e s \" } ,  { \" c r e d i t _ i d \" :  \" 5 4 9 5 9 d 2 5 9 2 5 1 4 1 6 e 1 e 0 0 3 f 1 1 \" ,  \" d e p a r t m e n t \" :  \" V i s u a l  E f f e c t s \" ,  \" g e n d e r \" :  0 ,  \" i d \" :  1 4 0 1 8 0 1 ,  \" j o b \" :  \" V i s u a l  E f f e c t s  S u p e r v i s o r \" ,  \" n a m e \" :  \" D a v i d  S t i n n e t t \" } ,  { \" c r e d i t _ i d \" :  \" 5 4 9 5 9 d b 4 9 2 5 1 4 1 3 a f 7 0 0 2 9 7 5 \" ,  \" d e p a r t m e n t \" :  \" V i s u a l  E f f e c t s \" ,  \" g e n d e r \" :  0 ,  \" i d \" :  1 4 0 1 8 0 3 ,  \" j o b \" :  \" V i s u a l  E f f e c t s  S u p e r v i s o r \" ,  \" n a m e \" :  \" G u y  W i l l i a m s \" } ,  { \" c r e d i t _ i d \" :  \" 5 4 9 5 9 d e 4 c 3 a 3 6 8 1 1 5 3 0 0 2 7 5 0 \" ,  \" d e p a r t m e n t \" :  \" C r e w \" ,  \" g e n d e r \" :  0 ,  \" i d \" :  1 4 0 1 8 0 4 ,  \" j o b \" :  \" S t u n t  C o o r d i n a t o r \" ,  \" n a m e \" :  \" S t u a r t  T h o r p \" } ,  { \" c r e d i t _ i d \" :  \" 5 4 9 5 9 e f 2 c 3 a 3 6 8 0 f c 6 0 0 2 7 f 2 \" ,  \" d e p a r t m e n t \" :  \" L i g h t i n g \" ,  \" g e n d e r \" :  0 ,  \" i d \" :  1 4 0 1 8 0 5 ,  \" j o b \" :  \" B e s t  B o y  E l e c t r i c \" ,  \" n a m e \" :  \" G i l e s  C o b u r n \" } ,  { \" c r e d i t _ i d \" :  \" 5 4 9 5 9 f 0 7 c 3 a 3 6 8 0 f c 6 0 0 2 7 f 9 \" ,  \" d e p a r t m e n t \" :  \" C a m e r a \" ,  \" g e n d e r \" :  2 ,  \" i d \" :  1 4 0 1 8 0 6 ,  \" j o b \" :  \" S t i l l  P h o t o g r a p h e r \" ,  \" n a m e \" :  \" M a r k  F e l l m a n \" } ,  { \" c r e d i t _ i d \" :  \" 5 4 9 5 9 f 4 7 c 3 a 3 6 8 1 1 5 3 0 0 2 7 7 4 \" ,  \" d e p a r t m e n t \" :  \" L i g h t i n g \" ,  \" g e n d e r \" :  0 ,  \" i d \" :  1 4 0 1 8 0 7 ,  \" j o b \" :  \" L i g h t i n g  T e c h n i c i a n \" ,  \" n a m e \" :  \" S c o t t  S p r a g u e \" } ,  { \" c r e d i t _ i d \" :  \" 5 4 9 5 9 f 8 c c 3 a 3 6 8 3 1 b 8 0 0 1 d f 2 \" ,  \" d e p a r t m e n t \" :  \" V i s u a l  E f f e c t s \" ,  \" g e n d e r \" :  0 ,  \" i d \" :  1 4 0 1 8 0 8 ,  \" j o b \" :  \" A n i m a t i o n  D i r e c t o r \" ,  \" n a m e \" :  \" J e r e m y  H o l l o b o n \" } ,  { \" c r e d i t _ i d \" :  \" 5 4 9 5 9 f a 0 c 3 a 3 6 8 3 1 b 8 0 0 1 d f b \" ,  \" d e p a r t m e n t \" :  \" V i s u a l  E f f e c t s \" ,  \" g e n d e r \" :  0 ,  \" i d \" :  1 4 0 1 8 0 9 ,  \" j o b \" :  \" A n i m a t i o n  D i r e c t o r \" ,  \" n a m e \" :  \" O r l a n d o  M e u n i e r \" } ,  { \" c r e d i t _ i d \" :  \" 5 4 9 5 9 f b 6 c 3 a 3 6 8 6 a f 3 0 0 3 f 5 4 \" ,  \" d e p a r t m e n t \" :  \" V i s u a l  E f f e c t s \" ,  \" g e n d e r \" :  0 ,  \" i d \" :  1 4 0 1 8 1 0 ,  \" j o b \" :  \" A n i m a t i o n  D i r e c t o r \" ,  \" n a m e \" :  \" T a i s u k e  T a n i m u r a \" } ,  { \" c r e d i t _ i d \" :  \" 5 4 9 5 9 f d 2 c 3 a 3 6 8 3 1 b 8 0 0 1 e 0 2 \" ,  \" d e p a r t m e n t \" :  \" C o s t u m e  &  M a k e - U p \" ,  \" g e n d e r \" :  0 ,  \" i d \" :  1 4 0 1 8 1 2 ,  \" j o b \" :  \" S e t  C o s t u m e r \" ,  \" n a m e \" :  \" L i l i a  M i s h e l  A c e v e d o \" } ,  { \" c r e d i t _ i d \" :  \" 5 4 9 5 9 f f 9 c 3 a 3 6 8 6 a e 3 0 0 4 4 0 c \" ,  \" d e p a r t m e n t \" :  \" C o s t u m e  &  M a k e - U p \" ,  \" g e n d e r \" :  0 ,  \" i d \" :  1 4 0 1 8 1 4 ,  \" j o b \" :  \" S e t  C o s t u m e r \" ,  \" n a m e \" :  \" A l e j a n d r o  M .  H e r n a n d e z \" } ,  { \" c r e d i t _ i d \" :  \" 5 4 9 5 a 0 d d c 3 a 3 6 8 6 a e 1 0 0 4 6 f e \" ,  \" d e p a r t m e n t \" :  \" E d i t i n g \" ,  \" g e n d e r \" :  0 ,  \" i d \" :  1 4 0 1 8 1 5 ,  \" j o b \" :  \" D i g i t a l  I n t e r m e d i a t e \" ,  \" n a m e \" :  \" M a r v i n  H a l l \" } ,  { \" c r e d i t _ i d \" :  \" 5 4 9 5 a 1 f 7 c 3 a 3 6 8 6 a e 3 0 0 4 4 4 3 \" ,  \" d e p a r t m e n t \" :  \" P r o d u c t i o n \" ,  \" g e n d e r \" :  0 ,  \" i d \" :  1 4 0 1 8 1 6 ,  \" j o b \" :  \" P u b l i c i s t \" ,  \" n a m e \" :  \" J u d y  A l l e y \" } ,  { \" c r e d i t _ i d \" :  \" 5 5 9 2 b 2 9 f c 3 a 3 6 8 6 9 d 1 0 0 0 0 2 f \" ,  \" d e p a r t m e n t \" :  \" C r e w \" ,  \" g e n d e r \" :  0 ,  \" i d \" :  1 4 1 8 3 8 1 ,  \" j o b \" :  \" C G  S u p e r v i s o r \" ,  \" n a m e \" :  \" M i k e  P e r r y \" } ,  { \" c r e d i t _ i d \" :  \" 5 5 9 2 b 2 3 a 9 2 5 1 4 1 5 d f 8 0 0 1 0 8 1 \" ,  \" d e p a r t m e n t \" :  \" C r e w \" ,  \" g e n d e r \" :  0 ,  \" i d \" :  1 4 2 6 8 5 4 ,  \" j o b \" :  \" C G  S u p e r v i s o r \" ,  \" n a m e \" :  \" A n d r e w  M o r l e y \" } ,  { \" c r e d i t _ i d \" :  \" 5 5 4 9 1 e 1 1 9 2 5 1 4 1 0 4 c 4 0 0 0 2 d 8 \" ,  \" d e p a r t m e n t \" :  \" A r t \" ,  \" g e n d e r \" :  0 ,  \" i d \" :  1 4 3 8 9 0 1 ,  \" j o b \" :  \" C o n c e p t u a l  D e s i g n \" ,  \" n a m e \" :  \" S e t h  E n g s t r o m \" } ,  { \" c r e d i t _ i d \" :  \" 5 5 2 5 d 5 8 0 9 2 5 1 4 1 7 2 7 6 0 0 2 b 0 6 \" ,  \" d e p a r t m e n t \" :  \" C r e w \" ,  \" g e n d e r \" :  0 ,  \" i d \" :  1 4 4 7 3 6 2 ,  \" j o b \" :  \" V i s u a l  E f f e c t s  A r t  D i r e c t o r \" ,  \" n a m e \" :  \" E r i c  O l i v e r \" } ,  { \" c r e d i t _ i d \" :  \" 5 5 4 4 2 7 c a 9 2 5 1 4 1 5 8 6 5 0 0 3 1 2 a \" ,  \" d e p a r t m e n t \" :  \" V i s u a l  E f f e c t s \" ,  \" g e n d e r \" :  0 ,  \" i d \" :  1 4 4 7 5 0 3 ,  \" j o b \" :  \" M o d e l i n g \" ,  \" n a m e \" :  \" M a t s u n e  S u z u k i \" } ,  { \" c r e d i t _ i d \" :  \" 5 5 1 9 0 6 8 8 9 2 5 1 4 1 5 a a b 0 0 1 c 8 8 \" ,  \" d e p a r t m e n t \" :  \" A r t \" ,  \" g e n d e r \" :  0 ,  \" i d \" :  1 4 4 7 5 2 4 ,  \" j o b \" :  \" A r t  D e p a r t m e n t  M a n a g e r \" ,  \" n a m e \" :  \" P a u l  T o b i n \" } ,  { \" c r e d i t _ i d \" :  \" 5 5 9 2 a f 8 4 9 2 5 1 4 1 5 2 c c 0 0 1 0 d e \" ,  \" d e p a r t m e n t \" :  \" C o s t u m e  &  M a k e - U p \" ,  \" g e n d e r \" :  0 ,  \" i d \" :  1 4 5 2 6 4 3 ,  \" j o b \" :  \" H a i r s t y l i s t \" ,  \" n a m e \" :  \" R o x a n e  G r i f f i n \" } ,  { \" c r e d i t _ i d \" :  \" 5 5 3 d 3 c 1 0 9 2 5 1 4 1 5 8 5 2 0 0 1 3 1 8 \" ,  \" d e p a r t m e n t \" :  \" L i g h t i n g \" ,  \" g e n d e r \" :  0 ,  \" i d \" :  1 4 5 3 9 3 8 ,  \" j o b \" :  \" L i g h t i n g  A r t i s t \" ,  \" n a m e \" :  \" A r u n  R a m - M o h a n \" } ,  { \" c r e d i t _ i d \" :  \" 5 5 9 2 a f 4 6 9 2 5 1 4 1 5 2 d 5 0 0 1 3 5 5 \" ,  \" d e p a r t m e n t \" :  \" C o s t u m e  &  M a k e - U p \" ,  \" g e n d e r \" :  0 ,  \" i d \" :  1 4 5 7 3 0 5 ,  \" j o b \" :  \" M a k e u p  A r t i s t \" ,  \" n a m e \" :  \" G e o r g i a  L o c k h a r t - A d a m s \" } ,  { \" c r e d i t _ i d \" :  \" 5 5 9 2 b 2 e a c 3 a 3 6 8 7 7 4 7 0 0 1 2 a 5 \" ,  \" d e p a r t m e n t \" :  \" C r e w \" ,  \" g e n d e r \" :  0 ,  \" i d \" :  1 4 6 6 0 3 5 ,  \" j o b \" :  \" C G  S u p e r v i s o r \" ,  \" n a m e \" :  \" T h r a i n  S h a d b o l t \" } ,  { \" c r e d i t _ i d \" :  \" 5 5 9 2 b 0 3 2 c 3 a 3 6 8 7 7 4 5 0 0 1 5 f 1 \" ,  \" d e p a r t m e n t \" :  \" C r e w \" ,  \" g e n d e r \" :  0 ,  \" i d \" :  1 4 8 3 2 2 0 ,  \" j o b \" :  \" C G  S u p e r v i s o r \" ,  \" n a m e \" :  \" B r a d  A l e x a n d e r \" } ,  { \" c r e d i t _ i d \" :  \" 5 5 9 2 b 0 5 5 9 2 5 1 4 1 5 2 d 8 0 0 1 2 f 6 \" ,  \" d e p a r t m e n t \" :  \" C r e w \" ,  \" g e n d e r \" :  0 ,  \" i d \" :  1 4 8 3 2 2 1 ,  \" j o b \" :  \" C G  S u p e r v i s o r \" ,  \" n a m e \" :  \" S h a d i  A l m a s s i z a d e h \" } ,  { \" c r e d i t _ i d \" :  \" 5 5 9 2 b 0 9 0 c 3 a 3 6 8 7 7 5 7 0 0 1 0 b 5 \" ,  \" d e p a r t m e n t \" :  \" C r e w \" ,  \" g e n d e r \" :  0 ,  \" i d \" :  1 4 8 3 2 2 2 ,  \" j o b \" :  \" C G  S u p e r v i s o r \" ,  \" n a m e \" :  \" S i m o n  C l u t t e r b u c k \" } ,  { \" c r e d i t _ i d \" :  \" 5 5 9 2 b 0 d b c 3 a 3 6 8 7 7 4 b 0 0 1 1 2 c \" ,  \" d e p a r t m e n t \" :  \" C r e w \" ,  \" g e n d e r \" :  0 ,  \" i d \" :  1 4 8 3 2 2 3 ,  \" j o b \" :  \" C G  S u p e r v i s o r \" ,  \" n a m e \" :  \" G r a e m e  D e m m o c k s \" } ,  { \" c r e d i t _ i d \" :  \" 5 5 9 2 b 0 f e 9 2 5 1 4 1 5 2 d b 0 0 1 0 c 1 \" ,  \" d e p a r t m e n t \" :  \" C r e w \" ,  \" g e n d e r \" :  0 ,  \" i d \" :  1 4 8 3 2 2 4 ,  \" j o b \" :  \" C G  S u p e r v i s o r \" ,  \" n a m e \" :  \" A d r i a n  F e r n a n d e s \" } ,  { \" c r e d i t _ i d \" :  \" 5 5 9 2 b 1 1 f 9 2 5 1 4 1 5 d f 8 0 0 1 0 5 9 \" ,  \" d e p a r t m e n t \" :  \" C r e w \" ,  \" g e n d e r \" :  0 ,  \" i d \" :  1 4 8 3 2 2 5 ,  \" j o b \" :  \" C G  S u p e r v i s o r \" ,  \" n a m e \" :  \" M i t c h  G a t e s \" } ,  { \" c r e d i t _ i d \" :  \" 5 5 9 2 b 1 5 d c 3 a 3 6 8 7 7 4 5 0 0 1 6 4 5 \" ,  \" d e p a r t m e n t \" :  \" C r e w \" ,  \" g e n d e r \" :  0 ,  \" i d \" :  1 4 8 3 2 2 6 ,  \" j o b \" :  \" C G  S u p e r v i s o r \" ,  \" n a m e \" :  \" J e r r y  K u n g \" } ,  { \" c r e d i t _ i d \" :  \" 5 5 9 2 b 1 8 e 9 2 5 1 4 1 6 4 5 a 0 0 0 4 a e \" ,  \" d e p a r t m e n t \" :  \" C r e w \" ,  \" g e n d e r \" :  0 ,  \" i d \" :  1 4 8 3 2 2 7 ,  \" j o b \" :  \" C G  S u p e r v i s o r \" ,  \" n a m e \" :  \" A n d y  L o m a s \" } ,  { \" c r e d i t _ i d \" :  \" 5 5 9 2 b 1 b f c 3 a 3 6 8 7 7 5 d 0 0 1 0 e 7 \" ,  \" d e p a r t m e n t \" :  \" C r e w \" ,  \" g e n d e r \" :  0 ,  \" i d \" :  1 4 8 3 2 2 8 ,  \" j o b \" :  \" C G  S u p e r v i s o r \" ,  \" n a m e \" :  \" S e b a s t i a n  M a r i n o \" } ,  { \" c r e d i t _ i d \" :  \" 5 5 9 2 b 2 0 4 9 2 5 1 4 1 5 d f 8 0 0 1 0 7 8 \" ,  \" d e p a r t m e n t \" :  \" C r e w \" ,  \" g e n d e r \" :  0 ,  \" i d \" :  1 4 8 3 2 2 9 ,  \" j o b \" :  \" C G  S u p e r v i s o r \" ,  \" n a m e \" :  \" M a t t h i a s  M e n z \" } ,  { \" c r e d i t _ i d \" :  \" 5 5 9 2 b 2 7 b 9 2 5 1 4 1 5 2 d 8 0 0 1 3 6 a \" ,  \" d e p a r t m e n t \" :  \" C r e w \" ,  \" g e n d e r \" :  0 ,  \" i d \" :  1 4 8 3 2 3 0 ,  \" j o b \" :  \" C G  S u p e r v i s o r \" ,  \" n a m e \" :  \" S e r g e i  N e v s h u p o v \" } ,  { \" c r e d i t _ i d \" :  \" 5 5 9 2 b 2 c 3 c 3 a 3 6 8 6 9 e 8 0 0 0 0 3 c \" ,  \" d e p a r t m e n t \" :  \" C r e w \" ,  \" g e n d e r \" :  0 ,  \" i d \" :  1 4 8 3 2 3 1 ,  \" j o b \" :  \" C G  S u p e r v i s o r \" ,  \" n a m e \" :  \" P h i l i p p e  R e b o u r s \" } ,  { \" c r e d i t _ i d \" :  \" 5 5 9 2 b 3 1 7 c 3 a 3 6 8 7 7 4 7 0 0 1 2 a f \" ,  \" d e p a r t m e n t \" :  \" C r e w \" ,  \" g e n d e r \" :  0 ,  \" i d \" :  1 4 8 3 2 3 2 ,  \" j o b \" :  \" C G  S u p e r v i s o r \" ,  \" n a m e \" :  \" M i c h a e l  T a k a r a n g i \" } ,  { \" c r e d i t _ i d \" :  \" 5 5 9 2 b 3 4 5 c 3 a 3 6 8 7 7 4 7 0 0 1 2 b b \" ,  \" d e p a r t m e n t \" :  \" C r e w \" ,  \" g e n d e r \" :  0 ,  \" i d \" :  1 4 8 3 2 3 3 ,  \" j o b \" :  \" C G  S u p e r v i s o r \" ,  \" n a m e \" :  \" D a v i d  W e i t z b e r g \" } ,  { \" c r e d i t _ i d \" :  \" 5 5 9 2 b 3 7 c c 3 a 3 6 8 7 7 5 1 0 0 1 1 3 b \" ,  \" d e p a r t m e n t \" :  \" C r e w \" ,  \" g e n d e r \" :  0 ,  \" i d \" :  1 4 8 3 2 3 4 ,  \" j o b \" :  \" C G  S u p e r v i s o r \" ,  \" n a m e \" :  \" B e n  W h i t e \" } ,  { \" c r e d i t _ i d \" :  \" 5 7 3 c 8 e 2 f 9 2 5 1 4 1 3 f 5 d 0 0 0 0 9 4 \" ,  \" d e p a r t m e n t \" :  \" C r e w \" ,  \" g e n d e r \" :  1 ,  \" i d \" :  1 6 2 1 9 3 2 ,  \" j o b \" :  \" S t u n t s \" ,  \" n a m e \" :  \" M i n  W i n d l e \" } ]'"
      ]
     },
     "execution_count": 120,
     "metadata": {},
     "output_type": "execute_result"
    }
   ],
   "source": [
    "new_dataframe['tags'][0]"
   ]
  },
  {
   "cell_type": "code",
   "execution_count": 121,
   "id": "1871c870",
   "metadata": {},
   "outputs": [
    {
     "name": "stderr",
     "output_type": "stream",
     "text": [
      "C:\\Users\\HP\\AppData\\Local\\Temp\\ipykernel_19532\\2163041754.py:1: SettingWithCopyWarning: \n",
      "A value is trying to be set on a copy of a slice from a DataFrame.\n",
      "Try using .loc[row_indexer,col_indexer] = value instead\n",
      "\n",
      "See the caveats in the documentation: https://pandas.pydata.org/pandas-docs/stable/user_guide/indexing.html#returning-a-view-versus-a-copy\n",
      "  new_dataframe['tags'] = new_dataframe['tags'].apply(lambda x:x.lower())\n"
     ]
    }
   ],
   "source": [
    "new_dataframe['tags'] = new_dataframe['tags'].apply(lambda x:x.lower())"
   ]
  },
  {
   "cell_type": "code",
   "execution_count": 122,
   "id": "c6941bdc",
   "metadata": {},
   "outputs": [
    {
     "data": {
      "text/html": [
       "<div>\n",
       "<style scoped>\n",
       "    .dataframe tbody tr th:only-of-type {\n",
       "        vertical-align: middle;\n",
       "    }\n",
       "\n",
       "    .dataframe tbody tr th {\n",
       "        vertical-align: top;\n",
       "    }\n",
       "\n",
       "    .dataframe thead th {\n",
       "        text-align: right;\n",
       "    }\n",
       "</style>\n",
       "<table border=\"1\" class=\"dataframe\">\n",
       "  <thead>\n",
       "    <tr style=\"text-align: right;\">\n",
       "      <th></th>\n",
       "      <th>movie_id</th>\n",
       "      <th>title</th>\n",
       "      <th>tags</th>\n",
       "    </tr>\n",
       "  </thead>\n",
       "  <tbody>\n",
       "    <tr>\n",
       "      <th>0</th>\n",
       "      <td>19995</td>\n",
       "      <td>Avatar</td>\n",
       "      <td>in the 22nd century, a paraplegic marine is di...</td>\n",
       "    </tr>\n",
       "    <tr>\n",
       "      <th>1</th>\n",
       "      <td>285</td>\n",
       "      <td>Pirates of the Caribbean: At World's End</td>\n",
       "      <td>captain barbossa, long believed to be dead, ha...</td>\n",
       "    </tr>\n",
       "    <tr>\n",
       "      <th>2</th>\n",
       "      <td>206647</td>\n",
       "      <td>Spectre</td>\n",
       "      <td>a cryptic message from bond’s past sends him o...</td>\n",
       "    </tr>\n",
       "    <tr>\n",
       "      <th>3</th>\n",
       "      <td>49026</td>\n",
       "      <td>The Dark Knight Rises</td>\n",
       "      <td>following the death of district attorney harve...</td>\n",
       "    </tr>\n",
       "    <tr>\n",
       "      <th>4</th>\n",
       "      <td>49529</td>\n",
       "      <td>John Carter</td>\n",
       "      <td>john carter is a war-weary, former military ca...</td>\n",
       "    </tr>\n",
       "  </tbody>\n",
       "</table>\n",
       "</div>"
      ],
      "text/plain": [
       "   movie_id                                     title  \\\n",
       "0     19995                                    Avatar   \n",
       "1       285  Pirates of the Caribbean: At World's End   \n",
       "2    206647                                   Spectre   \n",
       "3     49026                     The Dark Knight Rises   \n",
       "4     49529                               John Carter   \n",
       "\n",
       "                                                tags  \n",
       "0  in the 22nd century, a paraplegic marine is di...  \n",
       "1  captain barbossa, long believed to be dead, ha...  \n",
       "2  a cryptic message from bond’s past sends him o...  \n",
       "3  following the death of district attorney harve...  \n",
       "4  john carter is a war-weary, former military ca...  "
      ]
     },
     "execution_count": 122,
     "metadata": {},
     "output_type": "execute_result"
    }
   ],
   "source": [
    "new_dataframe.head()"
   ]
  },
  {
   "cell_type": "code",
   "execution_count": 123,
   "id": "d661ebde",
   "metadata": {},
   "outputs": [],
   "source": [
    "import nltk"
   ]
  },
  {
   "cell_type": "code",
   "execution_count": 124,
   "id": "f4ed630e",
   "metadata": {},
   "outputs": [],
   "source": [
    "from nltk.stem.porter import PorterStemmer\n",
    "ps = PorterStemmer()"
   ]
  },
  {
   "cell_type": "code",
   "execution_count": 125,
   "id": "2d5a903f",
   "metadata": {},
   "outputs": [],
   "source": [
    "def stem(text):\n",
    "    y = []\n",
    "    for i in text.split():\n",
    "        y.append(ps.stem(i))\n",
    "    return \" \".join(y)"
   ]
  },
  {
   "cell_type": "code",
   "execution_count": 128,
   "id": "c0c54f6e",
   "metadata": {},
   "outputs": [
    {
     "name": "stderr",
     "output_type": "stream",
     "text": [
      "C:\\Users\\HP\\AppData\\Local\\Temp\\ipykernel_19532\\4223723326.py:1: SettingWithCopyWarning: \n",
      "A value is trying to be set on a copy of a slice from a DataFrame.\n",
      "Try using .loc[row_indexer,col_indexer] = value instead\n",
      "\n",
      "See the caveats in the documentation: https://pandas.pydata.org/pandas-docs/stable/user_guide/indexing.html#returning-a-view-versus-a-copy\n",
      "  new_dataframe['tags'] = new_dataframe['tags'].apply(stem)\n"
     ]
    }
   ],
   "source": [
    "new_dataframe['tags'] = new_dataframe['tags'].apply(stem)"
   ]
  },
  {
   "cell_type": "code",
   "execution_count": 168,
   "id": "3ce853ba",
   "metadata": {},
   "outputs": [
    {
     "data": {
      "text/plain": [
       "'in the 22nd century, a paraplegic marine is dispatched to the moon pandora on a unique mission, but becomes torn between following orders and protecting an alien civilization. action adventure fantasy sciencefiction cultureclash future spacewar spacecolony society spacetravel futuristic romance space alien tribe alienplanet cgi marine soldier battle loveaffair antiwar powerrelations mindandsoul 3d samworthington zoesaldana sigourneyweaver stephenlang michellerodriguez giovanniribisi joeldavidmoore cchpounder wesstudi lazalonso dileeprao mattgerald seananthonymoran jasonwhyte scottlawrence kellykilgour jamespatrickpitt seanpatrickmurphy peterdillon kevindorman kelsonhenderson davidvanhorn jacobtomuri michaelblain-rozgay joncurry lukehawker woodyschultz petermensah soniayee jahnelcurfman ilramchoi kylawarren lisaroumain debrawilson chrismala taylorkibby jodielandau julielamm cullenb.madden josephbradymadden frankietorres austinwilson sarawilson tamicawashington-miller lucybriant nathanmeister gerryblair matthewchamberlain paulyates wraywilson jamesgaylyn melvinlenoclarkiii carvonfutrell brandonjelkes micahmoch hanniyahmuhammad christophernolen christaoliver aprilmariethomas bravitaa.threatt colinbleasdale mikebodnar mattclayton nicoledionne jamieharrison allanhenry anthonyingruber ashleyjeffery deanknowsley josephmika-hunt terrynotary kaipantano loganpithyou stuartpollock raja garethruck rhiansheehan t.j.storm jodietaylor aliciavela-bailey richardwhiteside nikiezambo julenerenee [ { \" c r e d i t _ i d \" :  \" 5 2 f e 4 8 0 0 9 2 5 1 4 1 6 c 7 5 0 a c a 2 3 \" ,  \" d e p a r t m e n t \" :  \" e d i t i n g \" ,  \" g e n d e r \" :  0 ,  \" i d \" :  1 7 2 1 ,  \" j o b \" :  \" e d i t o r \" ,  \" n a m e \" :  \" s t e p h e n  e .  r i v k i n \" } ,  { \" c r e d i t _ i d \" :  \" 5 3 9 c 4 7 e c c 3 a 3 6 8 1 0 e 3 0 0 1 f 8 7 \" ,  \" d e p a r t m e n t \" :  \" a r t \" ,  \" g e n d e r \" :  2 ,  \" i d \" :  4 9 6 ,  \" j o b \" :  \" p r o d u c t i o n  d e s i g n \" ,  \" n a m e \" :  \" r i c k  c a r t e r \" } ,  { \" c r e d i t _ i d \" :  \" 5 4 4 9 1 c 8 9 c 3 a 3 6 8 0 f b 4 0 0 1 c f 7 \" ,  \" d e p a r t m e n t \" :  \" s o u n d \" ,  \" g e n d e r \" :  0 ,  \" i d \" :  9 0 0 ,  \" j o b \" :  \" s o u n d  d e s i g n e r \" ,  \" n a m e \" :  \" c h r i s t o p h e r  b o y e s \" } ,  { \" c r e d i t _ i d \" :  \" 5 4 4 9 1 c b 7 0 e 0 a 2 6 7 4 8 0 0 0 1 b d 0 \" ,  \" d e p a r t m e n t \" :  \" s o u n d \" ,  \" g e n d e r \" :  0 ,  \" i d \" :  9 0 0 ,  \" j o b \" :  \" s u p e r v i s i n g  s o u n d  e d i t o r \" ,  \" n a m e \" :  \" c h r i s t o p h e r  b o y e s \" } ,  { \" c r e d i t _ i d \" :  \" 5 3 9 c 4 a 4 c c 3 a 3 6 8 1 0 c 9 0 0 2 1 0 1 \" ,  \" d e p a r t m e n t \" :  \" p r o d u c t i o n \" ,  \" g e n d e r \" :  1 ,  \" i d \" :  1 2 6 2 ,  \" j o b \" :  \" c a s t i n g \" ,  \" n a m e \" :  \" m a l i  f i n n \" } ,  { \" c r e d i t _ i d \" :  \" 5 5 4 4 e e 3 b 9 2 5 1 4 1 4 9 9 f 0 0 0 8 f c \" ,  \" d e p a r t m e n t \" :  \" s o u n d \" ,  \" g e n d e r \" :  2 ,  \" i d \" :  1 7 2 9 ,  \" j o b \" :  \" o r i g i n a l  m u s i c  c o m p o s e r \" ,  \" n a m e \" :  \" j a m e s  h o r n e r \" } ,  { \" c r e d i t _ i d \" :  \" 5 2 f e 4 8 0 0 9 2 5 1 4 1 6 c 7 5 0 a c 9 c 3 \" ,  \" d e p a r t m e n t \" :  \" d i r e c t i n g \" ,  \" g e n d e r \" :  2 ,  \" i d \" :  2 7 1 0 ,  \" j o b \" :  \" d i r e c t o r \" ,  \" n a m e \" :  \" j a m e s  c a m e r o n \" } ,  { \" c r e d i t _ i d \" :  \" 5 2 f e 4 8 0 0 9 2 5 1 4 1 6 c 7 5 0 a c 9 d 9 \" ,  \" d e p a r t m e n t \" :  \" w r i t i n g \" ,  \" g e n d e r \" :  2 ,  \" i d \" :  2 7 1 0 ,  \" j o b \" :  \" w r i t e r \" ,  \" n a m e \" :  \" j a m e s  c a m e r o n \" } ,  { \" c r e d i t _ i d \" :  \" 5 2 f e 4 8 0 0 9 2 5 1 4 1 6 c 7 5 0 a c a 1 7 \" ,  \" d e p a r t m e n t \" :  \" e d i t i n g \" ,  \" g e n d e r \" :  2 ,  \" i d \" :  2 7 1 0 ,  \" j o b \" :  \" e d i t o r \" ,  \" n a m e \" :  \" j a m e s  c a m e r o n \" } ,  { \" c r e d i t _ i d \" :  \" 5 2 f e 4 8 0 0 9 2 5 1 4 1 6 c 7 5 0 a c a 2 9 \" ,  \" d e p a r t m e n t \" :  \" p r o d u c t i o n \" ,  \" g e n d e r \" :  2 ,  \" i d \" :  2 7 1 0 ,  \" j o b \" :  \" p r o d u c e r \" ,  \" n a m e \" :  \" j a m e s  c a m e r o n \" } ,  { \" c r e d i t _ i d \" :  \" 5 2 f e 4 8 0 0 9 2 5 1 4 1 6 c 7 5 0 a c a 3 f \" ,  \" d e p a r t m e n t \" :  \" w r i t i n g \" ,  \" g e n d e r \" :  2 ,  \" i d \" :  2 7 1 0 ,  \" j o b \" :  \" s c r e e n p l a y \" ,  \" n a m e \" :  \" j a m e s  c a m e r o n \" } ,  { \" c r e d i t _ i d \" :  \" 5 3 9 c 4 9 8 7 c 3 a 3 6 8 1 0 b a 0 0 2 1 a 4 \" ,  \" d e p a r t m e n t \" :  \" a r t \" ,  \" g e n d e r \" :  2 ,  \" i d \" :  7 2 3 6 ,  \" j o b \" :  \" a r t  d i r e c t i o n \" ,  \" n a m e \" :  \" a n d r e w  m e n z i e s \" } ,  { \" c r e d i t _ i d \" :  \" 5 4 9 5 9 8 c 3 c 3 a 3 6 8 6 a e 9 0 0 4 3 8 3 \" ,  \" d e p a r t m e n t \" :  \" v i s u a l  e f f e c t s \" ,  \" g e n d e r \" :  0 ,  \" i d \" :  6 6 9 0 ,  \" j o b \" :  \" v i s u a l  e f f e c t s  p r o d u c e r \" ,  \" n a m e \" :  \" j i l l  b r o o k s \" } ,  { \" c r e d i t _ i d \" :  \" 5 2 f e 4 8 0 0 9 2 5 1 4 1 6 c 7 5 0 a c a 4 b \" ,  \" d e p a r t m e n t \" :  \" p r o d u c t i o n \" ,  \" g e n d e r \" :  1 ,  \" i d \" :  6 3 4 7 ,  \" j o b \" :  \" c a s t i n g \" ,  \" n a m e \" :  \" m a r g e r y  s i m k i n \" } ,  { \" c r e d i t _ i d \" :  \" 5 7 0 b 6 f 4 1 9 2 5 1 4 1 7 d a 7 0 0 3 2 f e \" ,  \" d e p a r t m e n t \" :  \" a r t \" ,  \" g e n d e r \" :  2 ,  \" i d \" :  6 8 7 8 ,  \" j o b \" :  \" s u p e r v i s i n g  a r t  d i r e c t o r \" ,  \" n a m e \" :  \" k e v i n  i s h i o k a \" } ,  { \" c r e d i t _ i d \" :  \" 5 4 9 5 a 0 f a c 3 a 3 6 8 6 a e 9 0 0 4 4 6 8 \" ,  \" d e p a r t m e n t \" :  \" s o u n d \" ,  \" g e n d e r \" :  0 ,  \" i d \" :  6 8 8 3 ,  \" j o b \" :  \" m u s i c  e d i t o r \" ,  \" n a m e \" :  \" d i c k  b e r n s t e i n \" } ,  { \" c r e d i t _ i d \" :  \" 5 4 9 5 9 7 0 6 c 3 a 3 6 8 6 a f 3 0 0 3 e 8 1 \" ,  \" d e p a r t m e n t \" :  \" s o u n d \" ,  \" g e n d e r \" :  0 ,  \" i d \" :  8 1 5 9 ,  \" j o b \" :  \" s o u n d  e f f e c t s  e d i t o r \" ,  \" n a m e \" :  \" s h a n n o n  m i l l s \" } ,  { \" c r e d i t _ i d \" :  \" 5 4 4 9 1 d 5 8 c 3 a 3 6 8 0 f b 1 0 0 1 c c b \" ,  \" d e p a r t m e n t \" :  \" s o u n d \" ,  \" g e n d e r \" :  0 ,  \" i d \" :  8 1 6 0 ,  \" j o b \" :  \" f o l e y \" ,  \" n a m e \" :  \" d e n n i e  t h o r p e \" } ,  { \" c r e d i t _ i d \" :  \" 5 4 4 9 1 d 6 c c 3 a 3 6 8 0 f a 5 0 0 1 b 2 c \" ,  \" d e p a r t m e n t \" :  \" s o u n d \" ,  \" g e n d e r \" :  0 ,  \" i d \" :  8 1 6 3 ,  \" j o b \" :  \" f o l e y \" ,  \" n a m e \" :  \" j a n a  v a n c e \" } ,  { \" c r e d i t _ i d \" :  \" 5 2 f e 4 8 0 0 9 2 5 1 4 1 6 c 7 5 0 a c a 5 7 \" ,  \" d e p a r t m e n t \" :  \" c o s t u m e  &  m a k e - u p \" ,  \" g e n d e r \" :  1 ,  \" i d \" :  8 5 2 7 ,  \" j o b \" :  \" c o s t u m e  d e s i g n \" ,  \" n a m e \" :  \" d e b o r a h  l y n n  s c o t t \" } ,  { \" c r e d i t _ i d \" :  \" 5 2 f e 4 8 0 0 9 2 5 1 4 1 6 c 7 5 0 a c a 2 f \" ,  \" d e p a r t m e n t \" :  \" p r o d u c t i o n \" ,  \" g e n d e r \" :  2 ,  \" i d \" :  8 5 2 9 ,  \" j o b \" :  \" p r o d u c e r \" ,  \" n a m e \" :  \" j o n  l a n d a u \" } ,  { \" c r e d i t _ i d \" :  \" 5 3 9 c 4 9 3 7 c 3 a 3 6 8 1 0 b a 0 0 2 1 9 4 \" ,  \" d e p a r t m e n t \" :  \" a r t \" ,  \" g e n d e r \" :  0 ,  \" i d \" :  9 6 1 8 ,  \" j o b \" :  \" a r t  d i r e c t i o n \" ,  \" n a m e \" :  \" s e a n  h a w o r t h \" } ,  { \" c r e d i t _ i d \" :  \" 5 3 9 c 4 9 b 6 c 3 a 3 6 8 1 0 c 1 0 0 2 0 e 6 \" ,  \" d e p a r t m e n t \" :  \" a r t \" ,  \" g e n d e r \" :  1 ,  \" i d \" :  1 2 6 5 3 ,  \" j o b \" :  \" s e t  d e c o r a t i o n \" ,  \" n a m e \" :  \" k i m  s i n c l a i r \" } ,  { \" c r e d i t _ i d \" :  \" 5 7 0 b 6 f 2 f 9 2 5 1 4 1 3 a 0 e 0 0 0 2 0 d \" ,  \" d e p a r t m e n t \" :  \" a r t \" ,  \" g e n d e r \" :  1 ,  \" i d \" :  1 2 6 5 3 ,  \" j o b \" :  \" s u p e r v i s i n g  a r t  d i r e c t o r \" ,  \" n a m e \" :  \" k i m  s i n c l a i r \" } ,  { \" c r e d i t _ i d \" :  \" 5 4 4 9 1 a 6 c 0 e 0 a 2 6 7 4 8 c 0 0 1 b 1 9 \" ,  \" d e p a r t m e n t \" :  \" a r t \" ,  \" g e n d e r \" :  2 ,  \" i d \" :  1 4 3 5 0 ,  \" j o b \" :  \" s e t  d e s i g n e r \" ,  \" n a m e \" :  \" r i c h a r d  f .  m a y s \" } ,  { \" c r e d i t _ i d \" :  \" 5 6 9 2 8 c f 4 c 3 a 3 6 8 4 c f f 0 0 2 5 c 4 \" ,  \" d e p a r t m e n t \" :  \" p r o d u c t i o n \" ,  \" g e n d e r \" :  1 ,  \" i d \" :  2 0 2 9 4 ,  \" j o b \" :  \" e x e c u t i v e  p r o d u c e r \" ,  \" n a m e \" :  \" l a e t a  k a l o g r i d i s \" } ,  { \" c r e d i t _ i d \" :  \" 5 2 f e 4 8 0 0 9 2 5 1 4 1 6 c 7 5 0 a c a 5 1 \" ,  \" d e p a r t m e n t \" :  \" c o s t u m e  &  m a k e - u p \" ,  \" g e n d e r \" :  0 ,  \" i d \" :  1 7 6 7 5 ,  \" j o b \" :  \" c o s t u m e  d e s i g n \" ,  \" n a m e \" :  \" m a y e s  c .  r u b e o \" } ,  { \" c r e d i t _ i d \" :  \" 5 2 f e 4 8 0 0 9 2 5 1 4 1 6 c 7 5 0 a c a 1 1 \" ,  \" d e p a r t m e n t \" :  \" c a m e r a \" ,  \" g e n d e r \" :  2 ,  \" i d \" :  1 8 2 6 5 ,  \" j o b \" :  \" d i r e c t o r  o f  p h o t o g r a p h y \" ,  \" n a m e \" :  \" m a u r o  f i o r e \" } ,  { \" c r e d i t _ i d \" :  \" 5 4 4 9 1 9 4 d 0 e 0 a 2 6 7 4 8 f 0 0 1 b 3 9 \" ,  \" d e p a r t m e n t \" :  \" a r t \" ,  \" g e n d e r \" :  0 ,  \" i d \" :  4 2 2 8 1 ,  \" j o b \" :  \" s e t  d e s i g n e r \" ,  \" n a m e \" :  \" s c o t t  h e r b e r t s o n \" } ,  { \" c r e d i t _ i d \" :  \" 5 2 f e 4 8 0 0 9 2 5 1 4 1 6 c 7 5 0 a c a 0 5 \" ,  \" d e p a r t m e n t \" :  \" c r e w \" ,  \" g e n d e r \" :  0 ,  \" i d \" :  4 2 2 8 8 ,  \" j o b \" :  \" s t u n t s \" ,  \" n a m e \" :  \" w o o d y  s c h u l t z \" } ,  { \" c r e d i t _ i d \" :  \" 5 5 9 2 a e f b 9 2 5 1 4 1 5 2 d e 0 0 1 0 f 5 \" ,  \" d e p a r t m e n t \" :  \" c o s t u m e  &  m a k e - u p \" ,  \" g e n d e r \" :  0 ,  \" i d \" :  2 9 0 6 7 ,  \" j o b \" :  \" m a k e u p  a r t i s t \" ,  \" n a m e \" :  \" l i n d a  d e v e t t a \" } ,  { \" c r e d i t _ i d \" :  \" 5 5 9 2 a f a 4 9 2 5 1 4 1 5 2 d e 0 0 1 1 2 c \" ,  \" d e p a r t m e n t \" :  \" c o s t u m e  &  m a k e - u p \" ,  \" g e n d e r \" :  0 ,  \" i d \" :  2 9 0 6 7 ,  \" j o b \" :  \" h a i r s t y l i s t \" ,  \" n a m e \" :  \" l i n d a  d e v e t t a \" } ,  { \" c r e d i t _ i d \" :  \" 5 4 9 5 9 e d 5 9 2 5 1 4 1 3 0 f c 0 0 2 e 5 d \" ,  \" d e p a r t m e n t \" :  \" c a m e r a \" ,  \" g e n d e r \" :  2 ,  \" i d \" :  3 3 3 0 2 ,  \" j o b \" :  \" c a m e r a  o p e r a t o r \" ,  \" n a m e \" :  \" r i c h a r d  b l u c k \" } ,  { \" c r e d i t _ i d \" :  \" 5 3 9 c 4 8 9 1 c 3 a 3 6 8 1 0 b a 0 0 2 1 4 7 \" ,  \" d e p a r t m e n t \" :  \" a r t \" ,  \" g e n d e r \" :  2 ,  \" i d \" :  3 3 3 0 3 ,  \" j o b \" :  \" a r t  d i r e c t i o n \" ,  \" n a m e \" :  \" s i m o n  b r i g h t \" } ,  { \" c r e d i t _ i d \" :  \" 5 4 9 5 9 c 0 6 9 2 5 1 4 1 7 a 8 1 0 0 1 f 3 a \" ,  \" d e p a r t m e n t \" :  \" v i s u a l  e f f e c t s \" ,  \" g e n d e r \" :  0 ,  \" i d \" :  1 1 3 1 4 5 ,  \" j o b \" :  \" v i s u a l  e f f e c t s  s u p e r v i s o r \" ,  \" n a m e \" :  \" r i c h a r d  m a r t i n \" } ,  { \" c r e d i t _ i d \" :  \" 5 4 9 5 9 a 0 d c 3 a 3 6 8 0 f f 5 0 0 2 c 8 d \" ,  \" d e p a r t m e n t \" :  \" c r e w \" ,  \" g e n d e r \" :  2 ,  \" i d \" :  5 8 1 8 8 ,  \" j o b \" :  \" v i s u a l  e f f e c t s  e d i t o r \" ,  \" n a m e \" :  \" s t e v e  r .  m o o r e \" } ,  { \" c r e d i t _ i d \" :  \" 5 2 f e 4 8 0 0 9 2 5 1 4 1 6 c 7 5 0 a c a 1 d \" ,  \" d e p a r t m e n t \" :  \" e d i t i n g \" ,  \" g e n d e r \" :  2 ,  \" i d \" :  5 8 8 7 1 ,  \" j o b \" :  \" e d i t o r \" ,  \" n a m e \" :  \" j o h n  r e f o u a \" } ,  { \" c r e d i t _ i d \" :  \" 5 4 4 9 1 a 4 d c 3 a 3 6 8 0 f c 3 0 0 1 8 c a \" ,  \" d e p a r t m e n t \" :  \" a r t \" ,  \" g e n d e r \" :  0 ,  \" i d \" :  9 2 3 5 9 ,  \" j o b \" :  \" s e t  d e s i g n e r \" ,  \" n a m e \" :  \" k a r l  j .  m a r t i n \" } ,  { \" c r e d i t _ i d \" :  \" 5 2 f e 4 8 0 0 9 2 5 1 4 1 6 c 7 5 0 a c a 3 5 \" ,  \" d e p a r t m e n t \" :  \" c a m e r a \" ,  \" g e n d e r \" :  1 ,  \" i d \" :  7 2 2 0 1 ,  \" j o b \" :  \" d i r e c t o r  o f  p h o t o g r a p h y \" ,  \" n a m e \" :  \" c h i l i n g  l i n \" } ,  { \" c r e d i t _ i d \" :  \" 5 2 f e 4 8 0 0 9 2 5 1 4 1 6 c 7 5 0 a c 9 f f \" ,  \" d e p a r t m e n t \" :  \" c r e w \" ,  \" g e n d e r \" :  0 ,  \" i d \" :  8 9 7 1 4 ,  \" j o b \" :  \" s t u n t s \" ,  \" n a m e \" :  \" i l r a m  c h o i \" } ,  { \" c r e d i t _ i d \" :  \" 5 4 9 5 9 c 5 2 9 2 5 1 4 1 6 e 2 b 0 0 4 3 9 4 \" ,  \" d e p a r t m e n t \" :  \" v i s u a l  e f f e c t s \" ,  \" g e n d e r \" :  2 ,  \" i d \" :  9 3 2 1 4 ,  \" j o b \" :  \" v i s u a l  e f f e c t s  s u p e r v i s o r \" ,  \" n a m e \" :  \" s t e v e n  q u a l e \" } ,  { \" c r e d i t _ i d \" :  \" 5 4 4 9 1 e d f 0 e 0 a 2 6 7 4 8 9 0 0 1 c 3 7 \" ,  \" d e p a r t m e n t \" :  \" c r e w \" ,  \" g e n d e r \" :  1 ,  \" i d \" :  1 2 2 6 0 7 ,  \" j o b \" :  \" d i a l e c t  c o a c h \" ,  \" n a m e \" :  \" c a r l a  m e y e r \" } ,  { \" c r e d i t _ i d \" :  \" 5 3 9 c 4 8 5 b c 3 a 3 6 8 6 5 3 d 0 0 1 a 3 a \" ,  \" d e p a r t m e n t \" :  \" a r t \" ,  \" g e n d e r \" :  2 ,  \" i d \" :  1 3 2 5 8 5 ,  \" j o b \" :  \" a r t  d i r e c t i o n \" ,  \" n a m e \" :  \" n i c k  b a s s e t t \" } ,  { \" c r e d i t _ i d \" :  \" 5 3 9 c 4 9 0 3 c 3 a 3 6 8 6 5 3 d 0 0 1 a 7 4 \" ,  \" d e p a r t m e n t \" :  \" a r t \" ,  \" g e n d e r \" :  0 ,  \" i d \" :  1 3 2 5 9 6 ,  \" j o b \" :  \" a r t  d i r e c t i o n \" ,  \" n a m e \" :  \" j i l l  c o r m a c k \" } ,  { \" c r e d i t _ i d \" :  \" 5 3 9 c 4 9 6 7 c 3 a 3 6 8 6 5 3 d 0 0 1 a 9 4 \" ,  \" d e p a r t m e n t \" :  \" a r t \" ,  \" g e n d e r \" :  0 ,  \" i d \" :  1 3 2 6 0 4 ,  \" j o b \" :  \" a r t  d i r e c t i o n \" ,  \" n a m e \" :  \" a n d y  m c l a r e n \" } ,  { \" c r e d i t _ i d \" :  \" 5 2 f e 4 8 0 0 9 2 5 1 4 1 6 c 7 5 0 a c a 4 5 \" ,  \" d e p a r t m e n t \" :  \" c r e w \" ,  \" g e n d e r \" :  0 ,  \" i d \" :  2 3 6 6 9 6 ,  \" j o b \" :  \" m o t i o n  c a p t u r e  a r t i s t \" ,  \" n a m e \" :  \" t e r r y  n o t a r y \" } ,  { \" c r e d i t _ i d \" :  \" 5 4 9 5 9 e 0 2 c 3 a 3 6 8 0 f c 6 0 0 2 7 d 2 \" ,  \" d e p a r t m e n t \" :  \" c r e w \" ,  \" g e n d e r \" :  2 ,  \" i d \" :  9 5 6 1 9 8 ,  \" j o b \" :  \" s t u n t  c o o r d i n a t o r \" ,  \" n a m e \" :  \" g a r r e t t  w a r r e n \" } ,  { \" c r e d i t _ i d \" :  \" 5 4 9 5 9 c a 3 c 3 a 3 6 8 6 a e 3 0 0 4 3 8 c \" ,  \" d e p a r t m e n t \" :  \" v i s u a l  e f f e c t s \" ,  \" g e n d e r \" :  2 ,  \" i d \" :  9 5 7 8 7 4 ,  \" j o b \" :  \" v i s u a l  e f f e c t s  s u p e r v i s o r \" ,  \" n a m e \" :  \" j o n a t h a n  r o t h b a r t \" } ,  { \" c r e d i t _ i d \" :  \" 5 7 0 b 6 f 5 1 9 2 5 1 4 1 2 c 7 4 0 0 1 b 2 f \" ,  \" d e p a r t m e n t \" :  \" a r t \" ,  \" g e n d e r \" :  0 ,  \" i d \" :  9 5 7 8 8 9 ,  \" j o b \" :  \" s u p e r v i s i n g  a r t  d i r e c t o r \" ,  \" n a m e \" :  \" s t e f a n  d e c h a n t \" } ,  { \" c r e d i t _ i d \" :  \" 5 7 0 b 6 f 6 2 c 3 a 3 6 8 0 b 7 7 0 0 7 4 6 0 \" ,  \" d e p a r t m e n t \" :  \" a r t \" ,  \" g e n d e r \" :  2 ,  \" i d \" :  9 5 9 5 5 5 ,  \" j o b \" :  \" s u p e r v i s i n g  a r t  d i r e c t o r \" ,  \" n a m e \" :  \" t o d d  c h e r n i a w s k y \" } ,  { \" c r e d i t _ i d \" :  \" 5 3 9 c 4 a 3 a c 3 a 3 6 8 1 0 d a 0 0 2 1 c c \" ,  \" d e p a r t m e n t \" :  \" p r o d u c t i o n \" ,  \" g e n d e r \" :  0 ,  \" i d \" :  1 0 1 6 1 7 7 ,  \" j o b \" :  \" c a s t i n g \" ,  \" n a m e \" :  \" m i r a n d a  r i v e r s \" } ,  { \" c r e d i t _ i d \" :  \" 5 3 9 c 4 8 2 c c 3 a 3 6 8 1 0 c 1 0 0 2 0 6 2 \" ,  \" d e p a r t m e n t \" :  \" a r t \" ,  \" g e n d e r \" :  0 ,  \" i d \" :  1 0 3 2 5 3 6 ,  \" j o b \" :  \" p r o d u c t i o n  d e s i g n \" ,  \" n a m e \" :  \" r o b e r t  s t r o m b e r g \" } ,  { \" c r e d i t _ i d \" :  \" 5 3 9 c 4 b 6 5 c 3 a 3 6 8 1 0 c 9 0 0 2 1 2 5 \" ,  \" d e p a r t m e n t \" :  \" c o s t u m e  &  m a k e - u p \" ,  \" g e n d e r \" :  2 ,  \" i d \" :  1 0 7 1 6 8 0 ,  \" j o b \" :  \" c o s t u m e  d e s i g n \" ,  \" n a m e \" :  \" j o h n  h a r d i n g \" } ,  { \" c r e d i t _ i d \" :  \" 5 4 9 5 9 e 6 6 9 2 5 1 4 1 3 0 f c 0 0 2 e 4 e \" ,  \" d e p a r t m e n t \" :  \" c a m e r a \" ,  \" g e n d e r \" :  0 ,  \" i d \" :  1 1 7 7 3 6 4 ,  \" j o b \" :  \" s t e a d i c a m  o p e r a t o r \" ,  \" n a m e \" :  \" r o b e r t o  d e  a n g e l i s \" } ,  { \" c r e d i t _ i d \" :  \" 5 3 9 c 4 9 f 1 c 3 a 3 6 8 6 5 3 d 0 0 1 a a c \" ,  \" d e p a r t m e n t \" :  \" c o s t u m e  &  m a k e - u p \" ,  \" g e n d e r \" :  2 ,  \" i d \" :  1 2 0 2 8 5 0 ,  \" j o b \" :  \" m a k e u p  d e p a r t m e n t  h e a d \" ,  \" n a m e \" :  \" m i k e  s m i t h s o n \" } ,  { \" c r e d i t _ i d \" :  \" 5 4 9 5 9 9 9 e c 3 a 3 6 8 6 a e 1 0 0 4 6 0 c \" ,  \" d e p a r t m e n t \" :  \" v i s u a l  e f f e c t s \" ,  \" g e n d e r \" :  0 ,  \" i d \" :  1 2 0 4 6 6 8 ,  \" j o b \" :  \" v i s u a l  e f f e c t s  p r o d u c e r \" ,  \" n a m e \" :  \" a l a i n  l a l a n n e \" } ,  { \" c r e d i t _ i d \" :  \" 5 4 9 5 9 c d f c 3 a 3 6 8 1 1 5 3 0 0 2 7 2 9 \" ,  \" d e p a r t m e n t \" :  \" v i s u a l  e f f e c t s \" ,  \" g e n d e r \" :  0 ,  \" i d \" :  1 2 0 6 4 1 0 ,  \" j o b \" :  \" v i s u a l  e f f e c t s  s u p e r v i s o r \" ,  \" n a m e \" :  \" l u c a s  s a l t o n \" } ,  { \" c r e d i t _ i d \" :  \" 5 4 9 5 9 6 2 3 9 2 5 1 4 1 7 a 8 1 0 0 1 e a e \" ,  \" d e p a r t m e n t \" :  \" c r e w \" ,  \" g e n d e r \" :  0 ,  \" i d \" :  1 2 3 4 2 6 6 ,  \" j o b \" :  \" p o s t  p r o d u c t i o n  s u p e r v i s o r \" ,  \" n a m e \" :  \" j a n a c e  t a s h j i a n \" } ,  { \" c r e d i t _ i d \" :  \" 5 4 9 5 9 c 8 5 9 2 5 1 4 1 6 e 1 e 0 0 3 e f e \" ,  \" d e p a r t m e n t \" :  \" v i s u a l  e f f e c t s \" ,  \" g e n d e r \" :  0 ,  \" i d \" :  1 2 7 1 9 3 2 ,  \" j o b \" :  \" v i s u a l  e f f e c t s  s u p e r v i s o r \" ,  \" n a m e \" :  \" s t e p h e n  r o s e n b a u m \" } ,  { \" c r e d i t _ i d \" :  \" 5 5 9 2 a f 2 8 c 3 a 3 6 8 7 7 5 a 0 0 1 0 5 f \" ,  \" d e p a r t m e n t \" :  \" c o s t u m e  &  m a k e - u p \" ,  \" g e n d e r \" :  0 ,  \" i d \" :  1 3 1 0 0 6 4 ,  \" j o b \" :  \" m a k e u p  a r t i s t \" ,  \" n a m e \" :  \" f r a n k i e  k a r e n a \" } ,  { \" c r e d i t _ i d \" :  \" 5 3 9 c 4 a d f c 3 a 3 6 8 1 0 e 3 0 0 2 0 3 b \" ,  \" d e p a r t m e n t \" :  \" c o s t u m e  &  m a k e - u p \" ,  \" g e n d e r \" :  1 ,  \" i d \" :  1 3 1 9 8 4 4 ,  \" j o b \" :  \" c o s t u m e  s u p e r v i s o r \" ,  \" n a m e \" :  \" l i s a  l o v a a s \" } ,  { \" c r e d i t _ i d \" :  \" 5 4 9 5 9 b 5 7 9 2 5 1 4 1 6 e 2 b 0 0 4 3 7 1 \" ,  \" d e p a r t m e n t \" :  \" v i s u a l  e f f e c t s \" ,  \" g e n d e r \" :  0 ,  \" i d \" :  1 3 2 7 0 2 8 ,  \" j o b \" :  \" v i s u a l  e f f e c t s  s u p e r v i s o r \" ,  \" n a m e \" :  \" j o n a t h a n  f a w k n e r \" } ,  { \" c r e d i t _ i d \" :  \" 5 3 9 c 4 8 a 7 c 3 a 3 6 8 1 0 b 5 0 0 1 f a 7 \" ,  \" d e p a r t m e n t \" :  \" a r t \" ,  \" g e n d e r \" :  0 ,  \" i d \" :  1 3 3 0 5 6 1 ,  \" j o b \" :  \" a r t  d i r e c t i o n \" ,  \" n a m e \" :  \" r o b e r t  b a v i n \" } ,  { \" c r e d i t _ i d \" :  \" 5 3 9 c 4 a 7 1 c 3 a 3 6 8 1 0 d a 0 0 2 1 e 0 \" ,  \" d e p a r t m e n t \" :  \" c o s t u m e  &  m a k e - u p \" ,  \" g e n d e r \" :  0 ,  \" i d \" :  1 3 3 0 5 6 7 ,  \" j o b \" :  \" c o s t u m e  s u p e r v i s o r \" ,  \" n a m e \" :  \" a n t h o n y  a l m a r a z \" } ,  { \" c r e d i t _ i d \" :  \" 5 3 9 c 4 a 8 a c 3 a 3 6 8 1 0 b a 0 0 2 1 e 4 \" ,  \" d e p a r t m e n t \" :  \" c o s t u m e  &  m a k e - u p \" ,  \" g e n d e r \" :  0 ,  \" i d \" :  1 3 3 0 5 7 0 ,  \" j o b \" :  \" c o s t u m e  s u p e r v i s o r \" ,  \" n a m e \" :  \" c a r o l y n  m .  f e n t o n \" } ,  { \" c r e d i t _ i d \" :  \" 5 3 9 c 4 a b 6 c 3 a 3 6 8 1 0 d a 0 0 2 1 f 0 \" ,  \" d e p a r t m e n t \" :  \" c o s t u m e  &  m a k e - u p \" ,  \" g e n d e r \" :  0 ,  \" i d \" :  1 3 3 0 5 7 4 ,  \" j o b \" :  \" c o s t u m e  s u p e r v i s o r \" ,  \" n a m e \" :  \" b e t h  k o e n i g s b e r g \" } ,  { \" c r e d i t _ i d \" :  \" 5 4 4 9 1 a b 7 0 e 0 a 2 6 7 4 8 0 0 0 1 b a 2 \" ,  \" d e p a r t m e n t \" :  \" a r t \" ,  \" g e n d e r \" :  0 ,  \" i d \" :  1 3 3 6 1 9 1 ,  \" j o b \" :  \" s e t  d e s i g n e r \" ,  \" n a m e \" :  \" s a m  p a g e \" } ,  { \" c r e d i t _ i d \" :  \" 5 4 4 9 1 9 d 9 c 3 a 3 6 8 0 f c 3 0 0 1 8 b d \" ,  \" d e p a r t m e n t \" :  \" a r t \" ,  \" g e n d e r \" :  0 ,  \" i d \" :  1 3 3 9 4 4 1 ,  \" j o b \" :  \" s e t  d e s i g n e r \" ,  \" n a m e \" :  \" t e x  k a d o n a g a \" } ,  { \" c r e d i t _ i d \" :  \" 5 4 4 9 1 c f 5 0 e 0 a 2 6 7 4 8 3 0 0 1 b 0 c \" ,  \" d e p a r t m e n t \" :  \" e d i t i n g \" ,  \" g e n d e r \" :  0 ,  \" i d \" :  1 3 5 2 4 2 2 ,  \" j o b \" :  \" d i a l o g u e  e d i t o r \" ,  \" n a m e \" :  \" k i m  f o s c a t o \" } ,  { \" c r e d i t _ i d \" :  \" 5 4 4 9 1 9 f 4 0 e 0 a 2 6 7 4 8 c 0 0 1 b 0 9 \" ,  \" d e p a r t m e n t \" :  \" a r t \" ,  \" g e n d e r \" :  0 ,  \" i d \" :  1 3 5 2 9 6 2 ,  \" j o b \" :  \" s e t  d e s i g n e r \" ,  \" n a m e \" :  \" t a m m y  s .  l e e \" } ,  { \" c r e d i t _ i d \" :  \" 5 4 9 5 a 1 1 5 c 3 a 3 6 8 0 f f 5 0 0 2 d 7 1 \" ,  \" d e p a r t m e n t \" :  \" c r e w \" ,  \" g e n d e r \" :  0 ,  \" i d \" :  1 3 5 7 0 7 0 ,  \" j o b \" :  \" t r a n s p o r t a t i o n  c o o r d i n a t o r \" ,  \" n a m e \" :  \" d e n n y  c a i r a \" } ,  { \" c r e d i t _ i d \" :  \" 5 4 9 5 a 1 2 f 9 2 5 1 4 1 3 0 f c 0 0 2 e 9 4 \" ,  \" d e p a r t m e n t \" :  \" c r e w \" ,  \" g e n d e r \" :  0 ,  \" i d \" :  1 3 5 7 0 7 1 ,  \" j o b \" :  \" t r a n s p o r t a t i o n  c o o r d i n a t o r \" ,  \" n a m e \" :  \" j a m e s  w a i t k u s \" } ,  { \" c r e d i t _ i d \" :  \" 5 4 9 5 9 7 6 f c 3 a 3 6 8 1 1 5 3 0 0 2 6 b 0 \" ,  \" d e p a r t m e n t \" :  \" s o u n d \" ,  \" g e n d e r \" :  0 ,  \" i d \" :  1 3 6 0 1 0 3 ,  \" j o b \" :  \" s u p e r v i s i n g  s o u n d  e d i t o r \" ,  \" n a m e \" :  \" a d d i s o n  t e a g u e \" } ,  { \" c r e d i t _ i d \" :  \" 5 4 4 9 1 8 3 7 c 3 a 3 6 8 0 f b 1 0 0 1 c 5 a \" ,  \" d e p a r t m e n t \" :  \" a r t \" ,  \" g e n d e r \" :  2 ,  \" i d \" :  1 3 7 6 8 8 7 ,  \" j o b \" :  \" s e t  d e s i g n e r \" ,  \" n a m e \" :  \" c .  s c o t t  b a k e r \" } ,  { \" c r e d i t _ i d \" :  \" 5 4 4 9 1 8 7 8 c 3 a 3 6 8 0 f b 4 0 0 1 c 9 d \" ,  \" d e p a r t m e n t \" :  \" a r t \" ,  \" g e n d e r \" :  0 ,  \" i d \" :  1 3 7 6 8 8 8 ,  \" j o b \" :  \" s e t  d e s i g n e r \" ,  \" n a m e \" :  \" l u k e  c a s k a \" } ,  { \" c r e d i t _ i d \" :  \" 5 4 4 9 1 8 d a c 3 a 3 6 8 0 f a 5 0 0 1 a e 0 \" ,  \" d e p a r t m e n t \" :  \" a r t \" ,  \" g e n d e r \" :  0 ,  \" i d \" :  1 3 7 6 8 8 9 ,  \" j o b \" :  \" s e t  d e s i g n e r \" ,  \" n a m e \" :  \" d a v i d  c h o w \" } ,  { \" c r e d i t _ i d \" :  \" 5 4 4 9 1 9 1 1 0 e 0 a 2 6 7 4 8 6 0 0 1 b 6 8 \" ,  \" d e p a r t m e n t \" :  \" a r t \" ,  \" g e n d e r \" :  0 ,  \" i d \" :  1 3 7 6 8 9 0 ,  \" j o b \" :  \" s e t  d e s i g n e r \" ,  \" n a m e \" :  \" j o n a t h a n  d y e r \" } ,  { \" c r e d i t _ i d \" :  \" 5 4 4 9 1 9 6 7 c 3 a 3 6 8 0 f a a 0 0 1 b 5 e \" ,  \" d e p a r t m e n t \" :  \" a r t \" ,  \" g e n d e r \" :  0 ,  \" i d \" :  1 3 7 6 8 9 1 ,  \" j o b \" :  \" s e t  d e s i g n e r \" ,  \" n a m e \" :  \" j o s e p h  h i u r a \" } ,  { \" c r e d i t _ i d \" :  \" 5 4 4 9 1 9 9 7 c 3 a 3 6 8 0 f b 1 0 0 1 c 8 a \" ,  \" d e p a r t m e n t \" :  \" a r t \" ,  \" g e n d e r \" :  0 ,  \" i d \" :  1 3 7 6 8 9 2 ,  \" j o b \" :  \" a r t  d e p a r t m e n t  c o o r d i n a t o r \" ,  \" n a m e \" :  \" r e b e c c a  j e l l i e \" } ,  { \" c r e d i t _ i d \" :  \" 5 4 4 9 1 9 b a 0 e 0 a 2 6 7 4 8 f 0 0 1 b 4 2 \" ,  \" d e p a r t m e n t \" :  \" a r t \" ,  \" g e n d e r \" :  0 ,  \" i d \" :  1 3 7 6 8 9 3 ,  \" j o b \" :  \" s e t  d e s i g n e r \" ,  \" n a m e \" :  \" r o b e r t  a n d r e w  j o h n s o n \" } ,  { \" c r e d i t _ i d \" :  \" 5 4 4 9 1 b 1 d c 3 a 3 6 8 0 f a a 0 0 1 b 8 c \" ,  \" d e p a r t m e n t \" :  \" a r t \" ,  \" g e n d e r \" :  0 ,  \" i d \" :  1 3 7 6 8 9 5 ,  \" j o b \" :  \" a s s i s t a n t  a r t  d i r e c t o r \" ,  \" n a m e \" :  \" m i k e  s t a s s i \" } ,  { \" c r e d i t _ i d \" :  \" 5 4 4 9 1 b 7 9 c 3 a 3 6 8 0 f b b 0 0 1 8 2 6 \" ,  \" d e p a r t m e n t \" :  \" a r t \" ,  \" g e n d e r \" :  0 ,  \" i d \" :  1 3 7 6 8 9 7 ,  \" j o b \" :  \" c o n s t r u c t i o n  c o o r d i n a t o r \" ,  \" n a m e \" :  \" j o h n  v i l l a r i n o \" } ,  { \" c r e d i t _ i d \" :  \" 5 4 4 9 1 b a e c 3 a 3 6 8 0 f b 4 0 0 1 c e 6 \" ,  \" d e p a r t m e n t \" :  \" a r t \" ,  \" g e n d e r \" :  2 ,  \" i d \" :  1 3 7 6 8 9 8 ,  \" j o b \" :  \" a s s i s t a n t  a r t  d i r e c t o r \" ,  \" n a m e \" :  \" j e f f r e y  w i s n i e w s k i \" } ,  { \" c r e d i t _ i d \" :  \" 5 4 4 9 1 d 2 f c 3 a 3 6 8 0 f b 4 0 0 1 d 0 7 \" ,  \" d e p a r t m e n t \" :  \" e d i t i n g \" ,  \" g e n d e r \" :  0 ,  \" i d \" :  1 3 7 6 8 9 9 ,  \" j o b \" :  \" d i a l o g u e  e d i t o r \" ,  \" n a m e \" :  \" c h e r y l  n a r d i \" } ,  { \" c r e d i t _ i d \" :  \" 5 4 4 9 1 d 8 6 c 3 a 3 6 8 0 f a 5 0 0 1 b 2 f \" ,  \" d e p a r t m e n t \" :  \" e d i t i n g \" ,  \" g e n d e r \" :  0 ,  \" i d \" :  1 3 7 6 9 0 1 ,  \" j o b \" :  \" d i a l o g u e  e d i t o r \" ,  \" n a m e \" :  \" m a r s h a l l  w i n n \" } ,  { \" c r e d i t _ i d \" :  \" 5 4 4 9 1 d 9 d c 3 a 3 6 8 0 f a a 0 0 1 b b 0 \" ,  \" d e p a r t m e n t \" :  \" s o u n d \" ,  \" g e n d e r \" :  0 ,  \" i d \" :  1 3 7 6 9 0 2 ,  \" j o b \" :  \" s u p e r v i s i n g  s o u n d  e d i t o r \" ,  \" n a m e \" :  \" g w e n d o l y n  y a t e s  w h i t t l e \" } ,  { \" c r e d i t _ i d \" :  \" 5 4 4 9 1 d c 1 0 e 0 a 2 6 7 4 8 6 0 0 1 b c e \" ,  \" d e p a r t m e n t \" :  \" s o u n d \" ,  \" g e n d e r \" :  0 ,  \" i d \" :  1 3 7 6 9 0 3 ,  \" j o b \" :  \" s o u n d  r e - r e c o r d i n g  m i x e r \" ,  \" n a m e \" :  \" w i l l i a m  s t e i n \" } ,  { \" c r e d i t _ i d \" :  \" 5 4 4 9 1 f 5 0 0 e 0 a 2 6 7 4 7 c 0 0 1 c 0 7 \" ,  \" d e p a r t m e n t \" :  \" c r e w \" ,  \" g e n d e r \" :  0 ,  \" i d \" :  1 3 7 6 9 0 9 ,  \" j o b \" :  \" c h o r e o g r a p h e r \" ,  \" n a m e \" :  \" l u l a  w a s h i n g t o n \" } ,  { \" c r e d i t _ i d \" :  \" 5 4 9 5 9 9 2 3 9 2 5 1 4 1 2 c 4 e 0 0 2 a 2 e \" ,  \" d e p a r t m e n t \" :  \" v i s u a l  e f f e c t s \" ,  \" g e n d e r \" :  0 ,  \" i d \" :  1 3 9 1 6 9 2 ,  \" j o b \" :  \" v i s u a l  e f f e c t s  p r o d u c e r \" ,  \" n a m e \" :  \" c h r i s  d e l  c o n t e \" } ,  { \" c r e d i t _ i d \" :  \" 5 4 9 5 9 d 5 4 c 3 a 3 6 8 3 1 b 8 0 0 1 d 9 a \" ,  \" d e p a r t m e n t \" :  \" v i s u a l  e f f e c t s \" ,  \" g e n d e r \" :  2 ,  \" i d \" :  1 3 9 1 6 9 5 ,  \" j o b \" :  \" v i s u a l  e f f e c t s  s u p e r v i s o r \" ,  \" n a m e \" :  \" r .  c h r i s t o p h e r  w h i t e \" } ,  { \" c r e d i t _ i d \" :  \" 5 4 9 5 9 b d f 9 2 5 1 4 1 2 c 4 e 0 0 2 a 6 6 \" ,  \" d e p a r t m e n t \" :  \" v i s u a l  e f f e c t s \" ,  \" g e n d e r \" :  0 ,  \" i d \" :  1 3 9 4 0 7 0 ,  \" j o b \" :  \" v i s u a l  e f f e c t s  s u p e r v i s o r \" ,  \" n a m e \" :  \" d a n  l e m m o n \" } ,  { \" c r e d i t _ i d \" :  \" 5 4 9 5 9 7 1 d 9 2 5 1 4 1 3 2 e d 0 0 2 9 2 2 \" ,  \" d e p a r t m e n t \" :  \" s o u n d \" ,  \" g e n d e r \" :  0 ,  \" i d \" :  1 3 9 4 1 2 9 ,  \" j o b \" :  \" s o u n d  e f f e c t s  e d i t o r \" ,  \" n a m e \" :  \" t i m  n i e l s e n \" } ,  { \" c r e d i t _ i d \" :  \" 5 5 9 2 b 2 5 7 9 2 5 1 4 1 5 2 c c 0 0 1 1 a a \" ,  \" d e p a r t m e n t \" :  \" c r e w \" ,  \" g e n d e r \" :  0 ,  \" i d \" :  1 3 9 4 2 8 6 ,  \" j o b \" :  \" c g  s u p e r v i s o r \" ,  \" n a m e \" :  \" m i c h a e l  m u l h o l l a n d \" } ,  { \" c r e d i t _ i d \" :  \" 5 4 9 5 9 a 3 2 9 2 5 1 4 1 6 e 2 b 0 0 4 3 5 5 \" ,  \" d e p a r t m e n t \" :  \" c r e w \" ,  \" g e n d e r \" :  0 ,  \" i d \" :  1 3 9 4 7 5 0 ,  \" j o b \" :  \" v i s u a l  e f f e c t s  e d i t o r \" ,  \" n a m e \" :  \" t h o m a s  n i t t m a n n \" } ,  { \" c r e d i t _ i d \" :  \" 5 4 9 5 9 d 6 d c 3 a 3 6 8 6 a e 9 0 0 4 4 0 1 \" ,  \" d e p a r t m e n t \" :  \" v i s u a l  e f f e c t s \" ,  \" g e n d e r \" :  0 ,  \" i d \" :  1 3 9 4 7 5 5 ,  \" j o b \" :  \" v i s u a l  e f f e c t s  s u p e r v i s o r \" ,  \" n a m e \" :  \" e d s o n  w i l l i a m s \" } ,  { \" c r e d i t _ i d \" :  \" 5 4 9 5 a 0 8 f c 3 a 3 6 8 6 a e 3 0 0 4 4 1 c \" ,  \" d e p a r t m e n t \" :  \" e d i t i n g \" ,  \" g e n d e r \" :  0 ,  \" i d \" :  1 3 9 4 9 5 3 ,  \" j o b \" :  \" d i g i t a l  i n t e r m e d i a t e \" ,  \" n a m e \" :  \" c h r i s t i n e  c a r r \" } ,  { \" c r e d i t _ i d \" :  \" 5 5 4 0 2 d 6 5 9 2 5 1 4 1 3 d 6 d 0 0 0 2 4 9 \" ,  \" d e p a r t m e n t \" :  \" v i s u a l  e f f e c t s \" ,  \" g e n d e r \" :  0 ,  \" i d \" :  1 3 9 5 2 6 9 ,  \" j o b \" :  \" v i s u a l  e f f e c t s  s u p e r v i s o r \" ,  \" n a m e \" :  \" j o h n  b r u n o \" } ,  { \" c r e d i t _ i d \" :  \" 5 4 9 5 9 e 7 b 9 2 5 1 4 1 6 e 1 e 0 0 3 f 3 e \" ,  \" d e p a r t m e n t \" :  \" c a m e r a \" ,  \" g e n d e r \" :  0 ,  \" i d \" :  1 3 9 8 9 7 0 ,  \" j o b \" :  \" s t e a d i c a m  o p e r a t o r \" ,  \" n a m e \" :  \" d a v i d  e m m e r i c h s \" } ,  { \" c r e d i t _ i d \" :  \" 5 4 9 5 9 7 3 4 c 3 a 3 6 8 6 a e 1 0 0 4 5 e 0 \" ,  \" d e p a r t m e n t \" :  \" s o u n d \" ,  \" g e n d e r \" :  0 ,  \" i d \" :  1 4 0 0 9 0 6 ,  \" j o b \" :  \" s o u n d  e f f e c t s  e d i t o r \" ,  \" n a m e \" :  \" c h r i s t o p h e r  s c a r a b o s i o \" } ,  { \" c r e d i t _ i d \" :  \" 5 4 9 5 9 5 d d 9 2 5 1 4 1 3 0 f c 0 0 2 d 7 9 \" ,  \" d e p a r t m e n t \" :  \" p r o d u c t i o n \" ,  \" g e n d e r \" :  0 ,  \" i d \" :  1 4 0 1 7 8 4 ,  \" j o b \" :  \" p r o d u c t i o n  s u p e r v i s o r \" ,  \" n a m e \" :  \" j e n n i f e r  t e v e s \" } ,  { \" c r e d i t _ i d \" :  \" 5 4 9 5 9 6 0 0 9 2 5 1 4 1 3 a f 7 0 0 2 8 c c \" ,  \" d e p a r t m e n t \" :  \" p r o d u c t i o n \" ,  \" g e n d e r \" :  0 ,  \" i d \" :  1 4 0 1 7 8 5 ,  \" j o b \" :  \" p r o d u c t i o n  m a n a g e r \" ,  \" n a m e \" :  \" b r i g i t t e  y o r k e \" } ,  { \" c r e d i t _ i d \" :  \" 5 4 9 5 9 6 e 8 9 2 5 1 4 1 3 0 f c 0 0 2 d 9 9 \" ,  \" d e p a r t m e n t \" :  \" s o u n d \" ,  \" g e n d e r \" :  0 ,  \" i d \" :  1 4 0 1 7 8 6 ,  \" j o b \" :  \" s o u n d  e f f e c t s  e d i t o r \" ,  \" n a m e \" :  \" k e n  f i s c h e r \" } ,  { \" c r e d i t _ i d \" :  \" 5 4 9 5 9 8 2 2 9 2 5 1 4 1 2 c 4 e 0 0 2 a 1 c \" ,  \" d e p a r t m e n t \" :  \" c r e w \" ,  \" g e n d e r \" :  0 ,  \" i d \" :  1 4 0 1 7 8 7 ,  \" j o b \" :  \" s p e c i a l  e f f e c t s  c o o r d i n a t o r \" ,  \" n a m e \" :  \" i a i n  h u t t o n \" } ,  { \" c r e d i t _ i d \" :  \" 5 4 9 5 9 8 3 4 9 2 5 1 4 1 6 e 2 b 0 0 4 3 2 b \" ,  \" d e p a r t m e n t \" :  \" c r e w \" ,  \" g e n d e r \" :  0 ,  \" i d \" :  1 4 0 1 7 8 8 ,  \" j o b \" :  \" s p e c i a l  e f f e c t s  c o o r d i n a t o r \" ,  \" n a m e \" :  \" s t e v e  i n g r a m \" } ,  { \" c r e d i t _ i d \" :  \" 5 4 9 5 9 9 0 5 c 3 a 3 6 8 6 a e 3 0 0 4 3 2 4 \" ,  \" d e p a r t m e n t \" :  \" v i s u a l  e f f e c t s \" ,  \" g e n d e r \" :  0 ,  \" i d \" :  1 4 0 1 7 8 9 ,  \" j o b \" :  \" v i s u a l  e f f e c t s  p r o d u c e r \" ,  \" n a m e \" :  \" j o y c e  c o x \" } ,  { \" c r e d i t _ i d \" :  \" 5 4 9 5 9 9 4 b 9 2 5 1 4 1 3 2 e d 0 0 2 9 5 1 \" ,  \" d e p a r t m e n t \" :  \" v i s u a l  e f f e c t s \" ,  \" g e n d e r \" :  0 ,  \" i d \" :  1 4 0 1 7 9 0 ,  \" j o b \" :  \" v i s u a l  e f f e c t s  p r o d u c e r \" ,  \" n a m e \" :  \" j e n n y  f o s t e r \" } ,  { \" c r e d i t _ i d \" :  \" 5 4 9 5 9 9 c b c 3 a 3 6 8 6 a e 1 0 0 4 6 1 3 \" ,  \" d e p a r t m e n t \" :  \" c r e w \" ,  \" g e n d e r \" :  0 ,  \" i d \" :  1 4 0 1 7 9 1 ,  \" j o b \" :  \" v i s u a l  e f f e c t s  e d i t o r \" ,  \" n a m e \" :  \" c h r i s t o p h e r  m a r i n o \" } ,  { \" c r e d i t _ i d \" :  \" 5 4 9 5 9 9 f 2 c 3 a 3 6 8 6 a e 1 0 0 4 6 1 e \" ,  \" d e p a r t m e n t \" :  \" c r e w \" ,  \" g e n d e r \" :  0 ,  \" i d \" :  1 4 0 1 7 9 2 ,  \" j o b \" :  \" v i s u a l  e f f e c t s  e d i t o r \" ,  \" n a m e \" :  \" j i m  m i l t o n \" } ,  { \" c r e d i t _ i d \" :  \" 5 4 9 5 9 a 5 1 c 3 a 3 6 8 6 a f 3 0 0 3 e b 5 \" ,  \" d e p a r t m e n t \" :  \" v i s u a l  e f f e c t s \" ,  \" g e n d e r \" :  0 ,  \" i d \" :  1 4 0 1 7 9 3 ,  \" j o b \" :  \" v i s u a l  e f f e c t s  p r o d u c e r \" ,  \" n a m e \" :  \" c y n d i  o c h s \" } ,  { \" c r e d i t _ i d \" :  \" 5 4 9 5 9 a 7 c c 3 a 3 6 8 1 1 5 3 0 0 2 6 f 4 \" ,  \" d e p a r t m e n t \" :  \" c r e w \" ,  \" g e n d e r \" :  0 ,  \" i d \" :  1 4 0 1 7 9 4 ,  \" j o b \" :  \" v i s u a l  e f f e c t s  e d i t o r \" ,  \" n a m e \" :  \" l u c a s  p u t n a m \" } ,  { \" c r e d i t _ i d \" :  \" 5 4 9 5 9 b 9 1 c 3 a 3 6 8 0 f f 5 0 0 2 c b 4 \" ,  \" d e p a r t m e n t \" :  \" v i s u a l  e f f e c t s \" ,  \" g e n d e r \" :  0 ,  \" i d \" :  1 4 0 1 7 9 5 ,  \" j o b \" :  \" v i s u a l  e f f e c t s  s u p e r v i s o r \" ,  \" n a m e \" :  \" a n t h o n y  \\' m a x \\'  i v i n s \" } ,  { \" c r e d i t _ i d \" :  \" 5 4 9 5 9 b b 6 9 2 5 1 4 1 2 c 4 e 0 0 2 a 5 f \" ,  \" d e p a r t m e n t \" :  \" v i s u a l  e f f e c t s \" ,  \" g e n d e r \" :  0 ,  \" i d \" :  1 4 0 1 7 9 6 ,  \" j o b \" :  \" v i s u a l  e f f e c t s  s u p e r v i s o r \" ,  \" n a m e \" :  \" j o h n  k n o l l \" } ,  { \" c r e d i t _ i d \" :  \" 5 4 9 5 9 c b b c 3 a 3 6 8 6 a e 3 0 0 4 3 9 1 \" ,  \" d e p a r t m e n t \" :  \" v i s u a l  e f f e c t s \" ,  \" g e n d e r \" :  2 ,  \" i d \" :  1 4 0 1 7 9 9 ,  \" j o b \" :  \" v i s u a l  e f f e c t s  s u p e r v i s o r \" ,  \" n a m e \" :  \" e r i c  s a i n d o n \" } ,  { \" c r e d i t _ i d \" :  \" 5 4 9 5 9 d 0 6 c 3 a 3 6 8 6 a e 9 0 0 4 3 f 6 \" ,  \" d e p a r t m e n t \" :  \" v i s u a l  e f f e c t s \" ,  \" g e n d e r \" :  0 ,  \" i d \" :  1 4 0 1 8 0 0 ,  \" j o b \" :  \" v i s u a l  e f f e c t s  s u p e r v i s o r \" ,  \" n a m e \" :  \" w a y n e  s t a b l e s \" } ,  { \" c r e d i t _ i d \" :  \" 5 4 9 5 9 d 2 5 9 2 5 1 4 1 6 e 1 e 0 0 3 f 1 1 \" ,  \" d e p a r t m e n t \" :  \" v i s u a l  e f f e c t s \" ,  \" g e n d e r \" :  0 ,  \" i d \" :  1 4 0 1 8 0 1 ,  \" j o b \" :  \" v i s u a l  e f f e c t s  s u p e r v i s o r \" ,  \" n a m e \" :  \" d a v i d  s t i n n e t t \" } ,  { \" c r e d i t _ i d \" :  \" 5 4 9 5 9 d b 4 9 2 5 1 4 1 3 a f 7 0 0 2 9 7 5 \" ,  \" d e p a r t m e n t \" :  \" v i s u a l  e f f e c t s \" ,  \" g e n d e r \" :  0 ,  \" i d \" :  1 4 0 1 8 0 3 ,  \" j o b \" :  \" v i s u a l  e f f e c t s  s u p e r v i s o r \" ,  \" n a m e \" :  \" g u y  w i l l i a m s \" } ,  { \" c r e d i t _ i d \" :  \" 5 4 9 5 9 d e 4 c 3 a 3 6 8 1 1 5 3 0 0 2 7 5 0 \" ,  \" d e p a r t m e n t \" :  \" c r e w \" ,  \" g e n d e r \" :  0 ,  \" i d \" :  1 4 0 1 8 0 4 ,  \" j o b \" :  \" s t u n t  c o o r d i n a t o r \" ,  \" n a m e \" :  \" s t u a r t  t h o r p \" } ,  { \" c r e d i t _ i d \" :  \" 5 4 9 5 9 e f 2 c 3 a 3 6 8 0 f c 6 0 0 2 7 f 2 \" ,  \" d e p a r t m e n t \" :  \" l i g h t i n g \" ,  \" g e n d e r \" :  0 ,  \" i d \" :  1 4 0 1 8 0 5 ,  \" j o b \" :  \" b e s t  b o y  e l e c t r i c \" ,  \" n a m e \" :  \" g i l e s  c o b u r n \" } ,  { \" c r e d i t _ i d \" :  \" 5 4 9 5 9 f 0 7 c 3 a 3 6 8 0 f c 6 0 0 2 7 f 9 \" ,  \" d e p a r t m e n t \" :  \" c a m e r a \" ,  \" g e n d e r \" :  2 ,  \" i d \" :  1 4 0 1 8 0 6 ,  \" j o b \" :  \" s t i l l  p h o t o g r a p h e r \" ,  \" n a m e \" :  \" m a r k  f e l l m a n \" } ,  { \" c r e d i t _ i d \" :  \" 5 4 9 5 9 f 4 7 c 3 a 3 6 8 1 1 5 3 0 0 2 7 7 4 \" ,  \" d e p a r t m e n t \" :  \" l i g h t i n g \" ,  \" g e n d e r \" :  0 ,  \" i d \" :  1 4 0 1 8 0 7 ,  \" j o b \" :  \" l i g h t i n g  t e c h n i c i a n \" ,  \" n a m e \" :  \" s c o t t  s p r a g u e \" } ,  { \" c r e d i t _ i d \" :  \" 5 4 9 5 9 f 8 c c 3 a 3 6 8 3 1 b 8 0 0 1 d f 2 \" ,  \" d e p a r t m e n t \" :  \" v i s u a l  e f f e c t s \" ,  \" g e n d e r \" :  0 ,  \" i d \" :  1 4 0 1 8 0 8 ,  \" j o b \" :  \" a n i m a t i o n  d i r e c t o r \" ,  \" n a m e \" :  \" j e r e m y  h o l l o b o n \" } ,  { \" c r e d i t _ i d \" :  \" 5 4 9 5 9 f a 0 c 3 a 3 6 8 3 1 b 8 0 0 1 d f b \" ,  \" d e p a r t m e n t \" :  \" v i s u a l  e f f e c t s \" ,  \" g e n d e r \" :  0 ,  \" i d \" :  1 4 0 1 8 0 9 ,  \" j o b \" :  \" a n i m a t i o n  d i r e c t o r \" ,  \" n a m e \" :  \" o r l a n d o  m e u n i e r \" } ,  { \" c r e d i t _ i d \" :  \" 5 4 9 5 9 f b 6 c 3 a 3 6 8 6 a f 3 0 0 3 f 5 4 \" ,  \" d e p a r t m e n t \" :  \" v i s u a l  e f f e c t s \" ,  \" g e n d e r \" :  0 ,  \" i d \" :  1 4 0 1 8 1 0 ,  \" j o b \" :  \" a n i m a t i o n  d i r e c t o r \" ,  \" n a m e \" :  \" t a i s u k e  t a n i m u r a \" } ,  { \" c r e d i t _ i d \" :  \" 5 4 9 5 9 f d 2 c 3 a 3 6 8 3 1 b 8 0 0 1 e 0 2 \" ,  \" d e p a r t m e n t \" :  \" c o s t u m e  &  m a k e - u p \" ,  \" g e n d e r \" :  0 ,  \" i d \" :  1 4 0 1 8 1 2 ,  \" j o b \" :  \" s e t  c o s t u m e r \" ,  \" n a m e \" :  \" l i l i a  m i s h e l  a c e v e d o \" } ,  { \" c r e d i t _ i d \" :  \" 5 4 9 5 9 f f 9 c 3 a 3 6 8 6 a e 3 0 0 4 4 0 c \" ,  \" d e p a r t m e n t \" :  \" c o s t u m e  &  m a k e - u p \" ,  \" g e n d e r \" :  0 ,  \" i d \" :  1 4 0 1 8 1 4 ,  \" j o b \" :  \" s e t  c o s t u m e r \" ,  \" n a m e \" :  \" a l e j a n d r o  m .  h e r n a n d e z \" } ,  { \" c r e d i t _ i d \" :  \" 5 4 9 5 a 0 d d c 3 a 3 6 8 6 a e 1 0 0 4 6 f e \" ,  \" d e p a r t m e n t \" :  \" e d i t i n g \" ,  \" g e n d e r \" :  0 ,  \" i d \" :  1 4 0 1 8 1 5 ,  \" j o b \" :  \" d i g i t a l  i n t e r m e d i a t e \" ,  \" n a m e \" :  \" m a r v i n  h a l l \" } ,  { \" c r e d i t _ i d \" :  \" 5 4 9 5 a 1 f 7 c 3 a 3 6 8 6 a e 3 0 0 4 4 4 3 \" ,  \" d e p a r t m e n t \" :  \" p r o d u c t i o n \" ,  \" g e n d e r \" :  0 ,  \" i d \" :  1 4 0 1 8 1 6 ,  \" j o b \" :  \" p u b l i c i s t \" ,  \" n a m e \" :  \" j u d y  a l l e y \" } ,  { \" c r e d i t _ i d \" :  \" 5 5 9 2 b 2 9 f c 3 a 3 6 8 6 9 d 1 0 0 0 0 2 f \" ,  \" d e p a r t m e n t \" :  \" c r e w \" ,  \" g e n d e r \" :  0 ,  \" i d \" :  1 4 1 8 3 8 1 ,  \" j o b \" :  \" c g  s u p e r v i s o r \" ,  \" n a m e \" :  \" m i k e  p e r r y \" } ,  { \" c r e d i t _ i d \" :  \" 5 5 9 2 b 2 3 a 9 2 5 1 4 1 5 d f 8 0 0 1 0 8 1 \" ,  \" d e p a r t m e n t \" :  \" c r e w \" ,  \" g e n d e r \" :  0 ,  \" i d \" :  1 4 2 6 8 5 4 ,  \" j o b \" :  \" c g  s u p e r v i s o r \" ,  \" n a m e \" :  \" a n d r e w  m o r l e y \" } ,  { \" c r e d i t _ i d \" :  \" 5 5 4 9 1 e 1 1 9 2 5 1 4 1 0 4 c 4 0 0 0 2 d 8 \" ,  \" d e p a r t m e n t \" :  \" a r t \" ,  \" g e n d e r \" :  0 ,  \" i d \" :  1 4 3 8 9 0 1 ,  \" j o b \" :  \" c o n c e p t u a l  d e s i g n \" ,  \" n a m e \" :  \" s e t h  e n g s t r o m \" } ,  { \" c r e d i t _ i d \" :  \" 5 5 2 5 d 5 8 0 9 2 5 1 4 1 7 2 7 6 0 0 2 b 0 6 \" ,  \" d e p a r t m e n t \" :  \" c r e w \" ,  \" g e n d e r \" :  0 ,  \" i d \" :  1 4 4 7 3 6 2 ,  \" j o b \" :  \" v i s u a l  e f f e c t s  a r t  d i r e c t o r \" ,  \" n a m e \" :  \" e r i c  o l i v e r \" } ,  { \" c r e d i t _ i d \" :  \" 5 5 4 4 2 7 c a 9 2 5 1 4 1 5 8 6 5 0 0 3 1 2 a \" ,  \" d e p a r t m e n t \" :  \" v i s u a l  e f f e c t s \" ,  \" g e n d e r \" :  0 ,  \" i d \" :  1 4 4 7 5 0 3 ,  \" j o b \" :  \" m o d e l i n g \" ,  \" n a m e \" :  \" m a t s u n e  s u z u k i \" } ,  { \" c r e d i t _ i d \" :  \" 5 5 1 9 0 6 8 8 9 2 5 1 4 1 5 a a b 0 0 1 c 8 8 \" ,  \" d e p a r t m e n t \" :  \" a r t \" ,  \" g e n d e r \" :  0 ,  \" i d \" :  1 4 4 7 5 2 4 ,  \" j o b \" :  \" a r t  d e p a r t m e n t  m a n a g e r \" ,  \" n a m e \" :  \" p a u l  t o b i n \" } ,  { \" c r e d i t _ i d \" :  \" 5 5 9 2 a f 8 4 9 2 5 1 4 1 5 2 c c 0 0 1 0 d e \" ,  \" d e p a r t m e n t \" :  \" c o s t u m e  &  m a k e - u p \" ,  \" g e n d e r \" :  0 ,  \" i d \" :  1 4 5 2 6 4 3 ,  \" j o b \" :  \" h a i r s t y l i s t \" ,  \" n a m e \" :  \" r o x a n e  g r i f f i n \" } ,  { \" c r e d i t _ i d \" :  \" 5 5 3 d 3 c 1 0 9 2 5 1 4 1 5 8 5 2 0 0 1 3 1 8 \" ,  \" d e p a r t m e n t \" :  \" l i g h t i n g \" ,  \" g e n d e r \" :  0 ,  \" i d \" :  1 4 5 3 9 3 8 ,  \" j o b \" :  \" l i g h t i n g  a r t i s t \" ,  \" n a m e \" :  \" a r u n  r a m - m o h a n \" } ,  { \" c r e d i t _ i d \" :  \" 5 5 9 2 a f 4 6 9 2 5 1 4 1 5 2 d 5 0 0 1 3 5 5 \" ,  \" d e p a r t m e n t \" :  \" c o s t u m e  &  m a k e - u p \" ,  \" g e n d e r \" :  0 ,  \" i d \" :  1 4 5 7 3 0 5 ,  \" j o b \" :  \" m a k e u p  a r t i s t \" ,  \" n a m e \" :  \" g e o r g i a  l o c k h a r t - a d a m s \" } ,  { \" c r e d i t _ i d \" :  \" 5 5 9 2 b 2 e a c 3 a 3 6 8 7 7 4 7 0 0 1 2 a 5 \" ,  \" d e p a r t m e n t \" :  \" c r e w \" ,  \" g e n d e r \" :  0 ,  \" i d \" :  1 4 6 6 0 3 5 ,  \" j o b \" :  \" c g  s u p e r v i s o r \" ,  \" n a m e \" :  \" t h r a i n  s h a d b o l t \" } ,  { \" c r e d i t _ i d \" :  \" 5 5 9 2 b 0 3 2 c 3 a 3 6 8 7 7 4 5 0 0 1 5 f 1 \" ,  \" d e p a r t m e n t \" :  \" c r e w \" ,  \" g e n d e r \" :  0 ,  \" i d \" :  1 4 8 3 2 2 0 ,  \" j o b \" :  \" c g  s u p e r v i s o r \" ,  \" n a m e \" :  \" b r a d  a l e x a n d e r \" } ,  { \" c r e d i t _ i d \" :  \" 5 5 9 2 b 0 5 5 9 2 5 1 4 1 5 2 d 8 0 0 1 2 f 6 \" ,  \" d e p a r t m e n t \" :  \" c r e w \" ,  \" g e n d e r \" :  0 ,  \" i d \" :  1 4 8 3 2 2 1 ,  \" j o b \" :  \" c g  s u p e r v i s o r \" ,  \" n a m e \" :  \" s h a d i  a l m a s s i z a d e h \" } ,  { \" c r e d i t _ i d \" :  \" 5 5 9 2 b 0 9 0 c 3 a 3 6 8 7 7 5 7 0 0 1 0 b 5 \" ,  \" d e p a r t m e n t \" :  \" c r e w \" ,  \" g e n d e r \" :  0 ,  \" i d \" :  1 4 8 3 2 2 2 ,  \" j o b \" :  \" c g  s u p e r v i s o r \" ,  \" n a m e \" :  \" s i m o n  c l u t t e r b u c k \" } ,  { \" c r e d i t _ i d \" :  \" 5 5 9 2 b 0 d b c 3 a 3 6 8 7 7 4 b 0 0 1 1 2 c \" ,  \" d e p a r t m e n t \" :  \" c r e w \" ,  \" g e n d e r \" :  0 ,  \" i d \" :  1 4 8 3 2 2 3 ,  \" j o b \" :  \" c g  s u p e r v i s o r \" ,  \" n a m e \" :  \" g r a e m e  d e m m o c k s \" } ,  { \" c r e d i t _ i d \" :  \" 5 5 9 2 b 0 f e 9 2 5 1 4 1 5 2 d b 0 0 1 0 c 1 \" ,  \" d e p a r t m e n t \" :  \" c r e w \" ,  \" g e n d e r \" :  0 ,  \" i d \" :  1 4 8 3 2 2 4 ,  \" j o b \" :  \" c g  s u p e r v i s o r \" ,  \" n a m e \" :  \" a d r i a n  f e r n a n d e s \" } ,  { \" c r e d i t _ i d \" :  \" 5 5 9 2 b 1 1 f 9 2 5 1 4 1 5 d f 8 0 0 1 0 5 9 \" ,  \" d e p a r t m e n t \" :  \" c r e w \" ,  \" g e n d e r \" :  0 ,  \" i d \" :  1 4 8 3 2 2 5 ,  \" j o b \" :  \" c g  s u p e r v i s o r \" ,  \" n a m e \" :  \" m i t c h  g a t e s \" } ,  { \" c r e d i t _ i d \" :  \" 5 5 9 2 b 1 5 d c 3 a 3 6 8 7 7 4 5 0 0 1 6 4 5 \" ,  \" d e p a r t m e n t \" :  \" c r e w \" ,  \" g e n d e r \" :  0 ,  \" i d \" :  1 4 8 3 2 2 6 ,  \" j o b \" :  \" c g  s u p e r v i s o r \" ,  \" n a m e \" :  \" j e r r y  k u n g \" } ,  { \" c r e d i t _ i d \" :  \" 5 5 9 2 b 1 8 e 9 2 5 1 4 1 6 4 5 a 0 0 0 4 a e \" ,  \" d e p a r t m e n t \" :  \" c r e w \" ,  \" g e n d e r \" :  0 ,  \" i d \" :  1 4 8 3 2 2 7 ,  \" j o b \" :  \" c g  s u p e r v i s o r \" ,  \" n a m e \" :  \" a n d y  l o m a s \" } ,  { \" c r e d i t _ i d \" :  \" 5 5 9 2 b 1 b f c 3 a 3 6 8 7 7 5 d 0 0 1 0 e 7 \" ,  \" d e p a r t m e n t \" :  \" c r e w \" ,  \" g e n d e r \" :  0 ,  \" i d \" :  1 4 8 3 2 2 8 ,  \" j o b \" :  \" c g  s u p e r v i s o r \" ,  \" n a m e \" :  \" s e b a s t i a n  m a r i n o \" } ,  { \" c r e d i t _ i d \" :  \" 5 5 9 2 b 2 0 4 9 2 5 1 4 1 5 d f 8 0 0 1 0 7 8 \" ,  \" d e p a r t m e n t \" :  \" c r e w \" ,  \" g e n d e r \" :  0 ,  \" i d \" :  1 4 8 3 2 2 9 ,  \" j o b \" :  \" c g  s u p e r v i s o r \" ,  \" n a m e \" :  \" m a t t h i a s  m e n z \" } ,  { \" c r e d i t _ i d \" :  \" 5 5 9 2 b 2 7 b 9 2 5 1 4 1 5 2 d 8 0 0 1 3 6 a \" ,  \" d e p a r t m e n t \" :  \" c r e w \" ,  \" g e n d e r \" :  0 ,  \" i d \" :  1 4 8 3 2 3 0 ,  \" j o b \" :  \" c g  s u p e r v i s o r \" ,  \" n a m e \" :  \" s e r g e i  n e v s h u p o v \" } ,  { \" c r e d i t _ i d \" :  \" 5 5 9 2 b 2 c 3 c 3 a 3 6 8 6 9 e 8 0 0 0 0 3 c \" ,  \" d e p a r t m e n t \" :  \" c r e w \" ,  \" g e n d e r \" :  0 ,  \" i d \" :  1 4 8 3 2 3 1 ,  \" j o b \" :  \" c g  s u p e r v i s o r \" ,  \" n a m e \" :  \" p h i l i p p e  r e b o u r s \" } ,  { \" c r e d i t _ i d \" :  \" 5 5 9 2 b 3 1 7 c 3 a 3 6 8 7 7 4 7 0 0 1 2 a f \" ,  \" d e p a r t m e n t \" :  \" c r e w \" ,  \" g e n d e r \" :  0 ,  \" i d \" :  1 4 8 3 2 3 2 ,  \" j o b \" :  \" c g  s u p e r v i s o r \" ,  \" n a m e \" :  \" m i c h a e l  t a k a r a n g i \" } ,  { \" c r e d i t _ i d \" :  \" 5 5 9 2 b 3 4 5 c 3 a 3 6 8 7 7 4 7 0 0 1 2 b b \" ,  \" d e p a r t m e n t \" :  \" c r e w \" ,  \" g e n d e r \" :  0 ,  \" i d \" :  1 4 8 3 2 3 3 ,  \" j o b \" :  \" c g  s u p e r v i s o r \" ,  \" n a m e \" :  \" d a v i d  w e i t z b e r g \" } ,  { \" c r e d i t _ i d \" :  \" 5 5 9 2 b 3 7 c c 3 a 3 6 8 7 7 5 1 0 0 1 1 3 b \" ,  \" d e p a r t m e n t \" :  \" c r e w \" ,  \" g e n d e r \" :  0 ,  \" i d \" :  1 4 8 3 2 3 4 ,  \" j o b \" :  \" c g  s u p e r v i s o r \" ,  \" n a m e \" :  \" b e n  w h i t e \" } ,  { \" c r e d i t _ i d \" :  \" 5 7 3 c 8 e 2 f 9 2 5 1 4 1 3 f 5 d 0 0 0 0 9 4 \" ,  \" d e p a r t m e n t \" :  \" c r e w \" ,  \" g e n d e r \" :  1 ,  \" i d \" :  1 6 2 1 9 3 2 ,  \" j o b \" :  \" s t u n t s \" ,  \" n a m e \" :  \" m i n  w i n d l e \" } ]'"
      ]
     },
     "execution_count": 168,
     "metadata": {},
     "output_type": "execute_result"
    }
   ],
   "source": [
    "# text vectorization\n",
    "new_dataframe['tags'][0]"
   ]
  },
  {
   "cell_type": "code",
   "execution_count": 169,
   "id": "166213e6",
   "metadata": {},
   "outputs": [
    {
     "data": {
      "text/plain": [
       "'captain barbossa, long believed to be dead, has come back to life and is headed to the edge of the earth with will turner and elizabeth swann. but nothing is quite as it seems. adventure fantasy action ocean drugabuse exoticisland eastindiatradingcompany loveofone\\'slife traitor shipwreck strongwoman ship alliance calypso afterlife fighter pirate swashbuckler aftercreditsstinger johnnydepp orlandobloom keiraknightley stellanskarsgård chowyun-fat billnighy geoffreyrush jackdavenport kevinmcnally tomhollander naomieharris jonathanpryce keithrichards leearenberg mackenziecrook gregellis davidbailie martinklebba davidschofield laurenmaher vanessabranch angusbarnett gilesnew reggielee dominicscottkay takayofischer davidmeunier ho-kwantse andybeckwith peterdonaldbadalamentiii christophers.capp keithrichards hakeemkae-kazim ghassanmassoud [ { \" c r e d i t _ i d \" :  \" 5 2 f e 4 2 3 2 c 3 a 3 6 8 4 7 f 8 0 0 b 5 7 9 \" ,  \" d e p a r t m e n t \" :  \" c a m e r a \" ,  \" g e n d e r \" :  2 ,  \" i d \" :  1 2 0 ,  \" j o b \" :  \" d i r e c t o r  o f  p h o t o g r a p h y \" ,  \" n a m e \" :  \" d a r i u s z  w o l s k i \" } ,  { \" c r e d i t _ i d \" :  \" 5 2 f e 4 2 3 2 c 3 a 3 6 8 4 7 f 8 0 0 b 4 f d \" ,  \" d e p a r t m e n t \" :  \" d i r e c t i n g \" ,  \" g e n d e r \" :  2 ,  \" i d \" :  1 7 0 4 ,  \" j o b \" :  \" d i r e c t o r \" ,  \" n a m e \" :  \" g o r e  v e r b i n s k i \" } ,  { \" c r e d i t _ i d \" :  \" 5 2 f e 4 2 3 2 c 3 a 3 6 8 4 7 f 8 0 0 b 5 4 f \" ,  \" d e p a r t m e n t \" :  \" p r o d u c t i o n \" ,  \" g e n d e r \" :  2 ,  \" i d \" :  7 7 0 ,  \" j o b \" :  \" p r o d u c e r \" ,  \" n a m e \" :  \" j e r r y  b r u c k h e i m e r \" } ,  { \" c r e d i t _ i d \" :  \" 5 2 f e 4 2 3 2 c 3 a 3 6 8 4 7 f 8 0 0 b 5 0 3 \" ,  \" d e p a r t m e n t \" :  \" w r i t i n g \" ,  \" g e n d e r \" :  2 ,  \" i d \" :  1 7 0 5 ,  \" j o b \" :  \" s c r e e n p l a y \" ,  \" n a m e \" :  \" t e d  e l l i o t t \" } ,  { \" c r e d i t _ i d \" :  \" 5 2 f e 4 2 3 2 c 3 a 3 6 8 4 7 f 8 0 0 b 5 0 9 \" ,  \" d e p a r t m e n t \" :  \" w r i t i n g \" ,  \" g e n d e r \" :  2 ,  \" i d \" :  1 7 0 6 ,  \" j o b \" :  \" s c r e e n p l a y \" ,  \" n a m e \" :  \" t e r r y  r o s s i o \" } ,  { \" c r e d i t _ i d \" :  \" 5 2 f e 4 2 3 2 c 3 a 3 6 8 4 7 f 8 0 0 b 5 7 f \" ,  \" d e p a r t m e n t \" :  \" e d i t i n g \" ,  \" g e n d e r \" :  0 ,  \" i d \" :  1 7 2 1 ,  \" j o b \" :  \" e d i t o r \" ,  \" n a m e \" :  \" s t e p h e n  e .  r i v k i n \" } ,  { \" c r e d i t _ i d \" :  \" 5 2 f e 4 2 3 2 c 3 a 3 6 8 4 7 f 8 0 0 b 5 8 5 \" ,  \" d e p a r t m e n t \" :  \" e d i t i n g \" ,  \" g e n d e r \" :  2 ,  \" i d \" :  1 7 2 2 ,  \" j o b \" :  \" e d i t o r \" ,  \" n a m e \" :  \" c r a i g  w o o d \" } ,  { \" c r e d i t _ i d \" :  \" 5 2 f e 4 2 3 2 c 3 a 3 6 8 4 7 f 8 0 0 b 5 7 3 \" ,  \" d e p a r t m e n t \" :  \" s o u n d \" ,  \" g e n d e r \" :  2 ,  \" i d \" :  9 4 7 ,  \" j o b \" :  \" o r i g i n a l  m u s i c  c o m p o s e r \" ,  \" n a m e \" :  \" h a n s  z i m m e r \" } ,  { \" c r e d i t _ i d \" :  \" 5 2 f e 4 2 3 2 c 3 a 3 6 8 4 7 f 8 0 0 b 5 5 5 \" ,  \" d e p a r t m e n t \" :  \" p r o d u c t i o n \" ,  \" g e n d e r \" :  2 ,  \" i d \" :  2 4 4 4 ,  \" j o b \" :  \" e x e c u t i v e  p r o d u c e r \" ,  \" n a m e \" :  \" m i k e  s t e n s o n \" } ,  { \" c r e d i t _ i d \" :  \" 5 2 f e 4 2 3 2 c 3 a 3 6 8 4 7 f 8 0 0 b 5 6 1 \" ,  \" d e p a r t m e n t \" :  \" p r o d u c t i o n \" ,  \" g e n d e r \" :  2 ,  \" i d \" :  2 4 4 5 ,  \" j o b \" :  \" p r o d u c e r \" ,  \" n a m e \" :  \" e r i c  m c l e o d \" } ,  { \" c r e d i t _ i d \" :  \" 5 2 f e 4 2 3 2 c 3 a 3 6 8 4 7 f 8 0 0 b 5 5 b \" ,  \" d e p a r t m e n t \" :  \" p r o d u c t i o n \" ,  \" g e n d e r \" :  2 ,  \" i d \" :  2 4 4 6 ,  \" j o b \" :  \" p r o d u c e r \" ,  \" n a m e \" :  \" c h a d  o m a n \" } ,  { \" c r e d i t _ i d \" :  \" 5 2 f e 4 2 3 2 c 3 a 3 6 8 4 7 f 8 0 0 b 5 6 7 \" ,  \" d e p a r t m e n t \" :  \" p r o d u c t i o n \" ,  \" g e n d e r \" :  0 ,  \" i d \" :  2 4 4 7 ,  \" j o b \" :  \" p r o d u c e r \" ,  \" n a m e \" :  \" p e t e r  k o h n \" } ,  { \" c r e d i t _ i d \" :  \" 5 2 f e 4 2 3 2 c 3 a 3 6 8 4 7 f 8 0 0 b 5 6 d \" ,  \" d e p a r t m e n t \" :  \" p r o d u c t i o n \" ,  \" g e n d e r \" :  0 ,  \" i d \" :  2 4 4 8 ,  \" j o b \" :  \" p r o d u c e r \" ,  \" n a m e \" :  \" p a t  s a n d s t o n \" } ,  { \" c r e d i t _ i d \" :  \" 5 2 f e 4 2 3 2 c 3 a 3 6 8 4 7 f 8 0 0 b 5 8 b \" ,  \" d e p a r t m e n t \" :  \" p r o d u c t i o n \" ,  \" g e n d e r \" :  1 ,  \" i d \" :  2 2 1 5 ,  \" j o b \" :  \" c a s t i n g \" ,  \" n a m e \" :  \" d e n i s e  c h a m i a n \" } ,  { \" c r e d i t _ i d \" :  \" 5 2 f e 4 2 3 2 c 3 a 3 6 8 4 7 f 8 0 0 b 5 9 7 \" ,  \" d e p a r t m e n t \" :  \" a r t \" ,  \" g e n d e r \" :  2 ,  \" i d \" :  1 2 2 6 ,  \" j o b \" :  \" p r o d u c t i o n  d e s i g n \" ,  \" n a m e \" :  \" r i c k  h e i n r i c h s \" } ,  { \" c r e d i t _ i d \" :  \" 5 2 f e 4 2 3 2 c 3 a 3 6 8 4 7 f 8 0 0 b 5 9 d \" ,  \" d e p a r t m e n t \" :  \" a r t \" ,  \" g e n d e r \" :  2 ,  \" i d \" :  5 5 3 ,  \" j o b \" :  \" a r t  d i r e c t i o n \" ,  \" n a m e \" :  \" j o h n  d e x t e r \" } ,  { \" c r e d i t _ i d \" :  \" 5 2 f e 4 2 3 2 c 3 a 3 6 8 4 7 f 8 0 0 b 5 9 1 \" ,  \" d e p a r t m e n t \" :  \" p r o d u c t i o n \" ,  \" g e n d e r \" :  1 ,  \" i d \" :  3 3 1 1 ,  \" j o b \" :  \" c a s t i n g \" ,  \" n a m e \" :  \" p r i s c i l l a  j o h n \" } ,  { \" c r e d i t _ i d \" :  \" 5 2 f e 4 2 3 2 c 3 a 3 6 8 4 7 f 8 0 0 b 5 a 3 \" ,  \" d e p a r t m e n t \" :  \" a r t \" ,  \" g e n d e r \" :  1 ,  \" i d \" :  4 0 3 2 ,  \" j o b \" :  \" s e t  d e c o r a t i o n \" ,  \" n a m e \" :  \" c h e r y l  c a r a s i k \" } ,  { \" c r e d i t _ i d \" :  \" 5 2 f e 4 2 3 2 c 3 a 3 6 8 4 7 f 8 0 0 b 5 a 9 \" ,  \" d e p a r t m e n t \" :  \" c o s t u m e  &  m a k e - u p \" ,  \" g e n d e r \" :  0 ,  \" i d \" :  4 0 3 3 ,  \" j o b \" :  \" c o s t u m e  d e s i g n \" ,  \" n a m e \" :  \" l i z  d a n n \" } ,  { \" c r e d i t _ i d \" :  \" 5 2 f e 4 2 3 2 c 3 a 3 6 8 4 7 f 8 0 0 b 5 a f \" ,  \" d e p a r t m e n t \" :  \" c o s t u m e  &  m a k e - u p \" ,  \" g e n d e r \" :  1 ,  \" i d \" :  4 0 3 4 ,  \" j o b \" :  \" c o s t u m e  d e s i g n \" ,  \" n a m e \" :  \" p e n n y  r o s e \" } ,  { \" c r e d i t _ i d \" :  \" 5 6 4 2 7 c e 8 c 3 a 3 6 8 6 a 5 3 0 0 0 d 8 b \" ,  \" d e p a r t m e n t \" :  \" s o u n d \" ,  \" g e n d e r \" :  2 ,  \" i d \" :  5 1 3 2 ,  \" j o b \" :  \" m u s i c  s u p e r v i s o r \" ,  \" n a m e \" :  \" b o b  b a d a m i \" } ,  { \" c r e d i t _ i d \" :  \" 5 5 9 9 3 c 1 5 c 3 a 3 6 8 5 5 d b 0 0 2 f 3 3 \" ,  \" d e p a r t m e n t \" :  \" a r t \" ,  \" g e n d e r \" :  2 ,  \" i d \" :  1 4 6 4 3 9 ,  \" j o b \" :  \" c o n c e p t u a l  d e s i g n \" ,  \" n a m e \" :  \" j a m e s  w a r d  b y r k i t \" } ,  { \" c r e d i t _ i d \" :  \" 5 2 f e 4 2 3 2 c 3 a 3 6 8 4 7 f 8 0 0 b 5 b 9 \" ,  \" d e p a r t m e n t \" :  \" c o s t u m e  &  m a k e - u p \" ,  \" g e n d e r \" :  1 ,  \" i d \" :  4 0 6 2 0 4 ,  \" j o b \" :  \" m a k e u p  d e p a r t m e n t  h e a d \" ,  \" n a m e \" :  \" v e  n e i l l \" } ,  { \" c r e d i t _ i d \" :  \" 5 6 e 4 7 f 7 8 9 2 5 1 4 1 3 2 6 9 0 0 1 7 b d \" ,  \" d e p a r t m e n t \" :  \" c r e w \" ,  \" g e n d e r \" :  2 ,  \" i d \" :  1 2 5 9 5 1 6 ,  \" j o b \" :  \" s t u n t s \" ,  \" n a m e \" :  \" j o h n  d i x o n \" } ,  { \" c r e d i t _ i d \" :  \" 5 7 4 0 b e 6 3 9 2 5 1 4 1 6 5 9 7 0 0 0 8 4 9 \" ,  \" d e p a r t m e n t \" :  \" c r e w \" ,  \" g e n d e r \" :  0 ,  \" i d \" :  1 3 3 6 7 1 6 ,  \" j o b \" :  \" c g i  s u p e r v i s o r \" ,  \" n a m e \" :  \" d o t t i e  s t a r l i n g \" } ,  { \" c r e d i t _ i d \" :  \" 5 6 4 2 7 c 6 3 9 2 5 1 4 1 2 f c 8 0 0 0 d c 1 \" ,  \" d e p a r t m e n t \" :  \" d i r e c t i n g \" ,  \" g e n d e r \" :  1 ,  \" i d \" :  1 3 4 4 2 7 8 ,  \" j o b \" :  \" s c r i p t  s u p e r v i s o r \" ,  \" n a m e \" :  \" p a m e l a  a l c h \" } ,  { \" c r e d i t _ i d \" :  \" 5 7 0 8 3 1 0 1 c 3 a 3 6 8 1 d 3 2 0 0 0 4 e 6 \" ,  \" d e p a r t m e n t \" :  \" c r e w \" ,  \" g e n d e r \" :  0 ,  \" i d \" :  1 3 6 8 8 6 7 ,  \" j o b \" :  \" s p e c i a l  e f f e c t s  c o o r d i n a t o r \" ,  \" n a m e \" :  \" a l l e n  h a l l \" } ,  { \" c r e d i t _ i d \" :  \" 5 6 4 2 7 d 5 e c 3 a 3 6 8 6 a 6 2 0 0 0 d 4 a \" ,  \" d e p a r t m e n t \" :  \" s o u n d \" ,  \" g e n d e r \" :  0 ,  \" i d \" :  1 3 6 8 8 8 4 ,  \" j o b \" :  \" m u s i c  e d i t o r \" ,  \" n a m e \" :  \" m e l i s s a  m u i k \" } ,  { \" c r e d i t _ i d \" :  \" 5 6 4 2 7 c 7 b 9 2 5 1 4 1 2 f d 4 0 0 0 e 0 7 \" ,  \" d e p a r t m e n t \" :  \" d i r e c t i n g \" ,  \" g e n d e r \" :  1 ,  \" i d \" :  1 3 9 5 2 9 0 ,  \" j o b \" :  \" s c r i p t  s u p e r v i s o r \" ,  \" n a m e \" :  \" s h a r r o n  r e y n o l d s \" } ,  { \" c r e d i t _ i d \" :  \" 5 6 4 2 7 d 2 b c 3 a 3 6 8 6 a 5 3 0 0 0 d 9 b \" ,  \" d e p a r t m e n t \" :  \" s o u n d \" ,  \" g e n d e r \" :  0 ,  \" i d \" :  1 3 9 9 3 2 7 ,  \" j o b \" :  \" m u s i c  e d i t o r \" ,  \" n a m e \" :  \" b a r b a r a  m c d e r m o t t \" } ,  { \" c r e d i t _ i d \" :  \" 5 6 4 2 7 c b 4 c 3 a 3 6 8 6 a 5 3 0 0 0 d 8 7 \" ,  \" d e p a r t m e n t \" :  \" d i r e c t i n g \" ,  \" g e n d e r \" :  1 ,  \" i d \" :  1 4 0 0 7 3 8 ,  \" j o b \" :  \" s c r i p t  s u p e r v i s o r \" ,  \" n a m e \" :  \" k a r e n  g o l d e n \" } ,  { \" c r e d i t _ i d \" :  \" 5 6 4 2 7 d 1 6 9 2 5 1 4 1 2 f d 4 0 0 0 e 2 3 \" ,  \" d e p a r t m e n t \" :  \" s o u n d \" ,  \" g e n d e r \" :  0 ,  \" i d \" :  1 5 3 4 1 9 7 ,  \" j o b \" :  \" m u s i c  e d i t o r \" ,  \" n a m e \" :  \" k a t i e  g r e a t h o u s e \" } ]'"
      ]
     },
     "execution_count": 169,
     "metadata": {},
     "output_type": "execute_result"
    }
   ],
   "source": [
    "new_dataframe['tags'][1]"
   ]
  },
  {
   "cell_type": "code",
   "execution_count": 132,
   "id": "4db0b9c0",
   "metadata": {},
   "outputs": [],
   "source": [
    "# now we need to check the similarity between these two text of upward\n",
    "# so we need vectorization here\n",
    "# we import sklearn to neglect the generally common english words like a,an,the are,is,am,was,were,etc\n",
    "from sklearn.feature_extraction.text import CountVectorizer\n",
    "cv = CountVectorizer(max_features = 5000,stop_words = 'english')\n"
   ]
  },
  {
   "cell_type": "code",
   "execution_count": 133,
   "id": "ec678a3e",
   "metadata": {},
   "outputs": [],
   "source": [
    "vectors = cv.fit_transform(new_dataframe['tags']).toarray()"
   ]
  },
  {
   "cell_type": "code",
   "execution_count": 134,
   "id": "c7f04506",
   "metadata": {},
   "outputs": [
    {
     "data": {
      "text/plain": [
       "array([[0, 0, 0, ..., 0, 0, 0],\n",
       "       [0, 0, 0, ..., 0, 0, 0],\n",
       "       [0, 0, 0, ..., 0, 0, 0],\n",
       "       ...,\n",
       "       [0, 0, 0, ..., 0, 0, 0],\n",
       "       [0, 0, 0, ..., 0, 0, 0],\n",
       "       [0, 0, 0, ..., 0, 0, 0]], dtype=int64)"
      ]
     },
     "execution_count": 134,
     "metadata": {},
     "output_type": "execute_result"
    }
   ],
   "source": [
    "vectors"
   ]
  },
  {
   "cell_type": "code",
   "execution_count": 135,
   "id": "e044884d",
   "metadata": {},
   "outputs": [
    {
     "data": {
      "text/plain": [
       "array([0, 0, 0, ..., 0, 0, 0], dtype=int64)"
      ]
     },
     "execution_count": 135,
     "metadata": {},
     "output_type": "execute_result"
    }
   ],
   "source": [
    "vectors[0]"
   ]
  },
  {
   "cell_type": "code",
   "execution_count": 136,
   "id": "898f5bdf",
   "metadata": {},
   "outputs": [
    {
     "data": {
      "text/plain": [
       "array(['000', '007', '10', ..., 'zoo', 'zooeydeschanel', 'zoëkravitz'],\n",
       "      dtype=object)"
      ]
     },
     "execution_count": 136,
     "metadata": {},
     "output_type": "execute_result"
    }
   ],
   "source": [
    "cv.get_feature_names_out()"
   ]
  },
  {
   "cell_type": "code",
   "execution_count": null,
   "id": "a6f8f042",
   "metadata": {},
   "outputs": [],
   "source": [
    "# one problem need to solve\n",
    "# [ 'loving','love','loved'] are considered to be same and for that we will use\n",
    "# stem function mentioned above\n",
    "['loving','loved','love']\n",
    "['love','love','love']"
   ]
  },
  {
   "cell_type": "code",
   "execution_count": 137,
   "id": "04343847",
   "metadata": {},
   "outputs": [
    {
     "data": {
      "text/plain": [
       "'love'"
      ]
     },
     "execution_count": 137,
     "metadata": {},
     "output_type": "execute_result"
    }
   ],
   "source": [
    "ps.stem('loving')"
   ]
  },
  {
   "cell_type": "code",
   "execution_count": 144,
   "id": "c0add614",
   "metadata": {},
   "outputs": [],
   "source": [
    "import sklearn.metrics.pairwise \n",
    "from sklearn.metrics.pairwise import cosine_similarity"
   ]
  },
  {
   "cell_type": "code",
   "execution_count": 145,
   "id": "31f146bb",
   "metadata": {},
   "outputs": [
    {
     "data": {
      "text/plain": [
       "array([[1.        , 0.06745406, 0.07624929, ..., 0.04357102, 0.        ,\n",
       "        0.        ],\n",
       "       [0.06745406, 1.        , 0.07372098, ..., 0.02106314, 0.        ,\n",
       "        0.02275079],\n",
       "       [0.07624929, 0.07372098, 1.        , ..., 0.02380952, 0.        ,\n",
       "        0.        ],\n",
       "       ...,\n",
       "       [0.04357102, 0.02106314, 0.02380952, ..., 1.        , 0.04307305,\n",
       "        0.04408667],\n",
       "       [0.        , 0.        , 0.        , ..., 0.04307305, 1.        ,\n",
       "        0.09304842],\n",
       "       [0.        , 0.02275079, 0.        , ..., 0.04408667, 0.09304842,\n",
       "        1.        ]])"
      ]
     },
     "execution_count": 145,
     "metadata": {},
     "output_type": "execute_result"
    }
   ],
   "source": [
    "cosine_similarity(vectors)"
   ]
  },
  {
   "cell_type": "code",
   "execution_count": 151,
   "id": "22cb7937",
   "metadata": {},
   "outputs": [],
   "source": [
    "similarity = cosine_similarity(vectors)\n",
    "# all individual movies distance is calculating from other 4806 moives "
   ]
  },
  {
   "cell_type": "code",
   "execution_count": 164,
   "id": "08982588",
   "metadata": {},
   "outputs": [
    {
     "data": {
      "text/plain": [
       "[(1216, 0.2734059812161834),\n",
       " (582, 0.2362497692874473),\n",
       " (2333, 0.23489478196744007),\n",
       " (507, 0.22874785549890703),\n",
       " (539, 0.22874785549890703)]"
      ]
     },
     "execution_count": 164,
     "metadata": {},
     "output_type": "execute_result"
    }
   ],
   "source": [
    "# we have created list with enum function to hold indexes which might loose \n",
    "# after sorting operation\n",
    "sorted(list(enumerate(similarity[0])),reverse=True,key = lambda x:x[1])[1:6]\n",
    "# we use lambda function bcoz we need to sort according to the second index\n",
    "# [1:6] return s the first five movies"
   ]
  },
  {
   "cell_type": "code",
   "execution_count": 159,
   "id": "f31e2d39",
   "metadata": {},
   "outputs": [],
   "source": [
    "#sorted(similarity[0],reverse = True)"
   ]
  },
  {
   "cell_type": "code",
   "execution_count": 182,
   "id": "b0763f8b",
   "metadata": {},
   "outputs": [],
   "source": [
    "# returning the similar movies\n",
    "def recommend(movie):\n",
    "    movie_index = new_dataframe[new_dataframe['title'] == 'Batman Begins'].index[0]\n",
    "    distances = similarity[movie_index]\n",
    "    movies_list = sorted(list(enumerate(distances)),reverse=True,key = lambda x:x[1])[1:6]\n",
    "    for i in movies_list:\n",
    "        print(new_dataframe.iloc[i[0]].title)\n",
    "        #print(i[0])\n",
    "    "
   ]
  },
  {
   "cell_type": "code",
   "execution_count": 186,
   "id": "9ff3b6b8",
   "metadata": {},
   "outputs": [
    {
     "name": "stdout",
     "output_type": "stream",
     "text": [
      "The Dark Knight\n",
      "Batman\n",
      "The Dark Knight Rises\n",
      "Amidst the Devil's Wings\n",
      "Batman\n"
     ]
    }
   ],
   "source": [
    "recommend('Batman Begins')"
   ]
  },
  {
   "cell_type": "code",
   "execution_count": 184,
   "id": "0f87d15c",
   "metadata": {},
   "outputs": [
    {
     "data": {
      "text/plain": [
       "119"
      ]
     },
     "execution_count": 184,
     "metadata": {},
     "output_type": "execute_result"
    }
   ],
   "source": [
    "# finding the index of the movies \n",
    "new_dataframe[new_dataframe['title'] == 'Batman Begins'].index[0]"
   ]
  },
  {
   "cell_type": "code",
   "execution_count": 185,
   "id": "c48eddf9",
   "metadata": {},
   "outputs": [],
   "source": [
    "# it will fetch movie name from movie index\n",
    "# new_dataframe.iloc[65].title"
   ]
  },
  {
   "cell_type": "code",
   "execution_count": null,
   "id": "c9f5779d",
   "metadata": {},
   "outputs": [],
   "source": [
    "# now to convert this entire thing into a website so lets go in pycharm :>"
   ]
  }
 ],
 "metadata": {
  "kernelspec": {
   "display_name": "Python 3 (ipykernel)",
   "language": "python",
   "name": "python3"
  },
  "language_info": {
   "codemirror_mode": {
    "name": "ipython",
    "version": 3
   },
   "file_extension": ".py",
   "mimetype": "text/x-python",
   "name": "python",
   "nbconvert_exporter": "python",
   "pygments_lexer": "ipython3",
   "version": "3.10.7"
  }
 },
 "nbformat": 4,
 "nbformat_minor": 5
}
